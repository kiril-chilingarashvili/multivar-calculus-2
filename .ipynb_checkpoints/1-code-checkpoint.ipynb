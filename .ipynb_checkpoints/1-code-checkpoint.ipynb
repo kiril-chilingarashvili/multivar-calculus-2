{
 "cells": [
  {
   "cell_type": "code",
   "execution_count": 8,
   "id": "c0606873",
   "metadata": {},
   "outputs": [],
   "source": [
    "import math\n",
    "import numpy as np"
   ]
  },
  {
   "cell_type": "code",
   "execution_count": 60,
   "id": "95562def",
   "metadata": {},
   "outputs": [],
   "source": [
    "def f(v):\n",
    "    x = v[0]\n",
    "    y = v[1]\n",
    "    res = (x+math.sin(y))/(x-math.sin(y))\n",
    "    # print(x, y, res)\n",
    "    return res"
   ]
  },
  {
   "cell_type": "code",
   "execution_count": 64,
   "id": "58d35b7c",
   "metadata": {},
   "outputs": [
    {
     "data": {
      "text/plain": [
       "(65.81767177060068, 0.6581767177060065)"
      ]
     },
     "execution_count": 64,
     "metadata": {},
     "output_type": "execute_result"
    }
   ],
   "source": [
    "ax = np.arange(1.0, 3.0, 0.1)\n",
    "ay = np.arange(4, 5, 0.1)\n",
    "a = [(x,y) for x in ax for y in ay]\n",
    "s = 0.0\n",
    "s1 = 0.0\n",
    "for v in a:\n",
    "    s = s + f(v)\n",
    "    s1 = s1 + f(v)*0.1*0.1\n",
    "s, s1"
   ]
  },
  {
   "cell_type": "markdown",
   "id": "ca22df73",
   "metadata": {},
   "source": []
  },
  {
   "cell_type": "markdown",
   "id": "48fb7bca",
   "metadata": {},
   "source": []
  }
 ],
 "metadata": {
  "kernelspec": {
   "display_name": "Python 3",
   "language": "python",
   "name": "python3"
  },
  "language_info": {
   "codemirror_mode": {
    "name": "ipython",
    "version": 3
   },
   "file_extension": ".py",
   "mimetype": "text/x-python",
   "name": "python",
   "nbconvert_exporter": "python",
   "pygments_lexer": "ipython3",
   "version": "3.6.15"
  }
 },
 "nbformat": 4,
 "nbformat_minor": 5
}
