{
 "cells": [
  {
   "cell_type": "markdown",
   "id": "5c0e10b9-459a-4b63-98db-3608fce4a0b9",
   "metadata": {},
   "source": [
    "# Unit1: Double Integrals - Introduction"
   ]
  },
  {
   "cell_type": "markdown",
   "id": "a484bda3-f724-432e-90ca-dc1bfe3ec3a9",
   "metadata": {},
   "source": [
    "## Definition of double integrals\n",
    "\n",
    "### ***Area Below Graph***\n",
    "### Recall that $\\displaystyle \\int_{a}^{b} f(x) dx$ is used to find the area below the graph of $y=f(x)$ over $[a, b]$.\n",
    "![img](img/img-1-1.png)\n",
    "## $$ \\text{Area} = \\int_{a}^{b} f(x) dx $$\n",
    "\n",
    "### ***Volume Below Graph***\n",
    "### For a function $f(x, y)$, we can generalize \"area under curve\" to \"volume under surface\" using a double integral.\n",
    "\n",
    "### ***Volume Under Surface***"
   ]
  },
  {
   "cell_type": "code",
   "execution_count": 3,
   "id": "e93286b5-7197-42f1-9b5c-948788bf9656",
   "metadata": {
    "source_hidden": true,
    "tags": []
   },
   "outputs": [
    {
     "data": {
      "text/html": [
       "<iframe width=\"900\" height=\"650\" src=\"https://courses.edx.org/asset-v1:MITx+18.02.2x+2T2022+type@asset+block/threejs_u6_VolumeUnderSurface.html\" frameborder=\"0\" allow=\"accelerometer; autoplay; clipboard-write; encrypted-media; gyroscope; picture-in-picture\" allowfullscreen></iframe>  \n"
      ],
      "text/plain": [
       "<IPython.core.display.HTML object>"
      ]
     },
     "metadata": {},
     "output_type": "display_data"
    }
   ],
   "source": [
    "%%html\n",
    "<iframe width=\"900\" height=\"650\" src=\"https://courses.edx.org/asset-v1:MITx+18.02.2x+2T2022+type@asset+block/threejs_u6_VolumeUnderSurface.html\" frameborder=\"0\" allow=\"accelerometer; autoplay; clipboard-write; encrypted-media; gyroscope; picture-in-picture\" allowfullscreen></iframe>  "
   ]
  },
  {
   "cell_type": "markdown",
   "id": "28a5dcb5-d10b-495d-90b5-fadc5514ffdd",
   "metadata": {},
   "source": [
    "### ***Definition 2.1***\n",
    "### The double integral of a function $f(x, y)$ over a region $R$ is the volume under the graph $z=f(x, y)$ above the region $R$ (the region $R$ is a subset of the $xy$-plane).\n",
    "## $$ \\iint_{R} f(x, y) dA $$\n",
    "\n",
    "### More rigorously, $\\displaystyle \\iint_{R} f(x, y) dA$ is defined as\n",
    "## $$ \\text{(Rigorous Definition)} \\quad \\iint_{R} f(x, y) dA = \\lim_{n\\to \\infty} \\sum_{i=1}^{n} f(x_i, y_i) \\operatorname{Area}(A_i) $$\n",
    "\n",
    "### where $A_1, \\ldots,A_n$ are obtained by cutting $R$ into $n$ non-overlapping pieces whose areas go to zero as $n \\to \\infty$, and each $(x_1, y_1)$ is a point in $A_i$.\n",
    "\n",
    "### Geometrically, the right-hand-side represents an approximation of the volume under $z=f(x, y)$ using the pieces $A_i$. Each term $f(x_i, y_i)\\operatorname{Area}(A_i)$ can be visualized as the volume of a block of height $f(x_i, y_i)$ with base $A_i$. The visualization below shows one such block for a rectangular $A_i$.\n",
    "\n",
    "### ***Block Under Surface***"
   ]
  },
  {
   "cell_type": "code",
   "execution_count": 4,
   "id": "c9687483-e08d-4382-a018-c23ea47f5e81",
   "metadata": {
    "jupyter": {
     "source_hidden": true
    },
    "tags": []
   },
   "outputs": [
    {
     "data": {
      "text/html": [
       "<iframe width=\"900\" height=\"650\" src=\"https://courses.edx.org/asset-v1:MITx+18.02.2x+2T2022+type@asset+block/threejs_u6_ParallelepipedUnderSurface.html\" frameborder=\"0\" allow=\"accelerometer; autoplay; clipboard-write; encrypted-media; gyroscope; picture-in-picture\" allowfullscreen></iframe>\n"
      ],
      "text/plain": [
       "<IPython.core.display.HTML object>"
      ]
     },
     "metadata": {},
     "output_type": "display_data"
    }
   ],
   "source": [
    "%%html\n",
    "<iframe width=\"900\" height=\"650\" src=\"https://courses.edx.org/asset-v1:MITx+18.02.2x+2T2022+type@asset+block/threejs_u6_ParallelepipedUnderSurface.html\" frameborder=\"0\" allow=\"accelerometer; autoplay; clipboard-write; encrypted-media; gyroscope; picture-in-picture\" allowfullscreen></iframe>"
   ]
  },
  {
   "cell_type": "markdown",
   "id": "de9ba148-aadf-4ff6-b4a6-a64d571e1e96",
   "metadata": {},
   "source": [
    "### Although this is the definition, there are more practical methods to actually compute these volumes."
   ]
  },
  {
   "cell_type": "markdown",
   "id": "86bff851-397b-47b4-911c-fcbf8b2a1419",
   "metadata": {},
   "source": [
    "## Iterated integral theory\n",
    "\n",
    "### ***Volume By Slicing***"
   ]
  },
  {
   "cell_type": "code",
   "execution_count": 5,
   "id": "a3b352c0-3c61-42de-ae28-3f5b08a73c78",
   "metadata": {
    "jupyter": {
     "source_hidden": true
    },
    "tags": []
   },
   "outputs": [
    {
     "data": {
      "text/html": [
       "<iframe width=\"900\" height=\"650\" src=\"https://courses.edx.org/asset-v1:MITx+18.02.2x+2T2022+type@asset+block/threejs_u6_VolumeSliceSlider.html\" frameborder=\"0\" allow=\"accelerometer; autoplay; clipboard-write; encrypted-media; gyroscope; picture-in-picture\" allowfullscreen></iframe>\n"
      ],
      "text/plain": [
       "<IPython.core.display.HTML object>"
      ]
     },
     "metadata": {},
     "output_type": "display_data"
    }
   ],
   "source": [
    "%%html\n",
    "<iframe width=\"900\" height=\"650\" src=\"https://courses.edx.org/asset-v1:MITx+18.02.2x+2T2022+type@asset+block/threejs_u6_VolumeSliceSlider.html\" frameborder=\"0\" allow=\"accelerometer; autoplay; clipboard-write; encrypted-media; gyroscope; picture-in-picture\" allowfullscreen></iframe>"
   ]
  },
  {
   "cell_type": "markdown",
   "id": "b9878167-949f-402d-815b-e7a5bbac1456",
   "metadata": {},
   "source": [
    "### ***Computing double integrals with slices***\n",
    "### Instead of computing a double integral by adding up many small pieces, we can count the volume \"one slice at a time\". \n",
    "### For a given value of $x$, let $S(x)$ be the two-dimensional area of a cross-section of the surface $z=f(x, y)$ along a plane parallel to the $yz$-plane and going through $x$. Then we can say\n",
    "## $$ \\iint_{R} f(x, y) dA = \\int_{A}^{B} S(x) dx $$\n",
    "\n",
    "### The endpoints $A$ and $B$ will depend on the region $R$.\n",
    "\n",
    "### In particular, $A$ and $B$ must be chosen such that the interval $[A, B]$ contains exactly the $x$-coordinates of the points in $R$.\n",
    "## $$ \\begin{array} {rcl} A & = & x_{\\min} \\\\ B & = & x_{\\max} \\end{array} $$\n",
    "\n",
    "### Assuming we have found $A$ and $B$, the only remaining unknown is the function $S(x)$. This area can be computed by finding the area under the curve that describes the slice. In other words,\n",
    "## $$ S(x) = \\int_{C}^{D} f(x, y) dy $$\n",
    "\n",
    "### where the $C$ and $D$ must be chosen such that the interval $[C, D]$ contains exactly the $y$-coordinates of the points in $R$ for the given slice at $x$.\n",
    "## $$ \\begin{array} {rcl} C & = & y_{\\min}(x) \\\\ D & = & y_{\\max}(x) \\end{array} $$\n",
    "\n",
    "### Note that $C$ and $D$ will likely be functions of $x$, since at different $x$-values the region will contain wider or narrower $y$-intervals.\n",
    "\n",
    "### Figuring out the endpoints $A,B,C$ and $D$ can be challenging when the region $R$ is complicated. Finding these endpoints is often a large part of the solution to a double integral problem.\n",
    "\n",
    "### ***Takeaway***\n",
    "### We have shown that, rather than using the definition, we can compute a double integral as\n",
    "## $$ \\iint_{R} f(x, y) dA = \\int_{x_{\\min}}^{x_{\\max}} \\int_{y_{\\min}(x)}^{y_{\\max}(x)} f(x, y) dy dx $$\n",
    "\n",
    "### The right-hand-side is called an ***iterated integral***.\n",
    "\n",
    "### The figure below demonstrates the meaning of $x_{\\min}, x_{\\max}, y_{\\min}(x), y_{\\max}(x)$.\n",
    "![img](img/img-1-2.png)\n",
    "\n",
    "### When finding the endpoints for the region $R$, we can think of $x_{\\min}$ and $x_{\\max}$ as the leftmost and rightmost $x$-coordinates of $R$. Next, to figure out $y_{\\min}(x)$ and $y_{\\max}(x)$, we imagine a random value of $x$, and draw a corresponding vertical line through $R$. The values of $y_{\\min}(x)$ and $y_{\\max}(x)$ are defined by the points where this vertical line enters and exits the region $R$.\n",
    "\n",
    "### The type of picture shown above is often very useful when it comes to figuring out the endpoints of integration.\n",
    "\n",
    "### ***Remark 3.1***\n",
    "### In the description above, we referred to $A,B,C,D$ as “endpoints\". It is also common to refer to them as the “limits\" or “bounds\" of integration. These three terms are synonymous, in the context of integrals."
   ]
  },
  {
   "cell_type": "markdown",
   "id": "c07cef9a-5882-4360-9270-530308b7f224",
   "metadata": {},
   "source": []
  }
 ],
 "metadata": {
  "kernelspec": {
   "display_name": "Python 3",
   "language": "python",
   "name": "python3"
  },
  "language_info": {
   "codemirror_mode": {
    "name": "ipython",
    "version": 3
   },
   "file_extension": ".py",
   "mimetype": "text/x-python",
   "name": "python",
   "nbconvert_exporter": "python",
   "pygments_lexer": "ipython3",
   "version": "3.8.8"
  }
 },
 "nbformat": 4,
 "nbformat_minor": 5
}
