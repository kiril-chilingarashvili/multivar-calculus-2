{
 "cells": [
  {
   "cell_type": "markdown",
   "id": "028eacb5-30f1-4470-96f1-2b5f019c5b58",
   "metadata": {},
   "source": [
    "# Course Introduction"
   ]
  },
  {
   "cell_type": "markdown",
   "id": "d7947f18-872e-40bc-ba05-e9b2bae9538e",
   "metadata": {},
   "source": [
    "## Recap: Single-variable integration\n",
    "\n",
    "### ***Definite Integrals***\n",
    "### The expression $\\displaystyle \\int_{a}^{b} f(x) dx$ is known as the definite integral over the interval $[ a, b]$ of the function $f(x)$ (often assumed to be continuous). If $f(x) \\geq 0$ for all $x$ in $[a,b]$, then $\\displaystyle \\int_{a}^{b} f(x) dx$ is equal to the area under the curve $y=f(x)$ and above the $x$-axis, between the vertical lines $x=a$ and $x=b$. More generally, $\\displaystyle \\int_{a}^{b} f(x) dx$ is interpreted as counting area positively when $f(x) \\geq 0$ and negatively when $f(x) \\leq 0$.\n",
    "\n",
    "### ***Computing a Definite Integral***\n",
    "### The rigorous definition of $\\displaystyle \\int_{a}^{b} f(x) dx$ involves a Riemann Sum. However, we can usually compute $\\displaystyle \\int_{a}^{b} f(x) dx$ without resorting to the rigorous definition, thanks to the Fundamental Theorem of Calculus:\n",
    "## $$ \\text{(Fundamental Theorem of Calculus)} \\quad \\int_{a}^{b} f(x) dx = F(b) - F(a) $$\n",
    "### where $F$ is an antiderivative of $f$, meaning:\n",
    "## $$ F'(x) = f(x) \\quad \\text{(} F \\, \\text{is antiderivative of}\\, f \\text{)} $$\n",
    "\n",
    "### ***Example 1***\n",
    "### The area under the curve $y=x^2$ between $-1$ and $1$ can be computed as:\n",
    "## $$ \\begin{array} {rcl} \\displaystyle \\int_{-1}^{1} x^2 dx & = & \\displaystyle \\left.\\frac{x^3}{3}\\right|_{-1}^{1} \\\\ \\, & = & \\displaystyle \\frac{1^3}{3} - \\frac{(-1)^3}{3} \\\\ \\, & = & \\displaystyle \\frac{2}{3} \\end{array} $$\n",
    "\n",
    "### ***Notes on notation***\n",
    "### (1) We will continue to use the “bar notation\" seen above:\n",
    "## $$ \\text{(Bar notation)} \\quad \\left.F(x)\\right|_a^b = F(b) - F(a) $$\n",
    "\n",
    "### (2) Throughout this course, we will often use the shorthand $\\displaystyle \\int A + B dx$ for $\\displaystyle \\int (A + B) dx$. The meaning should be clear, since integrals always have a differential symbol at the end."
   ]
  },
  {
   "cell_type": "markdown",
   "id": "87acddf3-bbfa-4fc3-8ed6-6dff816b1d36",
   "metadata": {},
   "source": [
    "## Techniques of integration\n",
    "\n",
    "### ***Indefinite Integrals***\n",
    "### An integral without endpoints, such as $\\displaystyle \\int f(x) dx$ is known as an “indefinite integral\". If $F(x)$ is any antiderivative of $f(x)$, then we say\n",
    "## $$ \\int f(x) dx = F(x) + C \\quad \\text{(Indefinite integral))} $$\n",
    "\n",
    "### In this way, an indefinite integral represents all possible antiderivatives of $f(x)$.\n",
    "\n",
    "### ***Remark 3.1***\n",
    "### The indefinite integral is a convenient notation to have because it is the function you would need to find to solve a corresponding definite integral.\n",
    "\n",
    "### That being said, in multivariable calculus, it is much more common to work directly with definite integrals.\n",
    "\n",
    "### ***Techniques of Integration***\n",
    "### Finding antiderivatives is not always a straightforward process. There are several standard techniques that come in useful:\n",
    "- ### Guess-and-check\n",
    "- ### Substitution (also called “change of variables\")\n",
    "- ### Integration by parts\n",
    "- ### Trig-substitution (an example of “inverse substitution\")\n",
    "\n",
    "### In this course, we will assume you are familiar with all of these techniques. You may wish to brush up on them as needed. In the boxes below are examples of each technique.\n",
    "\n",
    "### ***Guess-and-check***\n",
    "### Suppose we need to find $\\displaystyle \\int 3 e^{-2x} dx $. If you have dealt with integrals like this before, you might guess that the anti-derivative will also contain an $e^{-2x}$. If we take the derivative of $e^{-2x}$ we get $-2e^{-2x}$. To change that $-2$ into a $3$, we can multiply through by $\\displaystyle \\frac{3}{-2}$. Thus, our final answer is\n",
    "## $$ \\int 3 e^{-2x} dx = \\frac{3}{-2} e^{-2x} + C $$\n",
    "### Guess-and-check is not always reliable because it relies on certain insights and clues that might not be evident at first glance."
   ]
  },
  {
   "cell_type": "markdown",
   "id": "95ee64d2-d103-4ff2-8704-562158505585",
   "metadata": {},
   "source": [
    "### ***Substitution***\n",
    "### Consider the integral $\\displaystyle \\int x \\sqrt{1+x^2} dx$. Letting $u=1+x^2$ we have $du = 2x dx$, or $\\displaystyle \\frac{1}{2} du = x dx$. Thus,\n",
    "## $$ \\int x \\sqrt{1+x^2} dx = \\int \\sqrt{u} \\frac{1}{2} du $$\n",
    "\n",
    "### The latter integral can be evaluated:\n",
    "## $$ \\begin{array} {rcl} \\displaystyle \\int \\sqrt{u} \\frac{1}{2} du & = & \\displaystyle  \\frac{1}{2}\\frac{u^{\\frac{3}{2}}}{\\frac{3}{2}} \\\\ \\, & = & \\displaystyle \\frac{u^{\\frac{3}{2}}}{3}+C \\end{array} $$\n",
    "\n",
    "### Re-writing with $u = 1 + x^2$ we have our answer:\n",
    "## $$ \\int x \\sqrt{1+x^2} dx = \\frac{(1+x^2)^{\\frac{3}{2}}}{3} + C $$\n",
    "\n",
    "### When doing a definite integral, the endpoints can be carried along by converting from $x$-endpoints to $u$-endpoints. Using the above example:\n",
    "## $$ \\int_{0}^{2} x\\sqrt{1+x^2} dx = \\int_{1}^{5} \\sqrt{u} \\left( \\frac{1}{2} du \\right) $$\n",
    "\n",
    "### The $1$ and $5$ come from plugging $0$ and $2$ into the formula for $u$ respectively (that is, $0^2 + 1 = 1$ and $2^2+1=5$). Since $\\displaystyle \\int_{1}^{5} \\frac{1}{2} \\sqrt{u} du = \\frac{5^{\\frac{3}{2}}}{3} - \\frac{1}{3}$, that is our final answer:\n",
    "## $$ \\int_{0}^{2} \\sqrt{1+x^2} dx = \\frac{5^{\\frac{3}{2}}}{3} - \\frac{1}{3} $$\n"
   ]
  },
  {
   "cell_type": "markdown",
   "id": "9b6e72c5-17c7-4b1e-8df4-aa52fbbc9717",
   "metadata": {},
   "source": [
    "### ***Integration by parts***\n",
    "### The integration by parts formula is often written as\n",
    "## $$ \\int u dv = uv - \\int v du $$\n",
    "\n",
    "### The challenge is to choose $u$ and $dv$ so that $\\displaystyle \\int v du$ can be computed.\n",
    "\n",
    "### For example, consider $\\displaystyle \\int x \\cos(x) dx$. By letting $u = x$ and $dv = \\cos(x) dx$ we have $du = dx$ and $v = \\sin(x)$. Thus,\n",
    "## $$ \\begin{array} {rcl} \\displaystyle \\int x \\cos(x) dx & = & \\displaystyle x \\sin(x) - \\int\\sin(x) dx \\\\ \\, & = & \\displaystyle x \\sin(x) + \\cos(x) + C \\end{array} $$\n",
    "\n",
    "### For a definite integral, the integration by parts formula can be written:\n",
    "## $$ \\int_{a}^{b} u dv = \\left. uv \\right|_{a}^{b} - \\int_{a}^{b} v du $$\n",
    "\n",
    "### To clarify this notation, here is a full example:\n",
    "## $$ \\begin{array} {rcl} \\displaystyle \\int_{0}^{\\pi} x \\cos(x) dx & = & \\displaystyle\\left.x\\sin(x)\\right|_{0}^{\\pi} - \\int_{0}^{\\pi} \\sin(x) dx \\\\ \\, & = & \\displaystyle(\\pi \\sin(\\pi) - 0\\sin(0)) - (-\\left.\\cos(x)\\right|_{0}^{\\pi}) \\\\ \\, & = & \\displaystyle(0-0) - (-\\cos(\\pi) + \\cos(0)) \\\\ \\, & = & \\displaystyle -2 \\end{array} $$\n"
   ]
  },
  {
   "cell_type": "markdown",
   "id": "86d4d35e-5359-4b32-af57-e181d4328725",
   "metadata": {},
   "source": [
    "### ***Trig substitution***\n",
    "### A “trig substitution\" is used to simplify integrals via a change of variables such as $x=\\sin(u)$. For example, consider the integral $\\displaystyle \\int \\sqrt{1-x^2} dx$. Let $x=\\sin(u)$, and we get $dx = \\cos(u)du$ so the new integral is:\n",
    "## $$ \\int \\sqrt{1-\\sin^2 (u)} \\cos(u) du $$\n",
    "\n",
    "### which can be further simplified to\n",
    "## $$ \\int \\cos^2(u) du $$\n",
    "\n",
    "### The integral of $\\cos^2(u)$ can be computed using a trig-identity for $\\cos^2(u)$ such as $\\displaystyle \\cos^2(u) = \\frac{1+\\cos(2u)}{2}$ (this comes from one of the standard “double-angle identities\"). Thus,\n",
    "## $$ \\begin{array} {rcl} \\displaystyle \\int \\cos^2(u)du & = & \\displaystyle \\int \\frac{1+\\cos(2u)}{2} du \\\\ \\, & = & \\displaystyle \\frac{u}{2}+\\frac{\\sin(2u)}{4} + C \\end{array} $$\n",
    "\n",
    "### To finish the indefinite integral, we would need to rewrite the above expression using $x$ instead of $u$. Since this requires inverse trig, we omit the details. Instead, when doing a definite integral, it is often easier to carry the endpoints along in the usual way.\n",
    "\n",
    "### To demonstrate, let's find $\\displaystyle \\int_{0}^{\\frac{1}{2}} \\sqrt{1-x^2} dx$. We have:\n",
    "## $$ \\int_{0}^{\\frac{1}{2}} \\sqrt{1-x^2} dx = \\int_{0}^{\\frac{\\pi}{6}} \\sqrt{1-\\sin^2(u)} \\cos(u) du $$\n",
    "\n",
    "### where the new endpoints $0$ and $\\frac{\\pi}{6}$ are obtained by substituting $0$ and $\\frac{1}{2}$ for $x$ in the equation $x=\\sin(u)$ and solving for $u$. Continuing,\n",
    "## $$ \\begin{array} {rcl} \\displaystyle \\int_{0}^{\\frac{\\pi}{6}} \\sqrt{1-\\sin^2(u)} \\cos(u) du & = & \\displaystyle \\left.\\left( \\frac{u}{2} + \\frac{\\sin(2u)}{4} \\right)\\right|_{0}^{\\frac{\\pi}{6}} \\\\ \\, & = & \\displaystyle \\frac{\\frac{\\pi}{6}}{2} + \\frac{\\sin(\\frac{\\pi}{3})}{4} - 0 - 0 \\\\ \\, & = & \\displaystyle \\frac{\\pi}{12} + \\frac{\\sqrt{3}}{8} \\end{array} $$\n",
    "\n",
    "### How does one know to use a trig substitution? It isn't always easy to say, but certain patterns such as $\\sqrt{1-x^2}$ or $\\displaystyle \\frac{1}{1+x^2}$ give clues that a trig substitution might simplify the integral.\n",
    "\n",
    "### ***Remark***:\n",
    "### When doing a trig substitution, we are expressing the existing variable $x$ in terms of an invented variable $u$. The usual substitutions (such as $u=x^2$) involve the reverse, that is, we express an invented variable $u$ in terms of an existing variable $x$. For this reason, the more common substitutions (such as $u=x^2$) are sometimes referred to as “direct substitution\". On the other hand, trig substitutions would be called “inverse substitutions.\"\n"
   ]
  },
  {
   "cell_type": "markdown",
   "id": "14435cd9-b39e-49f6-9eeb-8d8e9cee59ed",
   "metadata": {},
   "source": [
    "### ***Trig identities***\n",
    "### Integrals involving $\\sin(x)$, $\\cos(x)$, and other trigonometric functions can sometimes be simplified using trigonometric identities.\n",
    "\n",
    "### The most common example is $\\displaystyle \\int \\cos^2(x) dx$. To solve this integral, we can use the following double angle identity:\n",
    "## $$ \\cos(2\\theta) = 2 \\cos^2 (\\theta) - 1 $$\n",
    "\n",
    "### Solving for $\\cos^2(\\theta)$ and replacing $\\theta$ by $x$ gives us:\n",
    "## $$ \\cos^2(x) = \\frac{\\cos(2x) + 1}{2} $$\n",
    "\n",
    "### We can now integrate both sides:\n",
    "## $$ \\begin{array} {rcl} \\displaystyle \\int \\cos^2(x) dx & = & \\displaystyle \\int \\frac{\\cos(2x) + 1}{2} dx \\\\ \\, & = & \\displaystyle \\frac{1}{2} \\left( \\frac{-\\sin(2x)}{2} + x \\right) + C \\\\ \\, & = & \\frac{1}{4}(2x - \\sin(2x))+C \\end{array} $$\n",
    "\n",
    "### An extension of this idea can be used to integrate even higher powers of $\\sin(x)$ or $\\cos(x)$, but know that these higher powers are not common in this course.\n",
    "\n",
    "### ***Footnote***:\n",
    "### there are other techniques of integration (such as Partial Fraction Decomposition), but they will not be used in this course."
   ]
  },
  {
   "cell_type": "markdown",
   "id": "930ee4ec-6e6b-40e7-bcef-b26faa3bde47",
   "metadata": {},
   "source": [
    "## Integrals as infinite sums\n",
    "\n",
    "### The most common interpretation for $\\displaystyle \\int_{a}^{b} f(x) dx$ is the (signed) area under the curve $y=f(x)$ between $x=a$ and $x=b$. Although this interpretation is often useful, integrals have other uses beyond computing areas.\n",
    "\n",
    "### More generally, whenever a quantity varies with a variable $x$, the integral $\\displaystyle \\int_{a}^{b} f(x) dx$ represents a type of accumulated value of that quantity as $x$ goes from $a$ to $b$. We illustrate this idea with some examples."
   ]
  },
  {
   "cell_type": "markdown",
   "id": "e7fee878-8b7e-4aa2-a1bf-9ea5f0d6dc81",
   "metadata": {},
   "source": [
    "### ***Example 4.1***\n",
    "\n",
    "### Suppose a machine produces waste at a variable rate throughout an hour. Several measurements are taken, and it is determined that after $t$ minutes, the machine is producing waste at a rate of $W(t) = \\frac{1}{2} t^2$ grams per minute.\n",
    "\n",
    "### For example, after $10$ minutes, the rate of waste production is $W(10) = 50$ grams per minute.\n",
    "\n",
    "### How much waste is produced by the machine over the course of the first half-hour?\n",
    "\n",
    "### ***Solution***:\n",
    "### Here we want to “accumulate\" the value of $W(t)$ as $t$ goes from $0$ to $30$. Therefore, the answer is $\\displaystyle \\int_{0}^{30} W(t) dt$ (which comes out to $4.5$ kilograms).\n",
    "\n",
    "### One way to arrive at this answer is to try to estimate the amount of waste by cutting the interval $[0,30]$ into $N$ pieces. One arrives at the Riemann Sum definition of the integral.\n",
    "\n",
    "### A good sanity check is to examine the units. In this case, we should check that our answer, $\\displaystyle \\int_{0}^{30} W(t) dt$, has units of grams. The units of $W(t)$ are grams per minute, and the units of $dt$ are minutes ($dt$ represents a small amount of time). Since the integrand has units of grams, and the integral represents an infinite sum of the integrand, the integral will also have units of grams, as expected."
   ]
  },
  {
   "cell_type": "markdown",
   "id": "b7617771-7ef2-400a-b421-e53f6464b6e0",
   "metadata": {},
   "source": []
  }
 ],
 "metadata": {
  "kernelspec": {
   "display_name": "Python 3",
   "language": "python",
   "name": "python3"
  },
  "language_info": {
   "codemirror_mode": {
    "name": "ipython",
    "version": 3
   },
   "file_extension": ".py",
   "mimetype": "text/x-python",
   "name": "python",
   "nbconvert_exporter": "python",
   "pygments_lexer": "ipython3",
   "version": "3.8.8"
  }
 },
 "nbformat": 4,
 "nbformat_minor": 5
}
