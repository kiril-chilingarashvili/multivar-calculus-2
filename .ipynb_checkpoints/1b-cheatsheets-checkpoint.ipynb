{
 "cells": [
  {
   "cell_type": "markdown",
   "id": "198ceca0-bfe3-4e87-bd6a-94823df07d4e",
   "metadata": {},
   "source": [
    "# Unit 1: Double Integrals - Part b - Polar Integrals and Applications"
   ]
  },
  {
   "cell_type": "markdown",
   "id": "c0a55465-fbf3-4e04-9188-b42246e64c39",
   "metadata": {},
   "source": [
    "## Introduction\n",
    "\n",
    "### In single-variable integration, we are sometimes faced with integrals such as $\\displaystyle \\int (x+10)^5$. This integral becomes much simpler after making the substitution $u = x+10$.\n",
    "\n",
    "### Double integrals benefit from a more general type of substitution known as change of variables. In this lecture, you will learn about the most common type of change of variables: switching a double integral to polar coordinates. This technique allows you to replace many complicated integrals with simple ones that can be computed more easily.\n",
    "\n",
    "### Polar coordinates are highly suitable for certain physical problems. For instance: the orbit of planets, which was a central motivation for Newton when developing Calculus.\n",
    "\n",
    "### We will also go over some common applications of double integrals to science and engineering, such as computing mass, centroids, and moments of inertia."
   ]
  },
  {
   "cell_type": "markdown",
   "id": "c96d11f2-82b7-43a7-a1ee-108ffe468c40",
   "metadata": {},
   "source": [
    "## Double integrals in polar coordinates\n",
    "\n",
    "### Previously we saw double integrals such as\n",
    "## $$ \\iint_{R} (1-x^2-y^2)dA $$\n",
    "\n",
    "### where $R$ is the quarter-disk given by $x^2+y^2\\leq 1$ and $x,y\\geq 0$.\n",
    "\n",
    "### After converting the double integral to an iterated integral $\\displaystyle \\int_0^1 \\int_0^{\\sqrt{1-x^2}} (1-x^2-y^2) dy dx$, the resulting computation was rather lengthy and required trig-substitutions. This integral becomes easier in polar coordinates.\n",
    "\n",
    "### ***Polar Coordinates***\n",
    "### Recall that polar coordinates $r$ and $\\theta$ represent a point in the plane by its distance $r$ from the origin and the amount of rotation $\\theta$ between the point and the positive $x$-axis.\n",
    "![img](img/img-2-01.png)\n",
    "\n",
    "### Rectangular and polar coordinates are related by the equations:\n",
    "## $$ \\begin{array} {rcl} x & = & r \\cos(\\theta) \\\\ y & = & r \\sin(\\theta) \\end{array} $$\n",
    "\n",
    "### When solving a double integral, instead of thinking about the range of values for $x$ and $y$, it can be easier to think about the range of values for $r$ and $\\theta$. This leads to an iterated integral $\\displaystyle \\iint dr d\\theta$.\n",
    "\n",
    "### ***Quarter-disk***\n",
    "### For the quarter-disk $R$, the range for $\\theta$ is $\\displaystyle [0, \\frac{\\pi}{2}]$, covering the first quadrant, and the range for $r$ is $[0, 1]$, since the disk has radius $1$. So far, we have\n",
    "## $$ \\iint_{R}(1-x^2-y^2)dA = \\int_{\\theta=0}^{\\frac{\\pi}{2}} \\int_{r=0}^{1} \\cdots $$\n",
    "\n",
    "### But what goes in the $\\cdots$? We need to convert $(1-x^2-y^2)dA$ to polar coordinates.\n",
    "\n",
    "### In polar coordinates, $x^2+y^2=r^2$, so $1-x^2-y^2 = 1-r^2$.\n",
    "## $$ 1-x^2-y^2 \\quad \\text{becomes} \\quad 1-r^2 $$\n",
    "\n",
    "### What about $dA$?\n",
    "\n",
    "### It turns out that $dA$ is not simply $dr d\\theta$! Instead, we have\n",
    "## $$ \\text{(Area element in polar coordinates)}\\quad dA = r \\mathop{dr} \\mathop{d\\theta} $$\n",
    "\n",
    "### To see why, imagine $A$ is a small patch of the region $R$, which is swept out as $r$ moves through $[r, r+\\Delta r]$ and $\\theta$ moves through $[\\theta, \\theta + \\Delta \\theta]$. Let $\\Delta A$ represent the area of $A$. Let's try to find $\\Delta A$ in terms of $\\Delta r$ and $\\Delta \\theta$.\n",
    "\n",
    "### If the patch $A$ is small, then $A$ is approximately a rectangle of dimensions $\\Delta r$ and $r \\Delta \\theta$. This second side is not simply $\\Delta \\theta$, because the second side is the arc length of a circle of radius $r$ with radian measure $\\Delta \\theta$, which leads to an arc length of $r \\Delta \\theta$. It follows that $\\Delta A \\approx r \\Delta r \\Delta \\theta$, which in the limit becomes $dA = r \\mathop{d\\theta} \\mathop{dr}$ or $r \\mathop{dr} \\mathop{d\\theta}$.\n",
    "\n",
    "![img](img/img-2-02.png)"
   ]
  },
  {
   "cell_type": "markdown",
   "id": "25d3f473-19b0-42d2-adf7-560bb3fe8d4a",
   "metadata": {},
   "source": [
    "### ***Finishing the example***\n",
    "\n",
    "### In polar coordinates, $x^2+y^2 = r^2$, so $1-x^2-y^2 = 1-r^2$. We can now say that $dA = r dr d\\theta$. So we have:\n",
    "## $$ \\iint_{R} (1-x^2-y^2) dA = \\int_{\\theta = 0}^{\\frac{\\pi}{2}} \\int_{r=0}^1(1-r^2)r \\mathop{dr} \\mathop{d\\theta} $$\n",
    "\n",
    "### The right-hand-side is an iterated integral which we can evaluate in the usual way:\n",
    "## $$ \\begin{array} {rcl} \\displaystyle \\int_{\\theta=0}^{\\frac{\\pi}{2}} \\int_0^1(1-r^2)r \\mathop{dr} \\mathop{d\\theta} & = & \\displaystyle \\int_{\\theta=0}^{\\frac{\\pi}{2}} \\left.\\left( \\frac{r^2}{2}-\\frac{r^4}{4} \\right)\\right|_{r=0}^1 d\\theta \\\\ \\, & = & \\displaystyle \\int_{\\theta=0}^{\\frac{\\pi}{2}} \\left(\\frac{1}{2}-\\frac{1}{4} \\right) d\\theta \\\\ \\, & = & \\displaystyle \\int_{\\theta=0}^{\\frac{\\pi}{2}} \\frac{1}{4} d\\theta \\\\ \\, & = & \\displaystyle \\boxed{\\frac{\\pi}{8}} \\end{array} $$\n",
    "\n",
    "### Indeed we get the same answer as before, without needing to do trig substitution."
   ]
  },
  {
   "cell_type": "markdown",
   "id": "691a91fc-341e-4a17-a920-3ec355627691",
   "metadata": {},
   "source": [
    "### ***When should we use polar coordinates?***\n",
    "\n",
    "### We use polar coordinates because it either simplifies the integrand, or it simplifies the bounds, or both.\n",
    "\n",
    "### In the previous example we were lucky because both the integrand and the bounds were simpler. In general, there might be a trade-off because the integrand might be simpler but the bounds are not, or vice versa.\n",
    "\n",
    "### ***How do we set up the bounds in polar coordinates?***\n",
    "\n",
    "### Most of the time, the inner integral will be $\\displaystyle \\int dr$ and the outer integral will be $\\displaystyle \\int d\\theta $. This means that, to fill in the bounds, we will usually draw a picture of the region and, for a given $\\theta$, find what interval describes the possible values of $r$ for the region.\n",
    "\n",
    "### More specifically, after drawing the region $R$ we think about the first and last values of $\\theta$ that describe the region $R$. You might draw something like the following:\n",
    "![img](img/img-2-03.png)\n",
    "\n",
    "### Next, for a given $\\theta$, we can imagine a ray with angle $\\theta$, and $r_{\\min}(\\theta)$ and $r_{\\max}(\\theta)$ correspond to the first and last points where this ray enters the region.\n",
    "![img](img/img-2-04.png) \n",
    "\n",
    "### Now we can set up the integral as\n",
    "## $$ \\int_{\\theta=\\theta_{\\min}}^{\\theta_{\\max}} \\int_{r=r_{\\min}(\\theta)}^{r_{\\max}(\\theta)} \\cdots \\mathop{dr} \\mathop{d\\theta} $$\n",
    "\n",
    "### ***Why isn't the length of the outer side of $A$ equal to $(r+\\Delta r) \\Delta \\theta$***?\n",
    "### The question is about the patch $A$ which is swept out as $r$ moves through $[r, r+\\Delta r]$ and $\\theta$ moves through $[\\theta, \\theta + \\Delta \\theta]$.\n",
    "![img](img/img-2-05.png)\n",
    "\n",
    "### In fact, it is true that the outer side of $A$ has length $(r+\\Delta r) \\Delta \\theta$.\n",
    "\n",
    "### The reason this is allowed is that it is just an approximation, intended to be correct for $\\Delta r \\to 0$. If $\\Delta r$ is small, then $(r+\\Delta r) \\approx r$, so we get the same equation $dA = r \\mathop{dr} \\mathop{d\\theta}$ either way.\n",
    "\n",
    "### If you are still skeptical of $dA = r \\mathop{dr} \\mathop{d\\theta}$, you can use the mathlet below to help convince yourself that the areas approach rectangles if you zoom in far enough.\n",
    "\n",
    "### Use the mathlet below to visualize the area element $dA = r \\mathop{dr}\\mathop{d\\theta}$ by zooming in on a grid showing $\\Delta A$. As you zoom in, $\\Delta r$ and $\\Delta \\theta$ get smaller and smaller, approaching $\\mathop{dr}$ and $\\mathop{d\\theta}$."
   ]
  },
  {
   "cell_type": "code",
   "execution_count": 5,
   "id": "b2e9491e-dd2d-44ce-92b6-2b5f4c73dda9",
   "metadata": {
    "tags": []
   },
   "outputs": [
    {
     "data": {
      "text/html": [
       "<iframe width=\"900\" height=\"730\" src=\"https://mitx-1802-next.netlify.app/mathlets/zooming-grid\" frameborder=\"0\" allow=\"accelerometer; autoplay; clipboard-write; encrypted-media; gyroscope; picture-in-picture\" allowfullscreen></iframe>\n"
      ],
      "text/plain": [
       "<IPython.core.display.HTML object>"
      ]
     },
     "metadata": {},
     "output_type": "display_data"
    }
   ],
   "source": [
    "%%html\n",
    "<iframe width=\"900\" height=\"730\" src=\"https://mitx-1802-next.netlify.app/mathlets/zooming-grid\" frameborder=\"0\" allow=\"accelerometer; autoplay; clipboard-write; encrypted-media; gyroscope; picture-in-picture\" allowfullscreen></iframe>"
   ]
  },
  {
   "cell_type": "markdown",
   "id": "e1dabe51-809c-405c-8f2e-68caa0984952",
   "metadata": {},
   "source": [
    "## Area and mass\n",
    "\n",
    "### ***Applications of double integrals***\n",
    "### Double integrals have uses beyond just finding the volume under a surface. The next several pages are devoted to some of these other applications.\n",
    "\n",
    "### ***Application 1. Find area of region***\n",
    "### Sometimes we need to know the area of a shape in the plane.\n",
    "\n",
    "### If $R$ is a two-dimensional region, then\n",
    "## $$ \\mathop{Area}(R) = \\iint_{R} 1 dA $$\n",
    "\n",
    "### One way to see that this is true is to note that the above double integral computes the volume of a shape of height $1$ with base $R$. The resulting volume is the same as the area of $R$.\n",
    "\n",
    "### ***Mass of a (flat) object with variable density***\n",
    "### If $R$ represents a flat object with density $\\delta(x, y)$ (“delta\") then\n",
    "## $$ \\mathop{Mass}(R) = \\iint_{R} \\delta(x, y) dA $$\n",
    "\n",
    "### The reason this is true is that a small piece $A_i$ of $R$ centered at $(x_i, y_i)$ contributes a mass of $\\delta(x_i, y_i) \\mathop{Area}(A_i)$. Adding these up for smaller and smaller pieces $A_i$ leads to the integral above.\n",
    "\n",
    "### ***Example 5.1*** (Mass)\n",
    "### Suppose $T$ is a triangle with vertices $(0, 0), (0, 3)$ and $(3, 3)$, with density $\\delta(x, y) = y$. Compute the mass of $T$.\n",
    "\n",
    "### Integrating in the order $\\mathop{dx}\\mathop{dy}$, the outer integral will have bounds $y=0$ to $y=3$. The inner integral will have bounds $x=0$ to $x=y$, since the hypotenuse of the triangle is given by $y=x$.\n",
    "\n",
    "### Thus,\n",
    "## $$ \\begin{array} {rcl} \\mathop{Mass}(T) & = & \\displaystyle \\iint_{T} y dA \\\\ \\, & = & \\displaystyle \\int_{y=0}^{y=3} \\int_{x=0}^{x=y} y \\mathop{dx} \\mathop{dy} \\\\ \\, & = & \\displaystyle \\int_{y=0}^{y=3} y^2 \\mathop{dy} \\\\ \\, & = & 9 \\end{array} $$\n",
    "\n",
    "### ***Remark 5.2*** (Units)\n",
    "### Here the $\\delta(x, y)$ we are talking about represents “area density\", also known as “surface density\", which has a dimension of\n",
    "## $$ \\frac{\\mathop{mass}}{\\mathop{length}^2} $$\n",
    "### Since $dA$ represents an area, it has a dimension of\n",
    "## $$ \\operatorname{length}^2 $$\n",
    "### and so the dimension of $\\displaystyle \\iint_{R} \\delta(x, y) dA$ is mass. In general, the units of a double integral is the units of $\\mathop{dx}$ times the units of $\\mathop{dy}$ times the units of the integrand."
   ]
  },
  {
   "cell_type": "markdown",
   "id": "16daf397-0ede-4c13-b064-6ff45fb107b8",
   "metadata": {},
   "source": [
    "## Average Value\n",
    "\n",
    "### ***Application 2. Average Value***\n",
    "### We can use double integrals to find the average value of a function across a region $R$.\n",
    "\n",
    "### ***Remark 7.1***\n",
    "### What do we mean by “average value\"? For a finite set of data points $z_1, \\ldots, z_n$, the average value is obtained by totaling the $z$'s and dividing by $n$. That works for finite $n$, but what if we want to know something like the average temperature over a region $R$ in the $xy$-plane consisting of infinitely many points $(x, y)$, each with temperature $z(x, y)$?\n",
    "\n",
    "### The idea is similar to the finite case. Each point $(x, y)$ in $R$ has a temperature $z(x, y)$. Although we cannot simply total these -values by summing, we can represent their total value by integrating $\\displaystyle \\iint_{R} z(x, y) dA$. Rather than dividing by the number of points, we divide by the area of the region $R$.\n",
    "\n",
    "### ***Definition 7.2***\n",
    "\n",
    "### The average value of a function $f(x, y)$ over a region $R$ is\n",
    "## $$ \\text{(Avg. value of}\\, f(x, y)\\,\\text{)} \\quad \\overline{f} = \\frac{1}{\\mathop{Area}(R)} \\iint_{R} f(x, y) dA $$\n",
    "\n",
    "### We will use the notation $\\overline{f}$ throughout this course to mean the average value of $f$ over a region $R$.\n",
    "\n",
    "### ***Weighted average***\n",
    "### We can also use double integrals to compute weighted averages.\n",
    "\n",
    "### ***Definition 7.3***\n",
    "### The weighted average value of a function $f(x, y)$ with weights $\\delta(x, y)$ is\n",
    "## $$ \\text{(Weighted Avg. value of}\\, f(x, y)\\text{)} \\quad \\frac{1}{\\mathop{Mass}(R)} \\iint_{R} f(x, y) \\delta(x, y) dA $$\n",
    "\n",
    "### where $\\mathop{Mass}(R)$ is, as usual:\n",
    "## $$ \\mathop{Mass}(R) = \\iint_{R} \\delta(x, y) dA $$\n",
    "\n",
    "### ***Remark 7.4***\n",
    "### What do we mean by “weighted average value\"? In a “weighted average,\" some data points are given more weight/importance than others. For example, if the usual temperature of a town in January is $z_1$ degrees, and the usual temperature in February is $z_2$ degrees, then we could say that the usual temperature over both months is\n",
    "## $$ \\frac{31 z_1 + 28 z_2}{31 + 28} $$\n",
    "\n",
    "### We assign a greater weight to $z_1$ because $z_1$ represents a larger number of days than $z_2$ (January is $31$ days whereas February is only $28$).\n",
    "\n",
    "### Another example is course grades: many final grades are determined by a weighted average of the student's scores in categories like homework, quizzes, and exams. If exams are given a greater weight, then it means they have a greater influence over the final grade.\n",
    "\n",
    "### In general, the weighted average of data points $z_1, \\ldots, z_n$ with weights $w_1, \\ldots, w_n$ is:\n",
    "## $$ \\frac{\\displaystyle \\sum_{i=1}^n z_i w_i}{\\displaystyle \\sum_{i=1}^n w_i} $$\n",
    "\n",
    "### This works for a finite $n$, but when there are infinitely many $z_i$, we replace both sums by integrals. This means instead of $z_i$ we will have a function $z(x)$ or $z(x, y)$, and instead of $w_i$ we will have a weighting function $\\delta(x)$ or $\\delta(x, y)$.\n",
    "\n",
    "### ***Example 7.5***   (Average value)\n",
    "\n",
    "### Suppose a uniformly thin metal plate in the $xy$-plane has vertices $(0,0), (3,0),3,9),(0,9)$. The temperature of the metal at the point $(x,y)$ is given by $T(x,y) = x^2+y^2$. Note that the temperature is $0$ at the origin, and reaches a maximum of $90$ at the vertex $(3,9)$. What is the average temperature of the plate?\n",
    "\n",
    "### The average temperature of the plate is\n",
    "## $$ \\text{(Avg. Temperature)} \\quad \\overline{T} = \\frac{\\displaystyle \\iint_{R} T(x, y) dA}{\\displaystyle \\iint_{R} dA} $$\n",
    "\n",
    "### where $R$ is the $3$ by $9$ rectangle in the $x,y$-plane. Thus,\n",
    "## $$ \\overline{T} = \\frac{\\displaystyle \\int_{x=0}^{3} \\int_{y=0}^9 (x^2+y^2) dA}{\\displaystyle \\int_{x=0}^{3} \\int_{y=0}^9 dA} $$\n",
    "\n",
    "### which simplifies to $\\boxed{30}$. This value lies somewhere between $0$ and $90$, which makes sense. To ponder: does it make sense that this average temperature is closer to $0$ than it is to $90$?"
   ]
  },
  {
   "cell_type": "markdown",
   "id": "1045c23a-9490-4b98-b56f-b344ba0c1195",
   "metadata": {},
   "source": [
    "### ***Thin Metal Plate***"
   ]
  },
  {
   "cell_type": "code",
   "execution_count": 6,
   "id": "0ab9a74a-beeb-4f35-8753-a911f8c7ecee",
   "metadata": {
    "jupyter": {
     "source_hidden": true
    },
    "tags": []
   },
   "outputs": [
    {
     "data": {
      "text/html": [
       "<iframe width=\"900\" height=\"650\" src=\"https://courses.edx.org/asset-v1:MITx+18.02.2x+2T2022+type@asset+block/threejs_u6_ThinMetalPlate.html\" frameborder=\"0\" allow=\"accelerometer; autoplay; clipboard-write; encrypted-media; gyroscope; picture-in-picture\" allowfullscreen></iframe>\n"
      ],
      "text/plain": [
       "<IPython.core.display.HTML object>"
      ]
     },
     "metadata": {},
     "output_type": "display_data"
    }
   ],
   "source": [
    "%%html\n",
    "<iframe width=\"900\" height=\"650\" src=\"https://courses.edx.org/asset-v1:MITx+18.02.2x+2T2022+type@asset+block/threejs_u6_ThinMetalPlate.html\" frameborder=\"0\" allow=\"accelerometer; autoplay; clipboard-write; encrypted-media; gyroscope; picture-in-picture\" allowfullscreen></iframe>"
   ]
  },
  {
   "cell_type": "markdown",
   "id": "cfe25795-037f-46c1-bb9d-f82c9eebdcac",
   "metadata": {},
   "source": [
    "### ***Example 7.6*** (Weighted average value)\n",
    "\n",
    "### This example continues the previous one involving a metal plate.\n",
    "\n",
    "### Now suppose that the metal plate is not uniformly thin, but instead has a thickness of $h(x, y)$ at the point $x, y$, with the same temperature function. What is the average temperature of this metal plate?\n",
    "\n",
    "### It makes sense to assign more weight to the parts of the plate that are thicker, because the temperature there represents a greater number of points. Therefore, we use $h(x, y)$ as our weighting function.\n",
    "\n",
    "### The average temperature of the new plate is\n",
    "## $$ \\text{(Weighted Avg. Temperature)} = \\frac{\\displaystyle \\iint_{R} T(x, y) h(x, y) dA}{\\displaystyle \\iint_{R} h(x, y) dA} $$\n",
    "\n",
    "### where $R$ is again the $3$ by $9$ rectangle in the $xy$-plane. Thus,\n",
    "## $$ \\overline{T} = \\frac{\\displaystyle \\int_{x=0}^3 \\int_{y=0}^9 (x^2+y^2)xy dA}{\\displaystyle \\int_{x=0}^3 \\int_{y=0}^9 xy dA} $$\n",
    "\n",
    "### which simplifies to $45$. Again the value lies somewhere between $0$ and $90$, which makes sense. Note that, the weighted average value ended up being larger than the corresponding unweighted average. To ponder: why is the weighted average closer to $90$, compared to the non-weighted average?\n",
    "\n",
    "### ***Thick Metal Plate***"
   ]
  },
  {
   "cell_type": "code",
   "execution_count": 7,
   "id": "97ddd53d-204c-469f-88e0-ffa32b7a43ea",
   "metadata": {
    "jupyter": {
     "source_hidden": true
    },
    "tags": []
   },
   "outputs": [
    {
     "data": {
      "text/html": [
       "<iframe width=\"900\" height=\"650\" src=\"https://courses.edx.org/asset-v1:MITx+18.02.2x+2T2022+type@asset+block/threejs_u6_ThickMetalPlate.html\" frameborder=\"0\" allow=\"accelerometer; autoplay; clipboard-write; encrypted-media; gyroscope; picture-in-picture\" allowfullscreen></iframe>\n"
      ],
      "text/plain": [
       "<IPython.core.display.HTML object>"
      ]
     },
     "metadata": {},
     "output_type": "display_data"
    }
   ],
   "source": [
    "%%html\n",
    "<iframe width=\"900\" height=\"650\" src=\"https://courses.edx.org/asset-v1:MITx+18.02.2x+2T2022+type@asset+block/threejs_u6_ThickMetalPlate.html\" frameborder=\"0\" allow=\"accelerometer; autoplay; clipboard-write; encrypted-media; gyroscope; picture-in-picture\" allowfullscreen></iframe>"
   ]
  },
  {
   "cell_type": "markdown",
   "id": "4113aeab-1704-482d-850f-addb56d58715",
   "metadata": {},
   "source": [
    "### ***Application 2a. Center of Mass***\n",
    "\n",
    "### Using double integrals to compute average values comes up when we need to find an object's center of mass.\n",
    "\n",
    "### Mathematically speaking, we define the center of mass of an object as follows:\n",
    "\n",
    "### ***Definition 8.1***\n",
    "### The center of mass of a flat (or “planar\") object $R$ with area density $\\delta(x, y)$ is the point $(\\overline{x}, \\overline{y})$ where\n",
    "## $$ \\begin{array} {rcl} \\overline{x} & = & \\displaystyle \\frac{1}{\\mathop{Mass}(R)} \\iint_{R} x \\delta(x, y) dA \\\\ \\overline{y} & = & \\displaystyle \\frac{1}{\\mathop{Mass}(R)} \\iint_{R} y \\delta(x, y) dA \\end{array} $$\n",
    "\n",
    "### As usual, $\\mathop{Mass}(R)$ is:\n",
    "## $$ \\mathop{Mass}(R) = \\iint_{R} \\delta(x, y) dA $$\n",
    "\n",
    "### From a physics perspective, the mechanics of an object can be accurately modeled by concentrating all of its mass at its center of mass.\n",
    "\n",
    "### Another way to think about center of mass is as the “balancing point\" for an object. For relatively small objects on Earth, the center of mass is the same as its “center of gravity\"."
   ]
  },
  {
   "cell_type": "markdown",
   "id": "eb22312a-e1d1-4330-8db0-1bf5ef61780b",
   "metadata": {},
   "source": [
    "### ***What are the bounds on $\\displaystyle \\iint_{R} x\\delta \\mathop{dA}$?***\n",
    "\n",
    "### That depends on the region $R$. As usual, you need to choose $\\mathop{dA} = \\mathop{dx}\\mathop{dy}$ or $\\mathop{dA} = \\mathop{dy} \\mathop{dx}$, and figure out what the endpoints should be so that $x$ and $y$ run through the entire region $R$. Of course we are also free to use polar coordinates if it makes the integral easier.\n",
    "\n",
    "### ***What is $\\delta$ again?***\n",
    "\n",
    "### The $\\delta(x, y)$ can represent either the mass density at the point $(x, y)$, or more generally whatever weighting function is useful for the problem at hand. We use a non-constant $\\delta(x, y)$ when we want certain parts of the region to “count for more.\" In the case of mass density, we would have a larger value of $\\delta(x, y)$ in parts of the region that are heavier.\n",
    "\n",
    "### ***Can we obtain the polar coordinates of the center of mass by finding the average value of $r$ and $\\theta$ over the region $R$?***\n",
    "### No, that does not work.\n",
    "\n",
    "### For example, the region $x^2+y^2 = 1$ has an average value of $r$ equal to $\\displaystyle \\frac{2}{3}$, but the center of mass should be at the origin, which does not have an $r$-coordinate of $\\displaystyle \\frac{2}{3}$.\n",
    "\n",
    "### The mistake here comes from the more general fact that the $\\text{average value of}\\,f(x)$ is not the same as $f(\\text{average value of x})$. Similarly,\n",
    "## $$ \\text{average value of }r \\cos(\\theta) \\neq (\\text{average value of }r) \\cdot \\cos (\\text{average value of }\\theta ). $$"
   ]
  },
  {
   "cell_type": "markdown",
   "id": "d6133289-81ef-4d51-9f81-0b44c55e836d",
   "metadata": {},
   "source": [
    "### ***Application 3. Moment of inertia***\n",
    "\n",
    "### In physics, the ***moment of inertia*** of an object about an axis $S$ tells us how hard it is to spin the object around $S$. This is another quantity that can be calculated with a double integral.\n",
    "\n",
    "### The concept is similar to mass. Mass tells us how hard it is to impart translational motion to an object, whereas moment of inertia tells us how hard it is to impart rotational motion to an object.\n",
    "\n",
    "### This quantity is given by:\n",
    "## $$ \\text{(Moment of inertia of point mass}\\, m\\,\\text{about the axis}\\, S\\text{)} \\quad m r^2 $$\n",
    "\n",
    "### where $r$ is the distance from the point mass to $S$."
   ]
  },
  {
   "cell_type": "markdown",
   "id": "bb43b544-757c-4f73-a2c0-90b3329840f9",
   "metadata": {},
   "source": [
    "### ***Derivation***\n",
    "\n",
    "### The kinetic energy of a point mass $m$ with velocity $v$ moving along a straight line is $\\displaystyle \\frac{1}{2} m v^2$. If we give the point mass an angular velocity of $\\omega$, then its resulting speed is $v = r \\omega$, because after a small amount of time $\\Delta t$ we will have it moved by a distance of $r\\omega \\Delta t$, and $ \\mathop{rate} = \\frac{\\mathop{distance}}{\\mathop{time}}$. “Angular velocity\" means $\\displaystyle \\omega = \\frac{d\\theta}{dt}$.\n",
    "\n",
    "### Therefore, with angular velocity $\\omega$, its resulting kinetic energy is\n",
    "## $$ \\text{(Kinetic energy of point mass with angular velocity}\\, \\omega \\text{)} \\quad \\frac{1}{2} mv^2 = \\frac{1}{2} m r^2 \\omega^2 $$\n",
    "\n",
    "### We define the “moment of inertia\" to be the quantity $m r^2$ because it is the coefficient on $\\displaystyle \\frac{\\omega^2}{2}$ in the above equation. Therefore, the moment of inertia plays the same role that mass played in the formula for kinetic energy when moving along a straight line."
   ]
  },
  {
   "cell_type": "markdown",
   "id": "7a77fe03-140a-44ac-adfa-b134f58134e0",
   "metadata": {},
   "source": [
    "### ***Moment of inertia for a solid***\n",
    "\n",
    "### We can think of a solid $R$ as consisting of infinitely many point masses, represented by the points $(x,y)$ in $R$. Therefore, the moment of inertia of a solid $R$ with density $\\delta(x, y)$ about the axis $S$ is obtained by integrating the moment of inertia of each of these point masses:\n",
    "## $$ \\text{(Moment of inertia of solid about axis}\\, S \\text{)} \\quad \\iint_{R} r(x, y)^2 \\delta(x, y) \\mathop{dA} $$\n",
    "\n",
    "### where $r(x, y)$ is the distance from the point $(x, y)$ to the axis $S$.\n",
    "\n",
    "### A special case is the ***polar moment of inertia*** (emphasis on “polar\"), which is defined to be the moment of inertia about the origin. Therefore,\n",
    "## $$ I_0 = \\text{Polar moment of inertia of solid} = \\iint_{R} (x^2+y^2) \\delta(x, y) \\mathop{dA} $$\n",
    "\n",
    "### In polar coordinates:\n",
    "## $$ I_0 = \\iint_{R} r^2 \\delta(r, \\theta) \\mathop{dA} $$"
   ]
  },
  {
   "cell_type": "markdown",
   "id": "afa8e54c-5a63-47aa-9672-f9e3a0bda9a6",
   "metadata": {},
   "source": [
    "### ***What is an axis?***\n",
    "\n",
    "### For a two-dimensional shape, an axis may be either a point or a line.\n",
    "\n",
    "### In the case of a point, one may imagine sticking a skewer (e. g. a thin toothpick) into the solid at that point from above, and rotating the shape within its plane around this skewer. For example, if the point is the origin, then the rotation will be clockwise or counter-clockwise around the origin.\n",
    "\n",
    "### When the axis is a line, we imagine sticking a skewer into the solid along that line, which means that the rotation takes place in three dimensions. For example, if the axis of rotation is the $x$-axis, then the piece of the shape along the positive $y$-axis will rotate towards the negative $y$-axis, going through the $z$-axis in the process."
   ]
  },
  {
   "cell_type": "markdown",
   "id": "2447caff-9a20-49ea-a3e5-a31155151fb9",
   "metadata": {},
   "source": [
    "### ***Rotating around a point***"
   ]
  },
  {
   "cell_type": "code",
   "execution_count": 8,
   "id": "342279d6-5a50-4795-9f5c-4abcff9c10f3",
   "metadata": {
    "jupyter": {
     "source_hidden": true
    },
    "tags": []
   },
   "outputs": [
    {
     "data": {
      "text/html": [
       "<iframe width=\"900\" height=\"650\" src=\"https://courses.edx.org/asset-v1:MITx+18.02.2x+2T2022+type@asset+block/threejs_u6_RotationAboutZAxis.html\" frameborder=\"0\" allow=\"accelerometer; autoplay; clipboard-write; encrypted-media; gyroscope; picture-in-picture\" allowfullscreen></iframe>\n"
      ],
      "text/plain": [
       "<IPython.core.display.HTML object>"
      ]
     },
     "metadata": {},
     "output_type": "display_data"
    }
   ],
   "source": [
    "%%html\n",
    "<iframe width=\"900\" height=\"650\" src=\"https://courses.edx.org/asset-v1:MITx+18.02.2x+2T2022+type@asset+block/threejs_u6_RotationAboutZAxis.html\" frameborder=\"0\" allow=\"accelerometer; autoplay; clipboard-write; encrypted-media; gyroscope; picture-in-picture\" allowfullscreen></iframe>"
   ]
  },
  {
   "cell_type": "markdown",
   "id": "55f31255-0c41-468f-81bb-9a506d8aa370",
   "metadata": {},
   "source": [
    "### ***Rotating around a line***"
   ]
  },
  {
   "cell_type": "code",
   "execution_count": 9,
   "id": "eefa2663-f129-4e9b-a8ba-c0082f475e38",
   "metadata": {
    "jupyter": {
     "source_hidden": true
    },
    "tags": []
   },
   "outputs": [
    {
     "data": {
      "text/html": [
       "<iframe width=\"900\" height=\"650\" src=\"https://courses.edx.org/asset-v1:MITx+18.02.2x+2T2022+type@asset+block/threejs_u6_RotationAboutXAxis.html\" frameborder=\"0\" allow=\"accelerometer; autoplay; clipboard-write; encrypted-media; gyroscope; picture-in-picture\" allowfullscreen></iframe>\n"
      ],
      "text/plain": [
       "<IPython.core.display.HTML object>"
      ]
     },
     "metadata": {},
     "output_type": "display_data"
    }
   ],
   "source": [
    "%%html\n",
    "<iframe width=\"900\" height=\"650\" src=\"https://courses.edx.org/asset-v1:MITx+18.02.2x+2T2022+type@asset+block/threejs_u6_RotationAboutXAxis.html\" frameborder=\"0\" allow=\"accelerometer; autoplay; clipboard-write; encrypted-media; gyroscope; picture-in-picture\" allowfullscreen></iframe>"
   ]
  },
  {
   "cell_type": "markdown",
   "id": "e23109b1-b848-4b97-8140-c915ee87880c",
   "metadata": {},
   "source": [
    "### ***Computing moment of inertia about $x$ or $y$ axis***\n",
    "\n",
    "### A common special case is the moment of inertia about the $x$ or $y$ axes:\n",
    "## $$ \\begin{array} {rcccl} I_x & = & \\text{Moment of inertia about}\\, x \\, \\text{axis} & = & \\displaystyle \\iint_{R} y^2 \\delta(x, y) \\mathop{dA} \\\\ I_y & = & \\text{Moment of inertia about}\\, y \\, \\text{axis} & = & \\displaystyle \\iint_{R} x^2 \\delta(x, y) \\mathop{dA} \\end{array} $$\n",
    "\n",
    "### We have a $y^2$ in $I_x$ because at a point $(x, y)$, the squared distance to the $x$-axis is $y^2$. For a similar reason, we have $x^2$ in $I_y$."
   ]
  },
  {
   "cell_type": "markdown",
   "id": "b3bd673c-c165-40a2-979b-8c0efad72500",
   "metadata": {},
   "source": [
    "### ***Moment of inertia example***\n",
    "\n",
    "### ***Example 11.1***\n",
    "### What is the moment of inertia of the disk $D$ given by $x^2+y^2 = a^2$ about its center? Assume constant density $1$.\n",
    "\n",
    "### From the definition, we have:\n",
    "## $$ I_0 = \\iint_{D} r(x, y)^2 \\cdot 1 \\mathop{dA} $$\n",
    "\n",
    "### Note that $r(x, y)$ is not constantly $a$ since $r(x, y)$ should be the distance from $(x, y)$ to the center of $D$, which is the origin. In fact $r(x, y)$ takes on all values between $0$ and $a$.\n",
    "\n",
    "### It is common to abbreviate functions like $r(x, y)$ and $\\delta(x, y)$ as simply $r$ and $\\delta$:\n",
    "## $$ I_0 = \\iint_{D} r^2 \\mathop{dA} $$\n",
    "\n",
    "### We can use polar coordinates to calculate $I_0$:\n",
    "## $$ \\begin{array} {rcl} I_0 & = & \\displaystyle \\int_{\\theta=0}^{2\\pi} \\int_{r=0}^{a} r^3 \\mathop{dr}\\mathop{d\\theta} \\\\ \\, & = & \\displaystyle \\frac{\\pi a^4}{2} \\end{array} $$"
   ]
  },
  {
   "cell_type": "markdown",
   "id": "81d41be0-a636-40d4-ab4c-2c84bc065bcb",
   "metadata": {},
   "source": [
    "### ***Example 11.2***\n",
    "### What is the moment of inertia of the disk $D$ of radius $a$ about a point on its circumference?\n",
    "\n",
    "### For ease of computation, we will move the disk so that the origin represents a point on its circumference.\n",
    "![img](img/img-2-06.png) \n",
    "\n",
    "### As before, the moment of inertia is:\n",
    "## $$ I = \\iint_{D} r^2 \\mathop{dA} $$\n",
    "\n",
    "### where $r$ is the distance from a point to our chosen circumference point (the origin).\n",
    "\n",
    "### Doing this integral in polar coordinates takes a little care. The integrand will be $r^3 \\mathop{dr}\\mathop{d\\theta}$, but what about the bounds?\n",
    "\n",
    "### One can show that the circle of radius $a$ centered at $(a, 0)$ has polar equation $r = 2a \\cos(\\theta)$ (see below for derivation). This means that, for a given $\\theta$, we will have $r$ running through the interval $[0, 2a\\cos(\\theta)]$. Therefore, the bounds on $r$ are $0$ and $2a \\cos(\\theta)$.\n",
    "\n",
    "### What are the bounds for $\\theta$? Since there are points on the disk in all directions facing the right-half of the plane, the set of possible values that $\\theta$ goes through is the interval $\\displaystyle \\left(-\\frac{\\pi}{2}, \\frac{\\pi}{2}\\right)$.\n",
    "\n",
    "### Thus,\n",
    "## $$ \\begin{array} {rcl} I & = & \\displaystyle \\int_{\\theta = -\\frac{\\pi}{2}}^{\\frac{\\pi}{2}} \\int_{r=0}^{2a \\cos(\\theta)} r^3 \\mathop{dr}\\mathop{\\theta} \\\\ \\, & = & \\displaystyle \\int_{\\theta = -\\frac{\\pi}{2}}^{\\frac{\\pi}{2}} \\left.\\frac{r^4}{4} \\right|_{r=0}^{2a\\cos(\\theta)} \\mathop{d\\theta} \\\\ \\, & = & \\displaystyle \\int_{\\theta = -\\frac{\\pi}{2}}^{\\frac{\\pi}{2}} 4a^4\\cos^4(\\theta) \\mathop{d\\theta} \\\\ \\, & = & \\displaystyle \\boxed{\\frac{3}{2} \\pi a^4} \\end{array} $$\n",
    "\n",
    "### The integration of $\\cos^4(\\theta)$ is done by repeated use of the trig identity $\\displaystyle \\cos^2(\\theta) = \\frac{1+\\cos(2\\theta)}{2}$ (we omit the details here).\n",
    "\n",
    "### Notice that this answer is exactly three times the polar moment of inertia of $D$ (computed in previous example). This means it is exactly three times harder to spin a frisbee around its circumference than around its center."
   ]
  },
  {
   "cell_type": "markdown",
   "id": "4102c2c3-a5eb-4c5f-800b-935c96a748e3",
   "metadata": {},
   "source": [
    "### ***Derivation of equation for circle in polar coordinates***\n",
    "\n",
    "### ***Claim***:\n",
    "### The polar equation for a circle of radius $a$ centered at $(a, 0)$ is $r=2a\\cos(\\theta)$.\n",
    "\n",
    "### ***Proof***:\n",
    "### One approach is to convert the equation to rectangular coordinates. Multiplying both sides by $r$, we have $r^2 = 2ar \\cos(\\theta)$. Now we can replace $r\\cos(\\theta)$ by $x$ and $r^2$ by $x^2+y^2$, which gives us:\n",
    "## $$ x^2 + y^2 = 2ax $$\n",
    "\n",
    "### Now completing the square we obtain:\n",
    "## $$ (x-a)^2 + y^2 = a^2 $$\n",
    "\n",
    "### We can recognize this as the equation for the given circle.\n",
    "\n",
    "### Another approach is to draw a line segment from the origin to an arbitrary point on the circle with polar coordinate $\\theta$. The length of this line segment gives the $r$ coordinate for this point. Draw another line segment from this point to $(2a, 0)$. The angle between these two line segments is always a right angle, regardless of $\\theta$ (this can be proven by showing that the vectors pointing along these line segments will have a dot product of zero).\n",
    "![img](img/img-2-07.png)\n",
    "\n",
    "### Therefore we have a right triangle with angle $\\theta$, adjacent side $r$, and hypotenuse $2a$. It follows by trigonometry that $r=2a \\cos(\\theta)$."
   ]
  },
  {
   "cell_type": "markdown",
   "id": "b152a99f-26fd-4d46-83e9-8867ec725521",
   "metadata": {},
   "source": [
    "## Summary\n",
    "\n",
    "### ***Big Picture***\n",
    "- ### A double integral can be computed in rectangular coordinates $x,y$ or in polar coordinates $r,\\theta$.\n",
    "- ### Using polar coordinates can sometimes simplify the integrand, or the bounds of integration, or both.\n",
    "- ### Double integrals have many uses, including:\n",
    "  - ### Area\n",
    "  - ### Volume\n",
    "  - ### Mass\n",
    "  - ### Average value of a function\n",
    "  - ### Moment of inertia\n",
    "\n",
    "### ***Mechanics***\n",
    "- ### When converting an integral to polar coordinates, remember to:\n",
    "  1. ### Change the bounds,\n",
    "  2. ### Change the integrand, and\n",
    "  3. ### Replace $\\mathop{dA}$ with $r\\mathop{dr}\\mathop{\\theta}$.\n",
    "\n",
    "- ### If $R$ represents a flat object with density $\\delta(x, y)$ (“delta\") then\n",
    "## $$ \\mathop{Mass}(R) = \\iint_{R} \\delta(x, y) \\mathop{dA} $$\n",
    "\n",
    "- ### The average value of a function $f(x, y)$ over a region $R$ is:\n",
    "## $$ \\text{(Avg. value of}\\, f(x, y)\\,\\text{)}\\quad \\overline{f} = \\frac{1}{\\mathop{Area}(R)} \\iint_{R} f(x, y) \\mathop{dA} $$\n",
    "\n",
    "- ### The weighted average value of a function $\\overline{f}$ with weights $\\delta(x, y)$ is\n",
    "## $$ \\overline{f} = \\frac{1}{\\mathop{Mass}(R)} \\iint_{R} f(x, y) \\delta(x, y) \\mathop{dA} $$\n",
    "\n",
    "- ### The above formula for $\\overline{f}$ can be used to find the center of mass, $(\\overline{x}, \\overline{y})$.\n",
    "- ### For a solid $R$ with density $\\delta(x, y)$, its moment of inertia about the axis $S$ is:\n",
    "## $$ \\text{(Moment of inertia of solid about axis}\\, S\\text{)} \\quad \\iint_{R} r(x, y)^2 \\delta(x, y) \\mathop{dA} $$\n",
    "\n",
    "### where $r$ is the distance from the point mass to $S$.\n",
    "\n",
    "### ***Ask Yourself***\n",
    "### ***Do we need to divide by the mass of the region when calculating moment of inertia?***\n",
    "### No. We divided by the mass of the region when computing average values, but moment of inertia is not representing an average value. Instead, moment of inertia measures how hard it is to spin an object. If an object has more mass, that would mean a larger moment of inertia, so we wouldn't want to cancel that effect by dividing out the mass.\n",
    "\n",
    "### ***Do we always use polar coordinates for moment of inertia problems?***\n",
    "### No, sometimes we do the whole problem in rectangular coordinates. As with all other integrals, we can choose to switch to polar coordinates if it makes the problem simpler. For example, the polar moment of inertia integral has $x^2+y^2$ in the integrand, which is simply $r^2$ in polar coordinates.\n",
    "\n",
    "### Another reason we might use polar coordinates is if the bounds of integration are easier to set up in polar coordinates (e.g. when the region is a sector of a circle)."
   ]
  },
  {
   "cell_type": "markdown",
   "id": "276acd9b-c02a-48fb-9401-d47097642037",
   "metadata": {},
   "source": [
    "## Recitation\n",
    "\n",
    "### ***Problem solving strategy***\n",
    "### The basic steps are:\n",
    "1. ### Change the bounds,\n",
    "2. ### Change the integrand, and\n",
    "3. ### Replace $\\mathop{dA}$ with $r\\mathop{dr}\\mathop{d\\theta}$.\n",
    "\n",
    "### ***Step 1: Change the bounds***\n",
    "### Most of the time, the inner integral will be $\\displaystyle \\int \\mathop{dr}$ and the outer integral will be $\\displaystyle \\int \\mathop{d\\theta}$. This means that, to fill in the bounds, we will usually draw a picture of the region and, for a given $\\theta$, find what interval describes the possible values of $r$ for the region.\n",
    "\n",
    "### For example, how would we change the bounds of integration in the following integral?\n",
    "## $$ \\int_{x=-1}^1 \\int_{y=0}^{\\sqrt{1-x^2}} \\cdots \\mathop{dy}\\mathop{dx} $$\n",
    "\n",
    "### By sketching the curve $y=\\sqrt{1-x^2}$, we can deduce that the region of integration is the upper-half of the unit disk. In this case, $\\theta$ would run from $0$ to $\\pi$ (halfway around the circle) and $r$ would run from $0$ to $1$.\n",
    "\n",
    "### ***Step 2: Change the integrand***\n",
    "### The integrand will be some function $f(x, y)$. To figure out the new integrand for polar coordinates, we evaluate $f(r\\cos(\\theta), r\\sin(\\theta))$. For example, suppose the integrand function is $f(x, y) = (x+y)^2$. Then we can simplify to $f(x, y) = x^2 + 2xy+y^2$. Now substituting $f(r\\cos(\\theta), r\\sin(\\theta))$, the $x^2+y^2$ will be replaced by $r^2$, so we are left with\n",
    "## $$ x^2+2xy+y^2\\quad \\text{becomes} \\quad r^2+2r^2\\cos(\\theta)\\sin(\\theta) $$\n",
    "\n",
    "### ***Step 3: Replace $\\mathop{dA}$ with $r \\mathop{dr} \\mathop{d\\theta}$*** \n",
    "### The last thing to fix is the differential $\\mathop{dA}$. You must remember that $\\mathop{dx}\\mathop{dy}$ is replaced with $r\\mathop{dr}\\mathop{d\\theta}$."
   ]
  },
  {
   "cell_type": "markdown",
   "id": "4bdf4703-7f06-48ca-ad6c-cc8fae6dce06",
   "metadata": {},
   "source": []
  }
 ],
 "metadata": {
  "kernelspec": {
   "display_name": "Python 3",
   "language": "python",
   "name": "python3"
  },
  "language_info": {
   "codemirror_mode": {
    "name": "ipython",
    "version": 3
   },
   "file_extension": ".py",
   "mimetype": "text/x-python",
   "name": "python",
   "nbconvert_exporter": "python",
   "pygments_lexer": "ipython3",
   "version": "3.8.8"
  }
 },
 "nbformat": 4,
 "nbformat_minor": 5
}
