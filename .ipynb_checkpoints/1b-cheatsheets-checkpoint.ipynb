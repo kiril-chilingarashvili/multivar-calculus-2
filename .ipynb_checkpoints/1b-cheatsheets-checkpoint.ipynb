{
 "cells": [
  {
   "cell_type": "markdown",
   "id": "198ceca0-bfe3-4e87-bd6a-94823df07d4e",
   "metadata": {},
   "source": [
    "# Unit 1: Double Integrals - Part b - Polar Integrals and Applications"
   ]
  },
  {
   "cell_type": "markdown",
   "id": "c0a55465-fbf3-4e04-9188-b42246e64c39",
   "metadata": {},
   "source": []
  }
 ],
 "metadata": {
  "kernelspec": {
   "display_name": "Python 3",
   "language": "python",
   "name": "python3"
  },
  "language_info": {
   "codemirror_mode": {
    "name": "ipython",
    "version": 3
   },
   "file_extension": ".py",
   "mimetype": "text/x-python",
   "name": "python",
   "nbconvert_exporter": "python",
   "pygments_lexer": "ipython3",
   "version": "3.8.8"
  }
 },
 "nbformat": 4,
 "nbformat_minor": 5
}
