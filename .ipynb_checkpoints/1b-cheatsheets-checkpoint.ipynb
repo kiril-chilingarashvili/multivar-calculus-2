{
 "cells": [
  {
   "cell_type": "markdown",
   "id": "198ceca0-bfe3-4e87-bd6a-94823df07d4e",
   "metadata": {},
   "source": [
    "# Unit 1: Double Integrals - Part b - Polar Integrals and Applications"
   ]
  },
  {
   "cell_type": "markdown",
   "id": "c0a55465-fbf3-4e04-9188-b42246e64c39",
   "metadata": {},
   "source": [
    "## Introduction\n",
    "\n",
    "### In single-variable integration, we are sometimes faced with integrals such as $\\displaystyle \\int (x+10)^5$. This integral becomes much simpler after making the substitution $u = x+10$.\n",
    "\n",
    "### Double integrals benefit from a more general type of substitution known as change of variables. In this lecture, you will learn about the most common type of change of variables: switching a double integral to polar coordinates. This technique allows you to replace many complicated integrals with simple ones that can be computed more easily.\n",
    "\n",
    "### Polar coordinates are highly suitable for certain physical problems. For instance: the orbit of planets, which was a central motivation for Newton when developing Calculus.\n",
    "\n",
    "### We will also go over some common applications of double integrals to science and engineering, such as computing mass, centroids, and moments of inertia."
   ]
  },
  {
   "cell_type": "markdown",
   "id": "c96d11f2-82b7-43a7-a1ee-108ffe468c40",
   "metadata": {},
   "source": [
    "## Double integrals in polar coordinates\n",
    "\n",
    "### Previously we saw double integrals such as\n",
    "## $$ \\iint_{R} (1-x^2-y^2)dA $$\n",
    "\n",
    "### where $R$ is the quarter-disk given by $x^2+y^2\\leq 1$ and $x,y\\geq 0$.\n",
    "\n",
    "### After converting the double integral to an iterated integral $\\displaystyle \\int_0^1 \\int_0^{\\sqrt{1-x^2}} (1-x^2-y^2) dy dx$, the resulting computation was rather lengthy and required trig-substitutions. This integral becomes easier in polar coordinates.\n",
    "\n",
    "### ***Polar Coordinates***\n",
    "### Recall that polar coordinates $r$ and $\\theta$ represent a point in the plane by its distance $r$ from the origin and the amount of rotation $\\theta$ between the point and the positive $x$-axis.\n",
    "![img](img/img-2-01.png)\n",
    "\n",
    "### Rectangular and polar coordinates are related by the equations:\n",
    "## $$ \\begin{array} {rcl} x & = & r \\cos(\\theta) \\\\ y & = & r \\sin(\\theta) \\end{array} $$\n",
    "\n",
    "### When solving a double integral, instead of thinking about the range of values for $x$ and $y$, it can be easier to think about the range of values for $r$ and $\\theta$. This leads to an iterated integral $\\displaystyle \\iint dr d\\theta$.\n",
    "\n",
    "### ***Quarter-disk***\n",
    "### For the quarter-disk $R$, the range for $\\theta$ is $\\displaystyle [0, \\frac{\\pi}{2}]$, covering the first quadrant, and the range for $r$ is $[0, 1]$, since the disk has radius $1$. So far, we have\n",
    "## $$ \\iint_{R}(1-x^2-y^2)dA = \\int_{\\theta=0}^{\\frac{\\pi}{2}} \\int_{r=0}^{1} \\cdots $$\n",
    "\n",
    "### But what goes in the $\\cdots$? We need to convert $(1-x^2-y^2)dA$ to polar coordinates.\n",
    "\n",
    "### In polar coordinates, $x^2+y^2=r^2$, so $1-x^2-y^2 = 1-r^2$.\n",
    "## $$ 1-x^2-y^2 \\quad \\text{becomes} \\quad 1-r^2 $$\n",
    "\n",
    "### What about $dA$?\n",
    "\n",
    "### It turns out that $dA$ is not simply $dr d\\theta$! Instead, we have\n",
    "## $$ \\text{(Area element in polar coordinates)}\\quad dA = r \\mathop{dr} \\mathop{d\\theta} $$\n",
    "\n",
    "### To see why, imagine $A$ is a small patch of the region $R$, which is swept out as $r$ moves through $[r, r+\\Delta r]$ and $\\theta$ moves through $[\\theta, \\theta + \\Delta \\theta]$. Let $\\Delta A$ represent the area of $A$. Let's try to find $\\Delta A$ in terms of $\\Delta r$ and $\\Delta \\theta$.\n",
    "\n",
    "### If the patch $A$ is small, then $A$ is approximately a rectangle of dimensions $\\Delta r$ and $r \\Delta \\theta$. This second side is not simply $\\Delta \\theta$, because the second side is the arc length of a circle of radius $r$ with radian measure $\\Delta \\theta$, which leads to an arc length of $r \\Delta \\theta$. It follows that $\\Delta A \\approx r \\Delta r \\Delta \\theta$, which in the limit becomes $dA = r \\mathop{d\\theta} \\mathop{dr}$ or $r \\mathop{dr} \\mathop{d\\theta}$.\n",
    "\n",
    "![img](img/img-2-02.png)"
   ]
  },
  {
   "cell_type": "markdown",
   "id": "25d3f473-19b0-42d2-adf7-560bb3fe8d4a",
   "metadata": {},
   "source": [
    "### ***Finishing the example***\n",
    "\n",
    "### In polar coordinates, $x^2+y^2 = r^2$, so $1-x^2-y^2 = 1-r^2$. We can now say that $dA = r dr d\\theta$. So we have:\n",
    "## $$ \\iint_{R} (1-x^2-y^2) dA = \\int_{\\theta = 0}^{\\frac{\\pi}{2}} \\int_{r=0}^1(1-r^2)r \\mathop{dr} \\mathop{d\\theta} $$\n",
    "\n",
    "### The right-hand-side is an iterated integral which we can evaluate in the usual way:\n",
    "## $$ \\begin{array} {rcl} \\displaystyle \\int_{\\theta=0}^{\\frac{\\pi}{2}} \\int_0^1(1-r^2)r \\mathop{dr} \\mathop{d\\theta} & = & \\displaystyle \\int_{\\theta=0}^{\\frac{\\pi}{2}} \\left.\\left( \\frac{r^2}{2}-\\frac{r^4}{4} \\right)\\right|_{r=0}^1 d\\theta \\\\ \\, & = & \\displaystyle \\int_{\\theta=0}^{\\frac{\\pi}{2}} \\left(\\frac{1}{2}-\\frac{1}{4} \\right) d\\theta \\\\ \\, & = & \\displaystyle \\int_{\\theta=0}^{\\frac{\\pi}{2}} \\frac{1}{4} d\\theta \\\\ \\, & = & \\displaystyle \\boxed{\\frac{\\pi}{8}} \\end{array} $$\n",
    "\n",
    "Indeed we get the same answer as before, without needing to do trig substitution."
   ]
  },
  {
   "cell_type": "markdown",
   "id": "691a91fc-341e-4a17-a920-3ec355627691",
   "metadata": {},
   "source": []
  }
 ],
 "metadata": {
  "kernelspec": {
   "display_name": "Python 3",
   "language": "python",
   "name": "python3"
  },
  "language_info": {
   "codemirror_mode": {
    "name": "ipython",
    "version": 3
   },
   "file_extension": ".py",
   "mimetype": "text/x-python",
   "name": "python",
   "nbconvert_exporter": "python",
   "pygments_lexer": "ipython3",
   "version": "3.8.8"
  }
 },
 "nbformat": 4,
 "nbformat_minor": 5
}
