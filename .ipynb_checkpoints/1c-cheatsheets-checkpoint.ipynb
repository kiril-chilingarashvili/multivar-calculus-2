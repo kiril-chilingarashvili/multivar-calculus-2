{
 "cells": [
  {
   "cell_type": "markdown",
   "id": "7611403e-8e6f-486e-8bfb-bcab50397399",
   "metadata": {},
   "source": [
    "# Unit 1: Double Integrals - Part c - Changing Variables and the Jacobian"
   ]
  },
  {
   "cell_type": "markdown",
   "id": "1ce7b572-a031-483f-9ae1-1026c518052f",
   "metadata": {},
   "source": [
    "## Introduction\n",
    "\n",
    "### In the previous lecture, you learned how to change a double integral in rectangular coordinates ($x$ and $y$) to a new double integral in polar coordinates ($r$ and $\\theta$). Switching from rectangular coordinates to polar coordinates is one example of “changing variables\" in a double integral. In this lecture, we generalize the idea to allow for switching from any coordinate system to any other coordinate system. This is useful for solving double integrals that happen to be more suited to an alternative coordinate system.\n",
    "\n",
    "### In addition, some of the ideas in this section will come up again later in calculus when we need to parametrize surfaces in higher dimensions.\n",
    "\n",
    "### ***Note***: this is an advanced technique for solving multiple integrals, which is not always included in many Multivariable Calculus courses."
   ]
  },
  {
   "cell_type": "markdown",
   "id": "99795a63-caba-4b55-9cc1-c26c44aeab06",
   "metadata": {},
   "source": [
    "## Area of an ellipse\n",
    "\n",
    "### Our first example of “change of variables\" comes from the following question: how can we find the area of an ellipse using double integrals?\n",
    "\n",
    "### The equation for an ellipse is\n",
    "## $$ \\text{(Equation for ellipse)} \\quad \\left( \\frac{x}{a} \\right)^2 + \\left( \\frac{y}{b} \\right)^2 = 1  $$\n",
    "\n",
    "### If we wanted to find the area of this ellipse, we would need to integrate (with integrand $1$) over the interior region of the ellipse:\n",
    "## $$ \\text{(Area of ellipse)} \\quad \\iint_{\\displaystyle \\left( \\frac{x}{a} \\right)^2+\\left(\\frac{y}{b} \\right)^2 < 1} \\mathop{dx}\\mathop{dy} $$\n",
    "\n",
    "### This integral looks very close to one that we can solve with polar coordinates. But in order to use polar coordinates, we would like to get rid of the denominators in $\\displaystyle \\left(\\frac{x}{a} \\right)^2$ and $\\displaystyle \\left(\\frac{y}{b} \\right)^2$.\n",
    "\n",
    "### To that end, we can introduce new variables $u$ and $v$ where\n",
    "## $$ \\begin{array} {rcl} u & = & \\displaystyle \\frac{x}{a} \\\\ v & = & \\displaystyle \\frac{y}{b} \\end{array} $$\n",
    "\n",
    "### Then the region $\\displaystyle \\left(\\frac{x}{a} \\right)^2 + \\left(\\frac{y}{b} \\right)^2 < 1$ becomes just $u^2+v^2<1$. So far we have:\n",
    "## $$ \\iint_{\\displaystyle \\left( \\frac{x}{a} \\right)^2+\\left(\\frac{y}{b} \\right)^2 < 1} \\mathop{dx}\\mathop{dy} = \\iint_{\\displaystyle u^2+v^2<1} \\cdots $$\n",
    "\n",
    "### To fill in the $\\cdots$, we need to replace $\\mathop{dx}\\mathop{dy}$ with $\\mathop{du}\\mathop{dv}$, possibly with some scaling factors. In this example, we can say\n",
    "## $$ \\begin{array} {rcl} \\displaystyle u = \\frac{x}{a} & \\implies & \\displaystyle \\mathop{du} = \\frac{1}{a}\\mathop{dx} \\\\ \\displaystyle v = \\frac{y}{b} & \\implies & \\displaystyle \\mathop{dv} = \\frac{1}{b}\\mathop{dy} \\end{array} $$\n",
    "\n",
    "### Thus we have\n",
    "## $$ \\mathop{du} \\mathop{dv} = \\frac{1}{ab} \\mathop{dx}\\mathop{dy} $$\n",
    "\n",
    "### Multiplying both sides by $ab$ shows that we can replace $\\mathop{dx}\\mathop{dy}$ by $ab \\mathop{du}\\mathop{dv}$. This gives us the new integral:\n",
    "## $$ \\begin{array} {rcl} \\displaystyle \\iint_{\\displaystyle \\left( \\frac{x}{a} \\right)^2+\\left(\\frac{y}{b} \\right)^2 < 1} \\mathop{dx}\\mathop{dy} & = & \\displaystyle \\iint_{\\displaystyle u^2+v^2 < 1} ab \\mathop{du}\\mathop{dv} \\\\ \\, & = & \\displaystyle ab \\iint_{u^2+v^2<1} \\mathop{du}\\mathop{dv} \\\\ \\, & = & \\displaystyle ab \\cdot \\mathop{Area}(\\text{Unit disk}) \\\\ \\, & = & \\displaystyle ab\\pi \\end{array} $$\n",
    "\n",
    "### Thus the area of the ellipse is $ab\\pi$.\n",
    "\n",
    "## Reflection\n",
    "### Making the change from $x$ and $y$ to $u$ and $v$ is what we mean by a “change of variables.\" Although it is possible to solve this problem with just $x$ and $y$, the change of variables made the integral much simpler.\n",
    "\n",
    "### For the next few pages, the main focus will be on the $\\mathop{dx}\\mathop{dy} = ab \\mathop{du}\\mathop{dv}$ part of the argument. In particular, how do we replace $\\mathop{dx}\\mathop{dy}$ with $\\mathop{du}\\mathop{dv}$ if the change of variables is more complicated? You will see that, depending on the specific change of variables, this is usually more involved than it was in this first example."
   ]
  },
  {
   "cell_type": "markdown",
   "id": "23a5b3c7-67b8-4f69-92f2-5e6fc8ed4783",
   "metadata": {},
   "source": []
  }
 ],
 "metadata": {
  "kernelspec": {
   "display_name": "Python 3",
   "language": "python",
   "name": "python3"
  },
  "language_info": {
   "codemirror_mode": {
    "name": "ipython",
    "version": 3
   },
   "file_extension": ".py",
   "mimetype": "text/x-python",
   "name": "python",
   "nbconvert_exporter": "python",
   "pygments_lexer": "ipython3",
   "version": "3.8.8"
  }
 },
 "nbformat": 4,
 "nbformat_minor": 5
}
