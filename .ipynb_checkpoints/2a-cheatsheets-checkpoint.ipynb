{
 "cells": [
  {
   "cell_type": "markdown",
   "id": "f8cb684d-3326-4e3f-8dd4-8d7a53a61706",
   "metadata": {},
   "source": [
    "# Unit 2: Introduction to Line Integrals - Part a - Review Parametric Curves and Arc Length"
   ]
  },
  {
   "cell_type": "markdown",
   "id": "da9deb7c-1605-4b52-ab20-d7f1c7728b5d",
   "metadata": {},
   "source": [
    "## Introduction\n",
    "\n",
    "## In the previous unit we explored volumes and other integrals over 2-dimensional regions. In this unit we will change gears and look at integrals that add quantities along a curve. The interpretation of these integrals will change depending on the type of function being integrated along the curve:\n",
    "- ### Scalar functions integrated along a curve are used to compute center of mass of a thin wire (and other accumulated quantities along a curve).\n",
    "- ### Vector-valued functions integrated in the tangent direction along a curve are used to compute work done by a force field.\n",
    "- ### Vector-valued functions integrated in the normal direction along a curve are used to compute flux across the curve due to a velocity field.\n",
    "\n",
    "### This first lecture reviews how we use integrals to compute the arc length of parametric curves from single variable calculus, which is the essential tool used throughout the unit."
   ]
  },
  {
   "cell_type": "markdown",
   "id": "33a50b1a-2741-4308-b681-89c759087a82",
   "metadata": {},
   "source": [
    "## Parametrized curve\n",
    "\n",
    "### **Definition 2.1**\n",
    "### A **parametrized curve** is a pair of functions $(x(t), y(t))$ defined for times $a\\leq t \\leq b$ that trace out a curve in the plane.\n",
    "- ### The **velocity vector** of a parametric curve at time $t$ is the vector $\\langle x'(t), y'(t) \\rangle$, which is tangent to the curve.\n",
    "- ### The **speed** of a parametric curve at a time $t$ is the magnitude of the velocity vector, which is $\\sqrt{x'(t)^2 + y'(t)^2}$.\n",
    "\n",
    "### It is common to think of the pair of functions $(x(t), y(t))$ that defined the parametric equation as a two-dimensional vector that varies with the parameter $t$. It is standard to use the letter $\\vec{r}$ to represent this vector.\n",
    "## $$ \\vec{r}(t) = \\begin{pmatrix} x(t) \\\\ y(t) \\end{pmatrix} $$\n",
    "\n",
    "### or sometimes just $\\vec{r}$, if the parameter $t$ is clear from context. Technically, $\\vec{r}$ is known as a **vector-valued function**, which means it is a function whose output is a vector. The input to the vector-valued function $\\vec{r}$ is the parameter $t$.\n",
    "\n",
    "### **Example 2.2**\n",
    "### In the spaceship example, the parametric curve $(2t-1,t)$ traces out a line of slope $\\displaystyle \\frac{1}{2}$.\n",
    "### **Remark 2.3** Generally speaking, a parametric curve of the form $(at+b, ct+d)$ for constants $a,b,c$ and $d$ (with $a$ or $c$ nonzero) is a straight line with constant velocity. You can see this by writing\n",
    "## $$ \\vec{r}(t) = \\begin{pmatrix} a \\\\ c \\end{pmatrix} t + \\begin{pmatrix} b \\\\ d \\end{pmatrix} $$"
   ]
  },
  {
   "cell_type": "markdown",
   "id": "43989169-f610-41b8-88fd-3d80d0bd9e86",
   "metadata": {},
   "source": [
    "## Linear approximation\n",
    "\n",
    "### As with all calculus concepts, we will start by understanding linear parametric curves, that is lines. Then we will use linear approximation to reduce our understanding of more complicated, \"curvy\", parametric curves to our understanding of linear parametric curves.\n",
    "\n",
    "### **Example 3.1**\n",
    "### Let's consider the parametrized curve $(x(t), y(t)) = (t^3, t^2)$. When $t=1$, the parametric curve is defined at the point $(x(1), y(1)) = (1,1)$.\n",
    "\n",
    "### Approximate $(x(1.1), y(1.1))$.\n",
    "\n",
    "### **Solution**\n",
    "### We approximate each coordinate independently.\n",
    "## $$ \\begin{array} {rcl} x(1+\\Delta t) & \\approx & x(1) + x'(1) \\Delta t \\\\ \\, & = & 1 + 3 \\Delta t \\\\ x(1.1) & \\approx & 1.3 \\end{array} $$\n",
    "\n",
    "### Similarly, we find\n",
    "## $$ \\begin{array} {rcl} y(1+\\Delta t) & \\approx & y(1) + y'(t) \\Delta t \\\\ \\, & = & 1 + 2 \\Delta t \\\\ y(1.1) & = & 1.2 \\end{array} $$"
   ]
  },
  {
   "cell_type": "markdown",
   "id": "46d2c821-175c-4cef-9b09-18746b26a0d2",
   "metadata": {},
   "source": [
    "### **Summary**\n",
    "- ### The vector $\\langle x'(t), y'(t) \\rangle$ is the **velocity vector** of the spaceship. This means that\n",
    "## $$ \\langle \\Delta x, \\Delta y \\rangle = \\underbrace{\\langle x'(t), y'(t) \\rangle}_{\\text{velocity}} \\Delta t $$\n",
    "###   This is equivalent to what the linear approximation tells us, which is the following point.\n",
    "- ### The linear approximation says\n",
    "## $$ \\begin{array} {rcl} \\Delta x & \\approx & x'(t) \\Delta t \\\\ \\Delta y & \\approx & y'(t) \\Delta t \\end{array} $$\n",
    "- ### The vector $\\langle x'(t), y'(t) \\rangle$ is tangent to the curve at the point $(x(t), y(t))$.\n",
    "\n",
    "### **Definition 3.2**\n",
    "### Given a parametric curve $C$ defined by $\\vec{r}(t)$, the **velocity vector** $\\vec{r}'(t)$ is everywhere tangent to $C$. And the change in position along the curve is given by\n",
    "## $$ \\Delta \\vec{r} \\approx \\vec{r}'(t) \\Delta t $$"
   ]
  },
  {
   "cell_type": "markdown",
   "id": "0140c98e-f3ed-4f1a-b9c4-ed8390350a36",
   "metadata": {},
   "source": []
  }
 ],
 "metadata": {
  "kernelspec": {
   "display_name": "Python 3",
   "language": "python",
   "name": "python3"
  },
  "language_info": {
   "codemirror_mode": {
    "name": "ipython",
    "version": 3
   },
   "file_extension": ".py",
   "mimetype": "text/x-python",
   "name": "python",
   "nbconvert_exporter": "python",
   "pygments_lexer": "ipython3",
   "version": "3.8.8"
  }
 },
 "nbformat": 4,
 "nbformat_minor": 5
}
