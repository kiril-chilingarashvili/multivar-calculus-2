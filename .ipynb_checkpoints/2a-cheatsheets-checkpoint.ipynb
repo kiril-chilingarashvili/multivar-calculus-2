{
 "cells": [
  {
   "cell_type": "markdown",
   "id": "f8cb684d-3326-4e3f-8dd4-8d7a53a61706",
   "metadata": {},
   "source": [
    "# Unit 2: Introduction to Line Integrals - Part a - Review Parametric Curves and Arc Length"
   ]
  },
  {
   "cell_type": "markdown",
   "id": "da9deb7c-1605-4b52-ab20-d7f1c7728b5d",
   "metadata": {},
   "source": []
  }
 ],
 "metadata": {
  "kernelspec": {
   "display_name": "Python 3",
   "language": "python",
   "name": "python3"
  },
  "language_info": {
   "codemirror_mode": {
    "name": "ipython",
    "version": 3
   },
   "file_extension": ".py",
   "mimetype": "text/x-python",
   "name": "python",
   "nbconvert_exporter": "python",
   "pygments_lexer": "ipython3",
   "version": "3.8.8"
  }
 },
 "nbformat": 4,
 "nbformat_minor": 5
}
