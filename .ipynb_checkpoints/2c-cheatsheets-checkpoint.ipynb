{
 "cells": [
  {
   "cell_type": "markdown",
   "id": "692e9348-3537-4477-a39d-029e1cf58504",
   "metadata": {},
   "source": [
    "# Unit 2: Introduction to Line Integrals - Part c - Force Fields and Work"
   ]
  },
  {
   "cell_type": "markdown",
   "id": "29ea9946-dd4f-4738-b550-ff9cf44989a7",
   "metadata": {},
   "source": [
    "## Vector Fields and Work\n",
    "\n",
    "### So far we have explored how to integrate scalar functions $f(x, y)$ along a curve. But in a multivariable context, we have more kinds of functions, including vector-valued functions, also known as vector fields $\\vec{F}(x, y) = \\langle M(x, y), N(x, y) \\rangle$. In this lecture, we begin to explore what it means to integrate a vector-valued function along a curve.\n",
    "\n",
    "### To be able to appeal to the tools that we have for line integrals involving scalar functions, our goal will be apply the same process of breaking up our curve into small pieces. Then to look at an accumulated quantity along our curve, we either look at the magnitude of the vector field that is tangent to our curve, or the magnitude of the vector field that is normal to our given curve.\n",
    "\n",
    "### We start here by integrating the component of a vector field that is tangent to a curve. This is a quantity that comes up a lot in determining work done by a force field to an object traveling along a curve. We will explain the connection to the physical problem, and the computational methods involved in three different ways. (The next unit will give us the opportunity to explore the normal component of the vector field along a given curve.)\n",
    "\n",
    "### The key idea to keep in mind throughout this lecture is that we are given both a vector field and a curve. They are not related; we are given both independent pieces of information at the start."
   ]
  },
  {
   "cell_type": "markdown",
   "id": "564786d6-fce6-448b-aa84-34904f852553",
   "metadata": {},
   "source": [
    "## Vector fields\n",
    "\n",
    "### A **vector field** is a vector-valued function\n",
    "## $$ \\vec{F} = M \\hat{i} + N\\hat{j} $$\n",
    "\n",
    "### where $M=M(x, y)$ and $N=N(x,y)$ are functions of $x$ and $y$.\n",
    "\n",
    "### At each point $(x,y)$, $\\vec{F}$ is a vector whose direction and magnitude depend on $(x, y)$.\n",
    "\n",
    "### **Definition 2.1**\n",
    "### A vector field is a function $\\vec{F}$ whose input is any point in the plane and whose output is a vector:\n",
    "## $$ \\vec{F}(x, y) = \\langle M(x, y), N(x, y) \\rangle $$\n",
    "\n",
    "### A **vector field** is sometimes called a **vector-valued function**.\n",
    "\n",
    "### **Examples 2.2**\n",
    "\n",
    "### 1. Force fields such as gravitational force fields, or electric force fields are vector fields. This is because a force (which has both magnitude and direction) is being exerted on each point, and so for each point we have a vector representing this force.\n",
    "\n",
    "### 2. When particles in a fluid (like water or air) are moving around, there is a vector at each point representing the velocity of those particles. These “velocity fields\" are another example of vector fields.\n",
    "\n",
    "###    One such example of fluid velocity is wind. The air is a fluid and the wind speed and direction collected by NASA QuikScat gives a velocity field. The image below shows the wind speed and direction of the Santa Ana winds off the coast of California near Los Angeles. Wind speed is monitored for many reasons, including the potential for spreading wild fires.\n",
    "![img](img/img-6-01.jpeg)"
   ]
  },
  {
   "cell_type": "markdown",
   "id": "d25098f3-128e-415c-82e1-905b9cd7d3df",
   "metadata": {},
   "source": []
  }
 ],
 "metadata": {
  "kernelspec": {
   "display_name": "Python 3 (ipykernel)",
   "language": "python",
   "name": "python3"
  },
  "language_info": {
   "codemirror_mode": {
    "name": "ipython",
    "version": 3
   },
   "file_extension": ".py",
   "mimetype": "text/x-python",
   "name": "python",
   "nbconvert_exporter": "python",
   "pygments_lexer": "ipython3",
   "version": "3.10.6"
  }
 },
 "nbformat": 4,
 "nbformat_minor": 5
}
