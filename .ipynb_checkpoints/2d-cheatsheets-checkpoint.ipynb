{
 "cells": [
  {
   "cell_type": "markdown",
   "id": "10b88ba8-40aa-4888-9b68-dc5f446cfd64",
   "metadata": {},
   "source": [
    "# Unit 2: Introduction to Line Integrals - Part d - Fundamental Theorem for Line Integrals"
   ]
  },
  {
   "cell_type": "markdown",
   "id": "a26a1299-b3bd-4148-8028-7a15d78b6553",
   "metadata": {},
   "source": []
  }
 ],
 "metadata": {
  "kernelspec": {
   "display_name": "Python 3",
   "language": "python",
   "name": "python3"
  },
  "language_info": {
   "codemirror_mode": {
    "name": "ipython",
    "version": 3
   },
   "file_extension": ".py",
   "mimetype": "text/x-python",
   "name": "python",
   "nbconvert_exporter": "python",
   "pygments_lexer": "ipython3",
   "version": "3.8.8"
  }
 },
 "nbformat": 4,
 "nbformat_minor": 5
}
