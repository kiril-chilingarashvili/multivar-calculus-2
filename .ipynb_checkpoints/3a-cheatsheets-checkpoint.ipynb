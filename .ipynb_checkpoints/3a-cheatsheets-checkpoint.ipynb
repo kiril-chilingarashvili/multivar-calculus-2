{
 "cells": [
  {
   "cell_type": "markdown",
   "id": "c9f1ff9b-8909-4ae0-bee1-1837531d917d",
   "metadata": {},
   "source": [
    "# Unit 3: Line Integrals and Green’s Theorem - Part a - Gradient Fields Have Zero Curl"
   ]
  },
  {
   "cell_type": "markdown",
   "id": "f897deda-8259-4e07-88fa-cecc848b660f",
   "metadata": {},
   "source": []
  }
 ],
 "metadata": {
  "kernelspec": {
   "display_name": "Python 3 (ipykernel)",
   "language": "python",
   "name": "python3"
  },
  "language_info": {
   "codemirror_mode": {
    "name": "ipython",
    "version": 3
   },
   "file_extension": ".py",
   "mimetype": "text/x-python",
   "name": "python",
   "nbconvert_exporter": "python",
   "pygments_lexer": "ipython3",
   "version": "3.8.13"
  }
 },
 "nbformat": 4,
 "nbformat_minor": 5
}
