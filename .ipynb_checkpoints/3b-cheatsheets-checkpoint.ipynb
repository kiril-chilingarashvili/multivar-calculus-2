{
 "cells": [
  {
   "cell_type": "markdown",
   "id": "d0fafeb0-1e20-4219-9bb4-64c6d54c882a",
   "metadata": {},
   "source": [
    "# Unit 3: Line Integrals and Green’s Theorem - Part b - Green's Theorem"
   ]
  },
  {
   "cell_type": "markdown",
   "id": "bea7a1ed-1caa-4467-8710-8949feb559bc",
   "metadata": {},
   "source": []
  }
 ],
 "metadata": {
  "kernelspec": {
   "display_name": "Python 3 (ipykernel)",
   "language": "python",
   "name": "python3"
  },
  "language_info": {
   "codemirror_mode": {
    "name": "ipython",
    "version": 3
   },
   "file_extension": ".py",
   "mimetype": "text/x-python",
   "name": "python",
   "nbconvert_exporter": "python",
   "pygments_lexer": "ipython3",
   "version": "3.8.13"
  }
 },
 "nbformat": 4,
 "nbformat_minor": 5
}
