{
 "cells": [
  {
   "cell_type": "markdown",
   "id": "772a3eec-4d19-480f-9a1e-b6a69e77930e",
   "metadata": {},
   "source": [
    "# Unit 4: Triple Integrals - Part a - Triple Integrals and Cylindrical Coordinates"
   ]
  },
  {
   "cell_type": "markdown",
   "id": "d8402d2b-8fea-42a1-9501-415c0afea507",
   "metadata": {},
   "source": [
    "## Introduction\n",
    "\n",
    "### So far, our integration has taken place mostly in the 2D plane. We started with double integrals, which allow us to measure an accumulated quantity within a two-dimensional region. We have also seen a few types of line integrals, which all involve accumulating certain quantities along curves in two and three-dimensional space.\n",
    "\n",
    "### In this unit, we introduce **triple integrals** which are the 3D version of double integrals. The main idea is very similar to double integrals, and you will also learn that there are some new coordinate systems available in 3D that are useful for triple integrals.\n",
    "\n",
    "### **Objectives**\n",
    "### By the end of this lecture and recitation, you will be able to:\n",
    "- ### Correctly interpret **triple integrals** over solids as the accumulation of a quantity over a solid in three dimensions.\n",
    "- ### Convert a triple integral to an iterated integral in rectangular or **cylindrical coordinates** (for basic shapes).\n",
    "- ### **Solve basic area, mass, and average value problems** in three dimensions using triple integrals."
   ]
  },
  {
   "cell_type": "markdown",
   "id": "e5388734-dd93-48d5-a7b5-46cedfa0bc00",
   "metadata": {},
   "source": [
    "## Vocabulary 2D to 3D\n",
    "\n",
    "### **Vocabulary**\n",
    "### It is easy to get confused during this transition from 2D to 3D, because there is some new vocabulary. Let's go over this vocabulary now.\n",
    "\n",
    "### **Definition 2.1** (Shapes in the 2D plane) \n",
    "### A filled-in shape in the 2D plane is usually called a **region**. For example, the unit disk is a region.\n",
    "\n",
    "### The boundary of a 2D region is usually called a **closed curve**. The unit circle is a closed curve.\n",
    "\n",
    "### **Definition 2.2** (Shapes in 3D space) \n",
    "\n",
    "### A filled-in shape in 3D space is either called a **solid** or a **volume**. For example, the unit ball is a solid.\n",
    "\n",
    "### The boundary of a solid is usually called a **surface**. The unit sphere is an example of a surface.\n",
    "![img](img/img-12-01.png)\n",
    "\n",
    "### To demonstrate the distinction, notice that the origin is a point on the region and solid shown above, but it is not a point on the curve nor the surface.\n",
    "\n",
    "### **Integration**\n",
    "### So far in this course, you have learned about:\n",
    "- ### Integrals over regions.\n",
    "- ### Integrals over curves (including closed curves).\n",
    "\n",
    "### In this lecture, you will learn how to integrate over 3D solids. The resulting integrals are called **triple integrals**.\n",
    "\n",
    "### In case you are wondering, it is also possible to integrate over surfaces. Those integrals are called “surface integrals\", but are not covered in this course."
   ]
  },
  {
   "cell_type": "markdown",
   "id": "b7cf12dc-ffb9-4ef2-8dfa-ad8ec0e2ce55",
   "metadata": {},
   "source": [
    "## Triple integrals\n",
    "\n",
    "### When we need to integrate a function of three variables $f(x,y,z)$ over a 3D solid, we use a triple integral $\\displaystyle \\iiint$. For example, $f(x,y,z)$ might be the mass density of a three-dimensional solid $R$, which would mean that $\\displaystyle \\iiint_R f(x,y,z) \\mathop{dV}$ represents the mass of this solid.\n",
    "\n",
    "### The original definition of $\\displaystyle \\iiint_R f(x,y,z) \\mathop{dV}$ is a generalization of the definition for double integrals. In other words, $\\displaystyle \\iiint_R f(x,y,z) \\mathop{dV}$ is the quantity that is approached when we divide $R$ into more and more smaller and smaller 3D pieces $A_1, \\ldots, A_n$ centered at $(x_i, y_i, z_i)$, and form the sum:\n",
    "## $$ \\text{(Formal Definition)}\\quad \\iiint_R f(x,y,z) \\mathop{dV} = \\lim_{n\\to\\infty} \\sum_{i=1}^{n} \\mathrm{Volume}(A_i) f(x_i, y_i, z_i) $$\n",
    "\n",
    "### As usual with integrals, we don't use this definition directly to evaluate triple integrals, and instead use the familiar method of converting to an iterated integral.\n",
    "\n",
    "### Let's see a quick example to demonstrate the method.\n",
    "\n",
    "### **Example 3.1**\n",
    "### Let $R$ be the 3D solid beneath the plane $z=3$ and above the unit square in the $xy$-plane. If the mass density of $R$ is $\\delta(x,y,z)=1+2x+4y+6z$, then what is the mass of $R$?\n",
    "\n",
    "### **Solution**:\n",
    "### To solve this problem, we will take the triple integral of $\\delta(x,y,z)$ over the solid $R$:\n",
    "## $$ \\iiint_R \\delta(x,y,z) \\mathop{dV} = \\iiint_R 1+2x+4y+6z\\mathop{dV} $$\n",
    "\n",
    "### Just as we did with double integrals, we need to set up the endpoints for each of the three integrals. Any ordering of $\\mathop{dx}\\mathop{dy}\\mathop{dz}$ is valid; in this problem we will choose $\\mathop{dx}\\mathop{dy}\\mathop{dz}$.\n",
    "## $$ \\iiint_R 1+2x+4y+6z\\mathop{dV} = \\int_{z=?}^{?}\\int_{y=?}^{?}\\int_{x=?}^{?}1+2x+4y+6z\\mathop{dx}\\mathop{dy}\\mathop{dz} $$\n",
    "\n",
    "### To fill in the missing ?'s, we need to figure out the minimum and maximum values of each variable. Since $x$ and $y$ run through the unit square, each of those intervals of possible $x$-values and $y$-values is $[0,1]$.\n",
    "\n",
    "### Since the solid stretches from $z=0$ to the plane $z=3$, the interval of possible $z$-values is $[0,3]$. We can now fill in the endpoints:\n",
    "## $$ \\iiint_R 1+2x+4y+6z\\mathop{dV} = \\int_{z=0}^{3}\\int_{y=0}^{1}\\int_{x=0}^{1}1+2x+4y+6z\\mathop{dx}\\mathop{dy}\\mathop{dz} $$\n",
    "\n",
    "### We now proceed in the usual way, treating each variable as a constant except when it is the variable of integration.\n",
    "## $$ \\begin{array} {rcl} \\displaystyle \\int_{z=0}^{3}\\int_{y=0}^{1}\\int_{x=0}^{1}1+2x+4y+6z\\mathop{dx}\\mathop{dy}\\mathop{dz} & = & \\displaystyle \\int_{z=0}^{3}\\int_{y=0}^{1}\\left. x+x^2+4xy+6xz\\right|_{x=0}^1\\mathop{dy}\\mathop{dz}  \\\\ \\, & = & \\displaystyle \\int_{z=0}^{3}\\int_{y=0}^{1}2+4y+6z\\mathop{dy}\\mathop{dz} \\\\ \\, & = & \\displaystyle \\int_{z=0}^{3} \\left. 2y+2y^2+6yz \\right|_{y=0}^{1} \\mathop{dz} \\\\ \\, & = & \\displaystyle \\int_{z=0}^{3} 4+6z \\mathop{dz} \\\\ \\, & = & \\displaystyle \\left. (4z+3z^2) \\right|_{z=0}^3 \\\\ \\, & = & \\displaystyle 39 \\end{array} $$\n",
    "\n",
    "### **Remark 3.2**\n",
    "### In the example above, we included the variable names in the bounds of the integrals.\n",
    "\n",
    "### These aren't strictly necessary, because they can be inferred from the order of the differentials at the end of the integral. For example,\n",
    "## $$ \\iiint_R 1+2x+4y+6z\\mathop{dV} = \\int_{z=0}^{3}\\int_{y=0}^{1}\\int_{x=0}^{1}1+2x+4y+6z\\mathop{dx}\\mathop{dy}\\mathop{dz} $$\n",
    "\n",
    "### is equivalently expressed as\n",
    "## $$ \\iiint_R 1+2x+4y+6z\\mathop{dV} = \\int_{0}^{3}\\int_{0}^{1}\\int_{0}^{1}1+2x+4y+6z\\mathop{dx}\\mathop{dy}\\mathop{dz} $$\n",
    "\n",
    "### Writing the bounds as $x=\\cdots$ and $y=\\cdots$ can help make it more clear which bounds go with which variables, but this notation is not always included.\n",
    "\n",
    "### On the next page, we will see an example where the solid $R$ is not as simple."
   ]
  },
  {
   "cell_type": "markdown",
   "id": "b842a656-85ed-40ba-ba70-a70c312e8df2",
   "metadata": {},
   "source": [
    "## Paraboloid Example\n",
    "\n",
    "### For our next example, the integrand is just $1$, so we can focus on setting up the integration endpoints.\n",
    "\n",
    "### **Example**\n",
    "### Use triple integrals to find the volume of the solid between paraboloids $z=x^2+y^2$ and $z=4-x^2-y^2$.\n",
    "\n",
    "### **Solution part 1**:\n",
    "### Let $R$ be the solid of interest. Since we are finding the volume, the integrand is just $1$:\n",
    "## $$ \\mathrm{Volume} = \\iiint_R \\mathop{dV} $$\n",
    "\n",
    "### To convert this to an iterated integral, we need to find the integration endpoints. In other words, we need to find intervals for $x,y,z$ that describe the solid.\n",
    "\n",
    "### Here is one approach: we can make the innermost integral run over $z$. This will work because once we are given $x$ and $y$, we know that $z=x^2+y^2$ runs from the bottom paraboloid $z=4-x^2-y^2$ to the top paraboloid $z=4-x^2-y^2$.\n",
    "\n",
    "### So far, we have:\n",
    "## $$ \\iiint_R \\mathop{dV} = \\int_{x=?}^{?}\\int_{y=?}^{?}\\int_{z=x^2+y^2}^{4-x^2-y^2} \\mathop{dz}\\mathop{dy}\\mathop{dx} $$\n",
    "\n",
    "### Volume Between Paraboloids\n"
   ]
  },
  {
   "cell_type": "code",
   "execution_count": 1,
   "id": "f2852a66-db00-40e3-9c72-a4d9fd66d771",
   "metadata": {
    "jupyter": {
     "source_hidden": true
    },
    "tags": []
   },
   "outputs": [
    {
     "data": {
      "text/html": [
       "<iframe width=\"900\" height=\"650\" src=\"https://courses.edx.org/asset-v1:MITx+18.02.2x+2T2022+type@asset+block/threejs_u9_VolumeBetweenParaboloids.html\" frameborder=\"0\" allow=\"accelerometer; autoplay; clipboard-write; encrypted-media; gyroscope; picture-in-picture\" allowfullscreen></iframe>\n"
      ],
      "text/plain": [
       "<IPython.core.display.HTML object>"
      ]
     },
     "metadata": {},
     "output_type": "display_data"
    }
   ],
   "source": [
    "%%html\n",
    "<iframe width=\"900\" height=\"650\" src=\"https://courses.edx.org/asset-v1:MITx+18.02.2x+2T2022+type@asset+block/threejs_u9_VolumeBetweenParaboloids.html\" frameborder=\"0\" allow=\"accelerometer; autoplay; clipboard-write; encrypted-media; gyroscope; picture-in-picture\" allowfullscreen></iframe>"
   ]
  },
  {
   "cell_type": "markdown",
   "id": "143213e1-5496-401b-a9bd-315aa0aba8c4",
   "metadata": {},
   "source": [
    "### **Solution part 2**\n",
    "\n",
    "### We now need to find the endpoints for the $x$ and $y$ integrals. In other words: what are the possible $x$ and $y$-coordinates of all points in the solid $R$?\n",
    "\n",
    "### For the solid $R$ described above, the set of possible $x$ and $y$-coordinates can be represented by a disk in the $xy$-plane of radius $\\sqrt{2}$:\n",
    "## $$ x^2+y^2 \\leq 2 $$\n",
    "\n",
    "### This is because the “shadow\" of the volume $R$ in the $xy$-plane is a disk of radius $\\sqrt{2}$.\n",
    "\n",
    "### We can also find this shadow by solving for all $x$ and $y$ such that:\n",
    "## $$ \\begin{array} {rcl} \\text{Lower paraboloid} & \\leq & \\text{Upper paraboloid} \\\\ x^2 + y^2 & \\leq & 4-x^2-y^2 \\\\ x^2 + y^2 & \\leq & 2 \\end{array} $$\n",
    "![img](img/img-12-02.png)\n",
    "\n",
    "### Therefore, we can set up the corresponding integration endpoints by having $x$ go from $-\\sqrt{2}$ to $\\sqrt{2}$ and $y$ go from $-\\sqrt{2-x^2}$ to $\\sqrt{2-x^2}$. This leaves us with an iterated integral:\n",
    "## $$ \\iiint_R \\mathop{dV} = \\int_{x=-\\sqrt{2}}^{\\sqrt{2}}\\int_{y=-\\sqrt{2-x^2}}^{\\sqrt{2-x^2}}\\int_{z=x^2+y^2}^{4-x^2-y^2} \\mathop{dz}\\mathop{dy}\\mathop{dx} $$\n",
    "\n",
    "### The rest becomes a routine computation. After simplifying the innermost integral, we end up with the type of double integral we have dealt with before:\n",
    "## $$ \\mathrm{Volume} = \\iiint_R \\mathop{dV} = \\int_{x=-\\sqrt{2}}^{\\sqrt{2}}\\int_{y=-\\sqrt{2-x^2}}^{\\sqrt{2-x^2}} 4-2x^2-2y^2 \\mathop{dy}\\mathop{dx} $$\n",
    "\n",
    "### In fact, if you didn't know about triple integrals, this is the double integral you would have set up to find the given volume between two surfaces. After a routine calculation (perhaps switching to polar coordinates), we obtain a volume of $4\\pi$."
   ]
  },
  {
   "cell_type": "markdown",
   "id": "5a6151cf-977b-4b31-a6ce-0a5eac56061b",
   "metadata": {},
   "source": [
    "## Cylindrical coordinates\n",
    "\n",
    "### In the previous integral example, we ended up in a situation where the possible values for $x$ and $y$ were all of those in a disk, and  went between two functions involving $x^2+y^2$. In situations like these, it is easier to use what are called **cylindrical coordinates**, which means we use polar coordinates to handle $x$ and $y$, and leave $z$ the same. Let's go over the basics, and then see how they can be used for integration."
   ]
  },
  {
   "cell_type": "markdown",
   "id": "20d2160e-6efe-4f7a-94af-b810f5cc98db",
   "metadata": {},
   "source": [
    "### **Definition 6.1**\n",
    "\n",
    "### The **cylindrical coordinates** of a point $(x,y,z)$ are the values $(r,\\theta,z)$ related by the equations:\n",
    "## $$ \\begin{array} {rcl} x & = & r\\cos(theta) \\\\ y & = & r\\sin(\\theta) \\\\ z & = & z \\end{array} $$\n",
    "\n",
    "### In other words, we use $r$ and $\\theta$ instead of $x$ and $y, leaving $z$ the same.\n",
    "\n",
    "### **Example 6.2**\n",
    "### For example, the point $(0,2,8)$ sits $2$ units along the $y$-axis and $8$ units above the $xy$-plane. In cylindrical coordinates, we would describe this point with the numbers $\\displaystyle (r,\\theta,z) = (2, \\frac{\\pi}{2}, 8)$. This is because the polar coordinates of $(0,2)$ are $\\displaystyle (r,\\theta)=(2,\\frac{\\pi}{2})$.\n",
    "![img](img/img-12-03.png)"
   ]
  },
  {
   "cell_type": "code",
   "execution_count": 5,
   "id": "148be5ab-e500-4ce5-8f48-597b9a16b293",
   "metadata": {
    "jupyter": {
     "source_hidden": true
    },
    "tags": []
   },
   "outputs": [
    {
     "data": {
      "text/html": [
       "<iframe width=\"900\" height=\"650\" src=\"https://courses.edx.org/asset-v1:MITx+18.02.2x+2T2022+type@asset+block/threejs_u9_CylindricalCoordinatesInteractive.html\" frameborder=\"0\" allow=\"accelerometer; autoplay; clipboard-write; encrypted-media; gyroscope; picture-in-picture\" allowfullscreen></iframe>\n"
      ],
      "text/plain": [
       "<IPython.core.display.HTML object>"
      ]
     },
     "metadata": {},
     "output_type": "display_data"
    }
   ],
   "source": [
    "%%html\n",
    "<iframe width=\"900\" height=\"650\" src=\"https://courses.edx.org/asset-v1:MITx+18.02.2x+2T2022+type@asset+block/threejs_u9_CylindricalCoordinatesInteractive.html\" frameborder=\"0\" allow=\"accelerometer; autoplay; clipboard-write; encrypted-media; gyroscope; picture-in-picture\" allowfullscreen></iframe>"
   ]
  },
  {
   "cell_type": "markdown",
   "id": "60e0a1bd-6154-4be6-b4ad-8b6ebb29ad9f",
   "metadata": {},
   "source": [
    "### **Remark 6.3**\n",
    "### Cylindrical coordinate are just another “language\" to describe where things are in three-dimensional space. For certain shapes (especially cylinders and portions of cylinders) it can be more convenient to work in cylindrical coordinates than in rectangular coordinates.\n",
    "\n",
    "### For example, in cylindrical coordinates, we can describe a cylinder simply by the equation $r=a$, where $z$ can vary.\n",
    "## $$ \\text{(Equation of a cylinder)}\\quad r=a, \\quad b\\leq z \\leq c $$"
   ]
  },
  {
   "cell_type": "markdown",
   "id": "c3d360d5-4fd0-4bce-972a-81fe481f0400",
   "metadata": {},
   "source": [
    "## Cylindrical integrals\n",
    "\n",
    "### We might choose to set up a triple integral using cylindrical coordinates if the solid of integration resembles a portion of a cylinder, or some other cylindrical shape. We might also make the switch because it happens to simplify the integrand.\n",
    "\n",
    "### But keep in mind, when we replace $\\mathop{dV}$ with cylindrical coordinates $\\mathop{dr}\\mathop{d\\theta}\\mathop{dz} $, we need to bring along the volume scaling factor, which is $r$:\n",
    "## $$ \\text{(Volume element in cylindrical coordinates)} \\quad \\mathop{dx}\\mathop{dy}\\mathop{dz} = r \\mathop{dr}\\mathop{d\\theta}\\mathop{dz} $$\n",
    "\n",
    "### We will explain where the $r$ comes from in a moment. First let's see an example by re-doing the previous integration example using cylindrical coordinates.\n",
    "\n",
    "### **Example 8.1**\n",
    "### Use triple integrals to find the volume of the solid between paraboloids $z=x^2+y^2$ and $4-x^2-y^2$.\n",
    "\n",
    "### **Solution with cylindrical coordinates**:\n",
    "### As we saw before, we have $z$ running from $x^2+y^2$ to $4-x^2-y^2$ while $x$ and $y$ run through a disk of radius $\\sqrt{2}$.\n",
    "\n",
    "### Therefore, in cylindrical coordinates, the solid of integration can be described by:\n",
    "## $$ \\begin{array} {rcl} r^2 \\leq z \\leq 4-r^2 & & \\text{Because}\\, z \\, \\text{runs between surfaces} \\\\ 0 \\leq r \\leq \\sqrt{2} & & \\text{Because the disk radius is}\\, \\sqrt{2} \\\\ 0 \\leq \\theta \\leq 2\\pi & & \\text{Because the disk covers all}\\, 4 \\,\\text{quadrants} \\end{array} $$\n",
    "\n",
    "### We have used that $x^2+y^2=r^2$.\n",
    "\n",
    "### So, adding in the area scaling factor of $r$, our new iterated integral is:\n",
    "## $$ \\iiint_r \\mathop{dV} = \\int_{\\theta=0}^{2\\pi}\\int_{r=0}^{\\sqrt{2}}\\int_{z=r^2}^{4-r^2} r \\mathop{dz}\\mathop{dr}\\mathop{d\\theta} $$\n",
    "\n",
    "### What we want to emphasize is that it was easier to find the appropriate endpoints in cylindrical coordinates. The resulting integral is also a bit easier to finish:\n",
    "## $$ \\begin{array} {rcl} \\displaystyle \\int_{\\theta=0}^{2\\pi}\\int_{r=0}^{\\sqrt{2}}\\int_{z=r^2}^{4-r^2} r \\mathop{dz}\\mathop{dr}\\mathop{d\\theta} & = & \\displaystyle \\int_{\\theta=0}^{2\\pi}\\int_{r=0}^{\\sqrt{2}} r(4-2r^2)\\mathop{dr}\\mathop{d\\theta} \\\\ \\, & = & \\displaystyle \\int_{\\theta=0}^{2\\pi}\\int_{r=0}^{\\sqrt{2}} 4r - 2 r^3 \\mathop{dr}\\mathop{d\\theta} \\\\ \\, & = & \\displaystyle \\int_{\\theta=0}^{2\\pi} \\left. \\left( 2r^2 - \\frac{r^4}{2} \\right) \\right|_{r=0}^{\\sqrt{2}} \\mathop{d\\theta} \\\\ \\, & = & \\displaystyle \\int_{\\theta=0}^{2\\pi} 4-2 \\mathop{d\\theta} \\\\ \\, & = & \\displaystyle 4\\pi \\end{array} $$\n",
    "\n",
    "### Next let's go over why the area scaling factor is $r$.\n",
    "\n",
    "### The area scaling factor is $r$ because, as we have seen before, when $x$ and $y$ are switched to polar coordinates, areas are scaled by a factor of $r$. Since we leave $z$ alone, $\\mathop{dz}$ also stays the same.\n",
    "\n",
    "### See also the following image:\n",
    "![img](img/img-12-04.png)\n",
    "\n",
    "### The image shows the portion of a cylinder obtained as $\\theta$ is increased by $\\Delta \\theta$ and $z$ is increased by $\\Delta z$. For small $\\Delta \\theta$ and $\\Delta z$, this shape is approximately a rectangle of area $r\\Delta \\theta \\Delta z$. When $r$ increases by $\\Delta r$, the shape is thickened, giving a resulting volume of $r\\Delta r \\Delta \\theta \\Delta z$. Taking a limit, and replacing $\\Delta$ with $d$, we obtain the volume element $r\\mathop{dr}\\mathop{d\\theta}\\mathop{dz}$:\n",
    "## $$ \\text{(Volume element in cylindrical coordinates)}\\quad \\mathop{dx}\\mathop{dy}\\mathop{dz} = r \\mathop{dr}\\mathop{d\\theta}\\mathop{dz}  $$\n",
    "\n",
    "### The following visualization shows the 3D volume that is created when each of the cylindrical coordinates $r,\\theta,z$ are increased by small amounts $\\Delta r, \\Delta \\theta, \\Delta z$. Note that, if the increases are small, then the shape is approximately a thickened rectangle of dimensions $\\Delta z, \\Delta r$ and $r\\Delta \\theta$. Multiplying these together and replacing $\\Delta$ with $d$ gives us the volume element in cylindrical coordinates.\n",
    "\n",
    "### **Volume Element in Cylindrical Coordinates**"
   ]
  },
  {
   "cell_type": "code",
   "execution_count": 6,
   "id": "7bd5df23-66dd-47cf-8f1a-1144a6cfaa11",
   "metadata": {
    "jupyter": {
     "source_hidden": true
    },
    "tags": []
   },
   "outputs": [
    {
     "data": {
      "text/html": [
       "<iframe width=\"900\" height=\"650\" src=\"https://courses.edx.org/asset-v1:MITx+18.02.2x+2T2022+type@asset+block/threejs_u9_PatchOfCylinder.html\" frameborder=\"0\" allow=\"accelerometer; autoplay; clipboard-write; encrypted-media; gyroscope; picture-in-picture\" allowfullscreen></iframe>\n"
      ],
      "text/plain": [
       "<IPython.core.display.HTML object>"
      ]
     },
     "metadata": {},
     "output_type": "display_data"
    }
   ],
   "source": [
    "%%html\n",
    "<iframe width=\"900\" height=\"650\" src=\"https://courses.edx.org/asset-v1:MITx+18.02.2x+2T2022+type@asset+block/threejs_u9_PatchOfCylinder.html\" frameborder=\"0\" allow=\"accelerometer; autoplay; clipboard-write; encrypted-media; gyroscope; picture-in-picture\" allowfullscreen></iframe>"
   ]
  },
  {
   "cell_type": "markdown",
   "id": "0a8d5b4d-566a-4b93-8e6e-8f9adb15de0e",
   "metadata": {},
   "source": [
    "## Applications in 3D\n",
    "\n",
    "### **Mass**\n",
    "### We have seen an example of computing the mass of a 3D solid with variable density. This mass is often written using the “mass element\" $\\mathop{dm}$ which represents the mass of an infinitesimal piece of the solid. If the density is $\\delta$, then by definition $\\mathop{dm} = \\delta \\mathop{dV}$. So we have:\n",
    "## $$ \\operatorname{Mass}(R) = \\iiint_R \\mathop{dm} = \\iiint_R \\delta \\mathop{dV} $$\n",
    "\n",
    "### **Average value**\n",
    "### Just as we did with double integrals, we can take the average value of a function $f(x,y,z)$ over a 3D solid $R$. We have:\n",
    "## $$ \\text{(Avg. value of}\\, f(x,y,z)\\,\\text{)}\\quad \\overline{f} = \\frac{1}{\\operatorname{Volume}(R)} \\iiint_R f(x,y,z) \\mathop{dV} $$\n",
    "\n",
    "### And we can also find a weighted average with weight function $\\delta(x,y,z)$:\n",
    "## $$ \\text{(Weighted Avg. value of}\\, f(x,y,z)\\,\\text{)}\\quad \\frac{1}{\\operatorname{Mass}(R)} \\iiint_R f(x,y,z) \\delta(x,y,z) \\mathop{dV} $$\n",
    "\n",
    "### **Center of mass**\n",
    "### The center of mass (also called “centroid\") of a 3D solid $R$ is found by taking the average values of $x,y$, and $z$ over the solid $R$:\n",
    "## $$ \\text{(Centroid of}\\, R \\, \\text{)} = (\\overline{x}, \\overline{y}, \\overline{z}) $$\n",
    "\n",
    "### The notation $\\overline{x}$ represents the average value of the function $f(x,y,z) = x$. Explicitly,\n",
    "## $$ \\overline{x} = \\frac{1}{\\operatorname{Mass}(R)} \\iiint_R x \\delta(x,y,z) \\mathop{dV} $$\n",
    "\n",
    "### **Remark 9.1**\n",
    "### Sometimes you can figure out $\\overline{x}, \\overline{y}$ or $\\overline{z}$ from symmetry considerations, instead of needing to do out an integral. But be careful, if the density is not constant, the shape might not be as symmetrical as it seems.\n",
    "\n",
    "### **Moment of inertia with respect to an axis**\n",
    "### For a 3D solid with density function $\\delta(x,y,z)$, its moment of inertia about an axis $S$ is:\n",
    "## $$ \\text{(Moment of inertia of solid about axis}\\, S\\,\\text{)}\\quad \\iiint_R (\\text{distance to}\\,S)^2 \\delta(x,y,z) \\mathop{dV} $$\n",
    "\n",
    "### This is the same definition that we used for moment of inertia in 2D.\n",
    "\n",
    "### Some special cases to consider:\n",
    "## $$ \\begin{array} {rcl} \\displaystyle \\text{(Moment of inertia of solid about }\\,x\\text{-axis)} & \\quad & \\displaystyle  \\iiint_R (y^2+z^2) \\delta(x,y,z) \\mathop{dV} \\\\ \\displaystyle \\text{(Moment of inertia of solid about }\\,y\\text{-axis)} & \\quad & \\displaystyle  \\iiint_R (x^2+z^2) \\delta(x,y,z) \\mathop{dV} \\\\ \\displaystyle \\text{(Moment of inertia of solid about }\\,z\\text{-axis)} & \\quad & \\displaystyle  \\iiint_R (x^2+y^2) \\delta(x,y,z) \\mathop{dV} \\end{array} $$\n",
    "\n",
    "### **Remark 9.2**\n",
    "### There is no need to memorize the above formulas for the moment of inertia about the $x,y,z$-axes. Instead, you can rederive them when they are needed. For example, to compute the moment of inertia about the $x$-axis would require computing the distance from $(x,y,z)$ to the $x$-axis. Since the closest point on the $x$-axis would be $(x,0,0)$, the distance formula (or Pythagorean Theorem) tells us:\n",
    "## $$ \\text{Distance from}\\, (x,y,z)\\, \\text{to}\\,x\\text{-axis}=\\sqrt{y^2+z^2} $$\n",
    "\n",
    "### Plugging this distance into the definition of moment of inertia gives the formula\n",
    "## $$ \\text{(Moment of inertia of solid about }\\,x\\text{-axis)} \\quad \\displaystyle  \\iiint_R (y^2+z^2) \\delta(x,y,z) \\mathop{dV} $$"
   ]
  },
  {
   "cell_type": "markdown",
   "id": "852bab8d-a30f-44ba-8418-382e87d96e4a",
   "metadata": {},
   "source": [
    "## Example of moment of inertia"
   ]
  },
  {
   "cell_type": "code",
   "execution_count": 7,
   "id": "3c204a9a-2a92-4c4e-b604-20b13f2a87f7",
   "metadata": {
    "jupyter": {
     "source_hidden": true
    },
    "tags": []
   },
   "outputs": [
    {
     "data": {
      "text/html": [
       "<iframe width=\"900\" height=\"650\" src=\"https://courses.edx.org/asset-v1:MITx+18.02.2x+2T2022+type@asset+block/threejs_u9_ConeAnnotated.html\" frameborder=\"0\" allow=\"accelerometer; autoplay; clipboard-write; encrypted-media; gyroscope; picture-in-picture\" allowfullscreen></iframe>\n"
      ],
      "text/plain": [
       "<IPython.core.display.HTML object>"
      ]
     },
     "metadata": {},
     "output_type": "display_data"
    }
   ],
   "source": [
    "%%html\n",
    "<iframe width=\"900\" height=\"650\" src=\"https://courses.edx.org/asset-v1:MITx+18.02.2x+2T2022+type@asset+block/threejs_u9_ConeAnnotated.html\" frameborder=\"0\" allow=\"accelerometer; autoplay; clipboard-write; encrypted-media; gyroscope; picture-in-picture\" allowfullscreen></iframe>"
   ]
  },
  {
   "cell_type": "markdown",
   "id": "6bb2b335-b93a-4f25-a549-2c2ced35c972",
   "metadata": {},
   "source": [
    "### **Example 10.1**\n",
    "### Find the moment of inertia about the $z$-axis of a solid cone described in cylindrical coordinates as the solid between $z=ar$ and $z=b$, where $a$ and $b$ are constants. Assume the density is constantly $1$.\n",
    "\n",
    "### Solution: Let $R$ be the cone. The moment of inertia about the $z$-axis is:\n",
    "## $$ I_z = \\iiint_R x^2+y^2 \\mathop{dV} $$\n",
    "\n",
    "### Since the solid was described with cylindrical coordinates, it makes sense to compute this integral that way. So we have:\n",
    "## $$ I_z = \\int_{z=?}^{?}\\int_{\\theta=?}^{?}\\int_{r=?}^{?} r^2 \\cdot r \\mathop{dr}\\mathop{d\\theta}\\mathop{dz} $$\n",
    "\n",
    "### (We have chosen to use the ordering $\\mathop{dr}\\mathop{d\\theta}\\mathop{dz}$ but other orderings will also work)\n",
    "\n",
    "### We start with the outermost integral, which is $z$. The smallest value of $z$ is $0$, and the largest value is $z=b$ since that is the upper plane. So far we have:\n",
    "## $$ I_z = \\int_{z=0}^{b}\\int_{\\theta=?}^{?}\\int_{r=?}^{?} r^2 \\cdot r \\mathop{dr}\\mathop{d\\theta}\\mathop{dz} $$\n",
    "\n",
    "### For the inner integrals, we think about the piece of $R$ we get when the $z$-coordinate is fixed."
   ]
  },
  {
   "cell_type": "markdown",
   "id": "f57e3e5e-8460-4829-b6a6-f6173c6fa7c6",
   "metadata": {},
   "source": [
    "### **Cone Sliced**"
   ]
  },
  {
   "cell_type": "code",
   "execution_count": 8,
   "id": "f6406fa8-b305-4243-a805-a0b477095b33",
   "metadata": {
    "jupyter": {
     "source_hidden": true
    },
    "tags": []
   },
   "outputs": [
    {
     "data": {
      "text/html": [
       "<iframe width=\"900\" height=\"650\" src=\"https://courses.edx.org/asset-v1:MITx+18.02.2x+2T2022+type@asset+block/threejs_u9_ConeSliced.html\" frameborder=\"0\" allow=\"accelerometer; autoplay; clipboard-write; encrypted-media; gyroscope; picture-in-picture\" allowfullscreen></iframe>\n"
      ],
      "text/plain": [
       "<IPython.core.display.HTML object>"
      ]
     },
     "metadata": {},
     "output_type": "display_data"
    }
   ],
   "source": [
    "%%html\n",
    "<iframe width=\"900\" height=\"650\" src=\"https://courses.edx.org/asset-v1:MITx+18.02.2x+2T2022+type@asset+block/threejs_u9_ConeSliced.html\" frameborder=\"0\" allow=\"accelerometer; autoplay; clipboard-write; encrypted-media; gyroscope; picture-in-picture\" allowfullscreen></iframe>"
   ]
  },
  {
   "cell_type": "markdown",
   "id": "cfe29e43-4ba5-4d4b-a325-73ff93fb4513",
   "metadata": {},
   "source": [
    "### When the $z$-coordinate is fixed, it means we are slicing $R$ with a horizontal plane. The resulting portion of the cone is a disk. In fact the radius of this disk is $z/a$, which we can see by solving the defining equation $z=ar$ for $r$.\n",
    "\n",
    "### It follows that $r$ and $\\theta$ run through the values that describe a disk of radius $z/a$. Thus, we have:\n",
    "## $$ I_z = \\int_{z=0}^{b}\\int_{\\theta=0}^{2\\pi}\\int_{r=0}^{z/a} r^2 \\cdot r \\mathop{dr}\\mathop{d\\theta}\\mathop{dz} $$\n",
    "\n",
    "### After a lengthy but routine calculation, we obtain \n",
    "## $$ I_z = \\frac{\\pi b^5}{10 a^4} $$"
   ]
  },
  {
   "cell_type": "markdown",
   "id": "c5301bed-7958-4b0f-8c07-89b7a66ad65c",
   "metadata": {},
   "source": [
    "## Summary\n",
    "\n",
    "### **Big Picture**\n",
    "### 1. When we need to integrate a function of three variables $f(x,y,z)$, we use a triple integral $\\displaystyle \\iiint$.\n",
    "### 2. In a triple integral, the domain that we integrate over is a 3D solid $R$.\n",
    "### 3. We can use triple integrals to compute the mass of the solid $R$, its moment of inertia, or the average value of a function over $R$.\n",
    "\n",
    "### **Mechanics**\n",
    "### 1. When setting up the endpoints for each of the three integrals in $\\displaystyle \\iiint$, we can use any convenient coordinate system. For now, our options are rectangular coordinates $x,y,z$ or cylindrical coordinates $r,\\theta,z$.\n",
    "![img](img/img-12-05.png) \n",
    "\n",
    "### 2. As usual, the endpoints for each integral represent the interval of values that each coordinate runs through (possibly dependent on the outer integration variables).\n",
    "\n",
    "### 3. If $R$ is a box, then the endpoints for $x,y$, and $z$ will be constants, so we will have something like $\\displaystyle \\int_{x=0}^3 \\int_{y=-1}^1\\int_{z=0}^2$. But if the solid is not a box, the bounds for $x,y$, and $z$ will be functions of the outer integration variables.\n",
    "\n",
    "### **Ask Yourself**\n",
    "### **When would we switch an integral to cylindrical coordinates?**\n",
    "### Most often, the switch will happen when setting up the integral, that is, when finding the endpoints of integration. For example, if the solid is a portion of a cylinder, it will be easier to write down the endpoints in cylindrical coordinates.\n",
    "\n",
    "### **How do we decide in what order to do an iterated integral?**\n",
    "### The answer is the same as it was for double integrals: use whichever ordering makes the problem easier. It is often helpful to sketch the solid of integration, which will sometimes give a hint that the integral is more suited to one order or another."
   ]
  },
  {
   "cell_type": "markdown",
   "id": "0ec52227-60af-48f8-9d89-6036956e7101",
   "metadata": {},
   "source": []
  }
 ],
 "metadata": {
  "kernelspec": {
   "display_name": "Python 3 (ipykernel)",
   "language": "python",
   "name": "python3"
  },
  "language_info": {
   "codemirror_mode": {
    "name": "ipython",
    "version": 3
   },
   "file_extension": ".py",
   "mimetype": "text/x-python",
   "name": "python",
   "nbconvert_exporter": "python",
   "pygments_lexer": "ipython3",
   "version": "3.8.13"
  }
 },
 "nbformat": 4,
 "nbformat_minor": 5
}
