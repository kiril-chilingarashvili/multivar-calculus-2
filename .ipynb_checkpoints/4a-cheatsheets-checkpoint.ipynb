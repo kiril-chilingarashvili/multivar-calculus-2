{
 "cells": [
  {
   "cell_type": "markdown",
   "id": "772a3eec-4d19-480f-9a1e-b6a69e77930e",
   "metadata": {},
   "source": [
    "# Unit 4: Triple Integrals - Part a - Triple Integrals and Cylindrical Coordinates"
   ]
  },
  {
   "cell_type": "markdown",
   "id": "d8402d2b-8fea-42a1-9501-415c0afea507",
   "metadata": {},
   "source": [
    "## Introduction\n",
    "\n",
    "### So far, our integration has taken place mostly in the 2D plane. We started with double integrals, which allow us to measure an accumulated quantity within a two-dimensional region. We have also seen a few types of line integrals, which all involve accumulating certain quantities along curves in two and three-dimensional space.\n",
    "\n",
    "### In this unit, we introduce **triple integrals** which are the 3D version of double integrals. The main idea is very similar to double integrals, and you will also learn that there are some new coordinate systems available in 3D that are useful for triple integrals.\n",
    "\n",
    "### **Objectives**\n",
    "### By the end of this lecture and recitation, you will be able to:\n",
    "- ### Correctly interpret **triple integrals** over solids as the accumulation of a quantity over a solid in three dimensions.\n",
    "- ### Convert a triple integral to an iterated integral in rectangular or **cylindrical coordinates** (for basic shapes).\n",
    "- ### **Solve basic area, mass, and average value problems** in three dimensions using triple integrals."
   ]
  },
  {
   "cell_type": "markdown",
   "id": "e5388734-dd93-48d5-a7b5-46cedfa0bc00",
   "metadata": {},
   "source": [
    "## Vocabulary 2D to 3D\n",
    "\n",
    "### **Vocabulary**\n",
    "### It is easy to get confused during this transition from 2D to 3D, because there is some new vocabulary. Let's go over this vocabulary now.\n",
    "\n",
    "### **Definition 2.1** (Shapes in the 2D plane) \n",
    "### A filled-in shape in the 2D plane is usually called a **region**. For example, the unit disk is a region.\n",
    "\n",
    "### The boundary of a 2D region is usually called a **closed curve**. The unit circle is a closed curve.\n",
    "\n",
    "### **Definition 2.2** (Shapes in 3D space) \n",
    "\n",
    "### A filled-in shape in 3D space is either called a **solid** or a **volume**. For example, the unit ball is a solid.\n",
    "\n",
    "### The boundary of a solid is usually called a **surface**. The unit sphere is an example of a surface.\n",
    "![img](img/img-12-01.png)\n",
    "\n",
    "### To demonstrate the distinction, notice that the origin is a point on the region and solid shown above, but it is not a point on the curve nor the surface.\n",
    "\n",
    "### **Integration**\n",
    "### So far in this course, you have learned about:\n",
    "- ### Integrals over regions.\n",
    "- ### Integrals over curves (including closed curves).\n",
    "\n",
    "### In this lecture, you will learn how to integrate over 3D solids. The resulting integrals are called **triple integrals**.\n",
    "\n",
    "### In case you are wondering, it is also possible to integrate over surfaces. Those integrals are called “surface integrals\", but are not covered in this course."
   ]
  },
  {
   "cell_type": "markdown",
   "id": "b7cf12dc-ffb9-4ef2-8dfa-ad8ec0e2ce55",
   "metadata": {},
   "source": [
    "## Triple integrals\n",
    "\n",
    "### When we need to integrate a function of three variables $f(x,y,z)$ over a 3D solid, we use a triple integral $\\displaystyle \\iiint$. For example, $f(x,y,z)$ might be the mass density of a three-dimensional solid $R$, which would mean that $\\displaystyle \\iiint_R f(x,y,z) \\mathop{dV}$ represents the mass of this solid.\n",
    "\n",
    "### The original definition of $\\displaystyle \\iiint_R f(x,y,z) \\mathop{dV}$ is a generalization of the definition for double integrals. In other words, $\\displaystyle \\iiint_R f(x,y,z) \\mathop{dV}$ is the quantity that is approached when we divide $R$ into more and more smaller and smaller 3D pieces $A_1, \\ldots, A_n$ centered at $(x_i, y_i, z_i)$, and form the sum:\n",
    "## $$ \\text{(Formal Definition)}\\quad \\iiint_R f(x,y,z) \\mathop{dV} = \\lim_{n\\to\\infty} \\sum_{i=1}^{n} \\mathrm{Volume}(A_i) f(x_i, y_i, z_i) $$\n",
    "\n",
    "### As usual with integrals, we don't use this definition directly to evaluate triple integrals, and instead use the familiar method of converting to an iterated integral.\n",
    "\n",
    "### Let's see a quick example to demonstrate the method.\n",
    "\n",
    "### **Example 3.1**\n",
    "### Let $R$ be the 3D solid beneath the plane $z=3$ and above the unit square in the $xy$-plane. If the mass density of $R$ is $\\delta(x,y,z)=1+2x+4y+6z$, then what is the mass of $R$?\n",
    "\n",
    "### **Solution**:\n",
    "### To solve this problem, we will take the triple integral of $\\delta(x,y,z)$ over the solid $R$:\n",
    "## $$ \\iiint_R \\delta(x,y,z) \\mathop{dV} = \\iiint_R 1+2x+4y+6z\\mathop{dV} $$\n",
    "\n",
    "### Just as we did with double integrals, we need to set up the endpoints for each of the three integrals. Any ordering of $\\mathop{dx}\\mathop{dy}\\mathop{dz}$ is valid; in this problem we will choose $\\mathop{dx}\\mathop{dy}\\mathop{dz}$.\n",
    "## $$ \\iiint_R 1+2x+4y+6z\\mathop{dV} = \\int_{z=?}^{?}\\int_{y=?}^{?}\\int_{x=?}^{?}1+2x+4y+6z\\mathop{dx}\\mathop{dy}\\mathop{dz} $$\n",
    "\n",
    "### To fill in the missing ?'s, we need to figure out the minimum and maximum values of each variable. Since $x$ and $y$ run through the unit square, each of those intervals of possible $x$-values and $y$-values is $[0,1]$.\n",
    "\n",
    "### Since the solid stretches from $z=0$ to the plane $z=3$, the interval of possible $z$-values is $[0,3]$. We can now fill in the endpoints:\n",
    "## $$ \\iiint_R 1+2x+4y+6z\\mathop{dV} = \\int_{z=0}^{3}\\int_{y=0}^{1}\\int_{x=0}^{1}1+2x+4y+6z\\mathop{dx}\\mathop{dy}\\mathop{dz} $$\n",
    "\n",
    "### We now proceed in the usual way, treating each variable as a constant except when it is the variable of integration.\n",
    "## $$ \\begin{array} {rcl} \\displaystyle \\int_{z=0}^{3}\\int_{y=0}^{1}\\int_{x=0}^{1}1+2x+4y+6z\\mathop{dx}\\mathop{dy}\\mathop{dz} & = & \\displaystyle \\int_{z=0}^{3}\\int_{y=0}^{1}\\left. x+x^2+4xy+6xz\\right|_{x=0}^1\\mathop{dy}\\mathop{dz}  \\\\ \\, & = & \\displaystyle \\int_{z=0}^{3}\\int_{y=0}^{1}2+4y+6z\\mathop{dy}\\mathop{dz} \\\\ \\, & = & \\displaystyle \\int_{z=0}^{3} \\left. 2y+2y^2+6yz \\right|_{y=0}^{1} \\mathop{dz} \\\\ \\, & = & \\displaystyle \\int_{z=0}^{3} 4+6z \\mathop{dz} \\\\ \\, & = & \\displaystyle \\left. (4z+3z^2) \\right|_{z=0}^3 \\\\ \\, & = & \\displaystyle 39 \\end{array} $$\n",
    "\n",
    "### **Remark 3.2**\n",
    "### In the example above, we included the variable names in the bounds of the integrals.\n",
    "\n",
    "### These aren't strictly necessary, because they can be inferred from the order of the differentials at the end of the integral. For example,\n",
    "## $$ \\iiint_R 1+2x+4y+6z\\mathop{dV} = \\int_{z=0}^{3}\\int_{y=0}^{1}\\int_{x=0}^{1}1+2x+4y+6z\\mathop{dx}\\mathop{dy}\\mathop{dz} $$\n",
    "\n",
    "### is equivalently expressed as\n",
    "## $$ \\iiint_R 1+2x+4y+6z\\mathop{dV} = \\int_{0}^{3}\\int_{0}^{1}\\int_{0}^{1}1+2x+4y+6z\\mathop{dx}\\mathop{dy}\\mathop{dz} $$\n",
    "\n",
    "### Writing the bounds as $x=\\cdots$ and $y=\\cdots$ can help make it more clear which bounds go with which variables, but this notation is not always included.\n",
    "\n",
    "### On the next page, we will see an example where the solid $R$ is not as simple."
   ]
  },
  {
   "cell_type": "markdown",
   "id": "b842a656-85ed-40ba-ba70-a70c312e8df2",
   "metadata": {},
   "source": [
    "## Paraboloid Example\n",
    "\n",
    "### For our next example, the integrand is just $1$, so we can focus on setting up the integration endpoints.\n",
    "\n",
    "### **Example**\n",
    "### Use triple integrals to find the volume of the solid between paraboloids $z=x^2+y^2$ and $z=4-x^2-y^2$.\n",
    "\n",
    "### **Solution part 1**:\n",
    "### Let $R$ be the solid of interest. Since we are finding the volume, the integrand is just $1$:\n",
    "## $$ \\mathrm{Volume} = \\iiint_R \\mathop{dV} $$\n",
    "\n",
    "### To convert this to an iterated integral, we need to find the integration endpoints. In other words, we need to find intervals for $x,y,z$ that describe the solid.\n",
    "\n",
    "### Here is one approach: we can make the innermost integral run over $z$. This will work because once we are given $x$ and $y$, we know that $z=x^2+y^2$ runs from the bottom paraboloid $z=4-x^2-y^2$ to the top paraboloid $z=4-x^2-y^2$.\n",
    "\n",
    "### So far, we have:\n",
    "## $$ \\iiint_R \\mathop{dV} = \\int_{x=?}^{?}\\int_{y=?}^{?}\\int_{z=x^2+y^2}^{4-x^2-y^2} \\mathop{dz}\\mathop{dy}\\mathop{dx} $$\n",
    "\n",
    "### Volume Between Paraboloids\n"
   ]
  },
  {
   "cell_type": "code",
   "execution_count": 1,
   "id": "f2852a66-db00-40e3-9c72-a4d9fd66d771",
   "metadata": {
    "jupyter": {
     "source_hidden": true
    },
    "tags": []
   },
   "outputs": [
    {
     "data": {
      "text/html": [
       "<iframe width=\"900\" height=\"650\" src=\"https://courses.edx.org/asset-v1:MITx+18.02.2x+2T2022+type@asset+block/threejs_u9_VolumeBetweenParaboloids.html\" frameborder=\"0\" allow=\"accelerometer; autoplay; clipboard-write; encrypted-media; gyroscope; picture-in-picture\" allowfullscreen></iframe>\n"
      ],
      "text/plain": [
       "<IPython.core.display.HTML object>"
      ]
     },
     "metadata": {},
     "output_type": "display_data"
    }
   ],
   "source": [
    "%%html\n",
    "<iframe width=\"900\" height=\"650\" src=\"https://courses.edx.org/asset-v1:MITx+18.02.2x+2T2022+type@asset+block/threejs_u9_VolumeBetweenParaboloids.html\" frameborder=\"0\" allow=\"accelerometer; autoplay; clipboard-write; encrypted-media; gyroscope; picture-in-picture\" allowfullscreen></iframe>"
   ]
  },
  {
   "cell_type": "markdown",
   "id": "143213e1-5496-401b-a9bd-315aa0aba8c4",
   "metadata": {},
   "source": [
    "### **Solution part 2**\n",
    "\n",
    "### We now need to find the endpoints for the $x$ and $y$ integrals. In other words: what are the possible $x$ and $y$-coordinates of all points in the solid $R$?\n",
    "\n",
    "### For the solid $R$ described above, the set of possible $x$ and $y$-coordinates can be represented by a disk in the $xy$-plane of radius $\\sqrt{2}$:\n",
    "## $$ x^2+y^2 \\leq 2 $$\n",
    "\n",
    "### This is because the “shadow\" of the volume $R$ in the $xy$-plane is a disk of radius $\\sqrt{2}$.\n",
    "\n",
    "### We can also find this shadow by solving for all $x$ and $y$ such that:\n",
    "## $$ \\begin{array} {rcl} \\text{Lower paraboloid} & \\leq & \\text{Upper paraboloid} \\\\ x^2 + y^2 & \\leq & 4-x^2-y^2 \\\\ x^2 + y^2 & \\leq & 2 \\end{array} $$\n",
    "![img](img/img-12-02.png)\n",
    "\n",
    "### Therefore, we can set up the corresponding integration endpoints by having $x$ go from $-\\sqrt{2}$ to $\\sqrt{2}$ and $y$ go from $-\\sqrt{2-x^2}$ to $\\sqrt{2-x^2}$. This leaves us with an iterated integral:\n",
    "## $$ \\iiint_R \\mathop{dV} = \\int_{x=-\\sqrt{2}}^{\\sqrt{2}}\\int_{y=-\\sqrt{2-x^2}}^{\\sqrt{2-x^2}}\\int_{z=x^2+y^2}^{4-x^2-y^2} \\mathop{dz}\\mathop{dy}\\mathop{dx} $$\n",
    "\n",
    "### The rest becomes a routine computation. After simplifying the innermost integral, we end up with the type of double integral we have dealt with before:\n",
    "## $$ \\mathrm{Volume} = \\iiint_R \\mathop{dV} = \\int_{x=-\\sqrt{2}}^{\\sqrt{2}}\\int_{y=-\\sqrt{2-x^2}}^{\\sqrt{2-x^2}} 4-2x^2-2y^2 \\mathop{dy}\\mathop{dx} $$\n",
    "\n",
    "### In fact, if you didn't know about triple integrals, this is the double integral you would have set up to find the given volume between two surfaces. After a routine calculation (perhaps switching to polar coordinates), we obtain a volume of $4\\pi$."
   ]
  },
  {
   "cell_type": "markdown",
   "id": "5a6151cf-977b-4b31-a6ce-0a5eac56061b",
   "metadata": {},
   "source": [
    "## Cylindrical coordinates\n",
    "\n",
    "### In the previous integral example, we ended up in a situation where the possible values for $x$ and $y$ were all of those in a disk, and  went between two functions involving $x^2+y^2$. In situations like these, it is easier to use what are called **cylindrical coordinates**, which means we use polar coordinates to handle $x$ and $y$, and leave $z$ the same. Let's go over the basics, and then see how they can be used for integration."
   ]
  },
  {
   "cell_type": "markdown",
   "id": "20d2160e-6efe-4f7a-94af-b810f5cc98db",
   "metadata": {},
   "source": [
    "### **Definition 6.1**\n",
    "\n",
    "### The **cylindrical coordinates** of a point $(x,y,z)$ are the values $(r,\\theta,z)$ related by the equations:\n",
    "## $$ \\begin{array} {rcl} x & = & r\\cos(theta) \\\\ y & = & r\\sin(\\theta) \\\\ z & = & z \\end{array} $$\n",
    "\n",
    "### In other words, we use $r$ and $\\theta$ instead of $x$ and $y, leaving $z$ the same.\n",
    "\n",
    "### **Example 6.2**\n",
    "### For example, the point $(0,2,8)$ sits $2$ units along the $y$-axis and $8$ units above the $xy$-plane. In cylindrical coordinates, we would describe this point with the numbers $\\displaystyle (r,\\theta,z) = (2, \\frac{\\pi}{2}, 8)$. This is because the polar coordinates of $(0,2)$ are $\\displaystyle (r,\\theta)=(2,\\frac{\\pi}{2})$.\n",
    "![img](img/img-12-03.png)"
   ]
  },
  {
   "cell_type": "code",
   "execution_count": 5,
   "id": "148be5ab-e500-4ce5-8f48-597b9a16b293",
   "metadata": {
    "jupyter": {
     "source_hidden": true
    },
    "tags": []
   },
   "outputs": [
    {
     "data": {
      "text/html": [
       "<iframe width=\"900\" height=\"650\" src=\"https://courses.edx.org/asset-v1:MITx+18.02.2x+2T2022+type@asset+block/threejs_u9_CylindricalCoordinatesInteractive.html\" frameborder=\"0\" allow=\"accelerometer; autoplay; clipboard-write; encrypted-media; gyroscope; picture-in-picture\" allowfullscreen></iframe>\n"
      ],
      "text/plain": [
       "<IPython.core.display.HTML object>"
      ]
     },
     "metadata": {},
     "output_type": "display_data"
    }
   ],
   "source": [
    "%%html\n",
    "<iframe width=\"900\" height=\"650\" src=\"https://courses.edx.org/asset-v1:MITx+18.02.2x+2T2022+type@asset+block/threejs_u9_CylindricalCoordinatesInteractive.html\" frameborder=\"0\" allow=\"accelerometer; autoplay; clipboard-write; encrypted-media; gyroscope; picture-in-picture\" allowfullscreen></iframe>"
   ]
  },
  {
   "cell_type": "markdown",
   "id": "60e0a1bd-6154-4be6-b4ad-8b6ebb29ad9f",
   "metadata": {},
   "source": [
    "### **Remark 6.3**\n",
    "### Cylindrical coordinate are just another “language\" to describe where things are in three-dimensional space. For certain shapes (especially cylinders and portions of cylinders) it can be more convenient to work in cylindrical coordinates than in rectangular coordinates.\n",
    "\n",
    "### For example, in cylindrical coordinates, we can describe a cylinder simply by the equation $r=a$, where $z$ can vary.\n",
    "## $$ \\text{(Equation of a cylinder)}\\quad r=a, \\quad b\\leq z \\leq c $$"
   ]
  },
  {
   "cell_type": "markdown",
   "id": "c3d360d5-4fd0-4bce-972a-81fe481f0400",
   "metadata": {},
   "source": []
  }
 ],
 "metadata": {
  "kernelspec": {
   "display_name": "Python 3 (ipykernel)",
   "language": "python",
   "name": "python3"
  },
  "language_info": {
   "codemirror_mode": {
    "name": "ipython",
    "version": 3
   },
   "file_extension": ".py",
   "mimetype": "text/x-python",
   "name": "python",
   "nbconvert_exporter": "python",
   "pygments_lexer": "ipython3",
   "version": "3.8.13"
  }
 },
 "nbformat": 4,
 "nbformat_minor": 5
}
