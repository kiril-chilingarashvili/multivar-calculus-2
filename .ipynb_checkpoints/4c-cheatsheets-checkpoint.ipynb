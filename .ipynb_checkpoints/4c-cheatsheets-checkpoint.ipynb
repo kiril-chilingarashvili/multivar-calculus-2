{
 "cells": [
  {
   "cell_type": "markdown",
   "id": "3b7edfbb-5c0e-4e1b-ac6b-b526df64ef44",
   "metadata": {},
   "source": [
    "# Unit 4: Triple Integrals - Part c - Review"
   ]
  },
  {
   "cell_type": "markdown",
   "id": "a7ff13ad-553a-49e8-bc85-27a6269b4d2b",
   "metadata": {},
   "source": [
    "## Introduction\n",
    "\n",
    "### In this unit so far, we have introduced triple integrals over 3D solids in rectangular, cylindrical, and spherical coordinates.\n",
    "\n",
    "### Now we will take a step back and review all of the other integral types we have looked at in the course so far, how to compute them, and identify common pitfalls and mistakes.\n",
    "\n",
    "### **Objectives**\n",
    "### Throughout this lecture we will:\n",
    "- ### Review content and practice solving problems involving **double integrals** and **line integrals**."
   ]
  },
  {
   "cell_type": "markdown",
   "id": "22faaabc-025f-4a40-86ff-4934ed9b14d3",
   "metadata": {},
   "source": [
    "## Review of Double Integrals and Polar Coordinates\n",
    "\n",
    "### We have learned how to write and solve two main types of integrals.\n",
    "\n",
    "## $$ \\begin{array} {rcl} \\text{Double Integrals} & & \\text{Line Integrals} \\\\ \\displaystyle \\iint f\\mathop{dA} & & \\displaystyle \\int_C f\\mathop{ds}, \\quad \\int_C \\vec{F}\\cdot \\hat{T} \\mathop{ds}, \\quad \\int_C \\vec{F}\\cdot \\hat{n} \\mathop{ds} \\end{array} $$\n",
    "\n",
    "### **Setting up Double Integrals**\n",
    "### To setup a double integral, we\n",
    "### 1. Draw a picture of $R$.\n",
    "### 2. Take slices to get an iterated integral\n",
    "\n",
    "### **Example 2.1** Set up the integral $\\displaystyle \\int_0^1 \\int_x^{2x} \\mathop{dy}\\mathop{dx}$ in the other order.\n",
    "\n",
    "### To exchange the order to get an integral $\\displaystyle \\iint_R \\mathop{dx}\\mathop{dy}$, we need to find the region $R$. So our first step is to draw a picture. For a fixed value of $x$, we know that $y$ ranges from $y=x$ to $y=2x$. So we draw the line $y=x$ and the line $y=2x$. And the outer bounds tell us that $0\\leq x \\leq 1$, so we draw a vertical line at $x=1$, giving us this shape.\n",
    "\n",
    "### Then to write the iterated integral, we now fix a value of $y$ and figure out the lower and upper bounds for $x$.\n",
    "- ### If $y<1$, then $x$ is bounded on the left by the line $y=2x$, and bounded on the right by the line $y=x$.\n",
    "- ### If $y>1$, then $x$ is bounded on the left by the line $y=2x$, and is bounded on the right by the line $x=1$.\n",
    "\n",
    "### Thus we break up this integral into two pieces, the piece for $0\\leq y\\leq 1$ and the piece where $1\\leq y \\leq 2$, which gives us\n",
    "## $$ \\int_0^1 \\int_x^{2x} \\mathop{dy}\\mathop{dx} = \\int_0^1 \\int_{y/2}^{y} \\mathop{dx} \\mathop{dy} + \\int_1^2 \\int_{y/2}^{1} \\mathop{dx} \\mathop{dy} $$\n",
    "\n",
    "### **Polar Coordinates**\n",
    "### To work in polar coordinates, you need to remember\n",
    "## $$ \\begin{array} {rcl} x & = & r\\cos(\\theta) \\\\ y & = & r\\sin(\\theta) \\\\ \\mathop{dx}\\mathop{dy} & = & r\\mathop{dr} \\mathop{d\\theta} \\end{array} $$\n",
    "\n",
    "### To describe a region $R$, you fix a value of $\\theta$, and describe the bounds on $r$ in terms of $\\theta$."
   ]
  },
  {
   "cell_type": "markdown",
   "id": "e83af83f-6b3a-4b4c-874d-cd93f9ae2210",
   "metadata": {},
   "source": [
    "## Applications of Double Integrals\n",
    "\n",
    "### You should be able to use double integrals to compute the following:\n",
    "\n",
    "### 1. Areas,\n",
    "## $$ \\operatorname{area}(R) = \\iint_R 1\\mathop{dA} $$\n",
    " \n",
    "### 2. Volumes,\n",
    "## $$ \\operatorname{under a surface} = \\iint_R f(x,y) \\mathop{dA} $$\n",
    "## $$ \\operatorname{3D region} = \\iiint_R 1 \\mathop{dV} $$\n",
    "\n",
    "### 3. Mass, given a density $\\delta$\n",
    "## $$ \\operatorname{mass}(R) = \\iint_R \\delta(x,y) \\mathop{dA}, quad \\operatorname{mass}(R) = \\iiint_R \\delta(x,y,z)\\mathop{dV} $$\n",
    " \n",
    "### 4. Average value\n",
    "## $$ \\begin{array} {c|c} \\hline \\text{2D} & \\text{3D} \\\\ \\hline \\displaystyle \\overline{f} = \\frac{\\displaystyle \\iint_R f(x,y) \\mathop{dA}}{\\displaystyle \\iint_R \\mathop{dA}} & \\displaystyle \\overline{f} = \\frac{\\displaystyle \\iiint_R f(x,y,z) \\mathop{dV}}{\\displaystyle \\iiint_R \\mathop{dV}} \\end{array} $$\n",
    "\n",
    "### 5. Center of mass\n",
    "## $$ \\begin{array} {c|c} \\hline \\text{2D} & \\text{3D} \\\\ \\hline \\mathop{dm} = (\\operatorname{density per area})\\mathop{dA} & \\mathop{dm} = (\\operatorname{density per volume})\\mathop{dV} \\\\ \\displaystyle \\overline{x} = \\frac{\\displaystyle \\iint_R x \\mathop{dm}}{\\displaystyle \\operatorname{mass}(R)} & \\displaystyle \\overline{x} = \\frac{\\displaystyle \\iiint_R x \\mathop{dm}}{\\displaystyle \\operatorname{mass}(R)} \\\\ \\displaystyle \\overline{y} = \\frac{\\displaystyle \\iint_R y \\mathop{dm}}{\\displaystyle \\operatorname{mass}(R)} & \\displaystyle \\overline{y} = \\frac{\\displaystyle \\iiint_R y \\mathop{dm}}{\\displaystyle \\operatorname{mass}(R)} \\\\ \\displaystyle   & \\displaystyle \\overline{z} = \\frac{\\displaystyle \\iiint_R z \\mathop{dm}}{\\displaystyle \\operatorname{mass}(R)} \\end{array} $$\n",
    "\n",
    "### 6. Moment of inertia\n",
    "## $$ \\begin{array} {c|c} \\hline \\text{2D} & \\text{3D} \\\\ \\hline \\mathop{dm} = (\\operatorname{density per area})\\mathop{dA} & \\mathop{dm} = (\\operatorname{density per volume})\\mathop{dV} \\\\ \\displaystyle I_0 = \\iint_R (x^2+y^2) \\mathop{dm} & \\displaystyle I_z = \\iiint_R (x^2+y^2)\\mathop{dm} \\\\ \\displaystyle I_x = \\iint_R y^2 \\mathop{dm} & \\displaystyle I_x = \\iiint_R (y^2+z^2)\\mathop{dm} \\\\ \\displaystyle I_y = \\iint_R x^2 \\mathop{dm} & \\displaystyle I_y = \\iiint_R (x^2+z^2)\\mathop{dm} \\end{array} $$"
   ]
  },
  {
   "cell_type": "markdown",
   "id": "42f52632-085f-4ae5-ab23-3f51980e1ea0",
   "metadata": {},
   "source": [
    "## Review change of variables\n",
    "\n",
    "### Change variables from $x,y$ to $u,v$, given $u=u(x,y)$ and $v=v(x,y)$.\n",
    "\n",
    "### The procedure for integration is\n",
    "\n",
    "### 1. Compute the Jacobian,\n",
    "## $$ \\frac{\\partial(u,v)}{\\partial(x,y)} = \\begin{vmatrix} u_x & u_y \\\\ v_x & v_y \\end{vmatrix} $$\n",
    " \n",
    "### then\n",
    "## $$ \\mathop{du}\\mathop{dv} = \\begin{vmatrix} u_x & u_y \\\\ v_x & v_y \\end{vmatrix} \\mathop{dx}\\mathop{dy} $$\n",
    " \n",
    "### 2. Substitute $x$'s and $y$'s in the integrand by $u$'s and $v$'s.\n",
    "\n",
    "### 3. Set up the bounds.\n",
    "- ### Look at the boundary of $R$ in the $xy$-plane and try to express in terms of $u$ and $v$.\n",
    "- ### Draw a picture in the $uv$-plane and see if it is easier to describe."
   ]
  },
  {
   "cell_type": "markdown",
   "id": "cea41b3d-865a-4a10-8b19-2bef90305d31",
   "metadata": {},
   "source": []
  }
 ],
 "metadata": {
  "kernelspec": {
   "display_name": "Python 3 (ipykernel)",
   "language": "python",
   "name": "python3"
  },
  "language_info": {
   "codemirror_mode": {
    "name": "ipython",
    "version": 3
   },
   "file_extension": ".py",
   "mimetype": "text/x-python",
   "name": "python",
   "nbconvert_exporter": "python",
   "pygments_lexer": "ipython3",
   "version": "3.8.13"
  }
 },
 "nbformat": 4,
 "nbformat_minor": 5
}
