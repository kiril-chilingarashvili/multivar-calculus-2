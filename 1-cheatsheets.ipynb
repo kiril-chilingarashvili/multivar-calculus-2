{
 "cells": [
  {
   "cell_type": "markdown",
   "id": "5c0e10b9-459a-4b63-98db-3608fce4a0b9",
   "metadata": {},
   "source": [
    "# Unit1: Double Integrals - Introduction"
   ]
  },
  {
   "cell_type": "markdown",
   "id": "a484bda3-f724-432e-90ca-dc1bfe3ec3a9",
   "metadata": {},
   "source": []
  }
 ],
 "metadata": {
  "kernelspec": {
   "display_name": "Python 3",
   "language": "python",
   "name": "python3"
  },
  "language_info": {
   "codemirror_mode": {
    "name": "ipython",
    "version": 3
   },
   "file_extension": ".py",
   "mimetype": "text/x-python",
   "name": "python",
   "nbconvert_exporter": "python",
   "pygments_lexer": "ipython3",
   "version": "3.8.8"
  }
 },
 "nbformat": 4,
 "nbformat_minor": 5
}
