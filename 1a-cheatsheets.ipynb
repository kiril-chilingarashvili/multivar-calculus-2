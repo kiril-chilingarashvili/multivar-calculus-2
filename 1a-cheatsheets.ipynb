{
 "cells": [
  {
   "cell_type": "markdown",
   "id": "5c0e10b9-459a-4b63-98db-3608fce4a0b9",
   "metadata": {},
   "source": [
    "# Unit1: Double Integrals - Introduction"
   ]
  },
  {
   "cell_type": "markdown",
   "id": "a484bda3-f724-432e-90ca-dc1bfe3ec3a9",
   "metadata": {},
   "source": [
    "## Definition of double integrals\n",
    "\n",
    "### ***Area Below Graph***\n",
    "### Recall that $\\displaystyle \\int_{a}^{b} f(x) dx$ is used to find the area below the graph of $y=f(x)$ over $[a, b]$.\n",
    "![img](img/img-1-1.png)\n",
    "## $$ \\text{Area} = \\int_{a}^{b} f(x) dx $$\n",
    "\n",
    "### ***Volume Below Graph***\n",
    "### For a function $f(x, y)$, we can generalize \"area under curve\" to \"volume under surface\" using a double integral.\n",
    "\n",
    "### ***Volume Under Surface***"
   ]
  },
  {
   "cell_type": "code",
   "execution_count": 3,
   "id": "e93286b5-7197-42f1-9b5c-948788bf9656",
   "metadata": {
    "source_hidden": true,
    "tags": []
   },
   "outputs": [
    {
     "data": {
      "text/html": [
       "<iframe width=\"900\" height=\"650\" src=\"https://courses.edx.org/asset-v1:MITx+18.02.2x+2T2022+type@asset+block/threejs_u6_VolumeUnderSurface.html\" frameborder=\"0\" allow=\"accelerometer; autoplay; clipboard-write; encrypted-media; gyroscope; picture-in-picture\" allowfullscreen></iframe>  \n"
      ],
      "text/plain": [
       "<IPython.core.display.HTML object>"
      ]
     },
     "metadata": {},
     "output_type": "display_data"
    }
   ],
   "source": [
    "%%html\n",
    "<iframe width=\"900\" height=\"650\" src=\"https://courses.edx.org/asset-v1:MITx+18.02.2x+2T2022+type@asset+block/threejs_u6_VolumeUnderSurface.html\" frameborder=\"0\" allow=\"accelerometer; autoplay; clipboard-write; encrypted-media; gyroscope; picture-in-picture\" allowfullscreen></iframe>  "
   ]
  },
  {
   "cell_type": "markdown",
   "id": "28a5dcb5-d10b-495d-90b5-fadc5514ffdd",
   "metadata": {},
   "source": [
    "### ***Definition 2.1***\n",
    "### The double integral of a function $f(x, y)$ over a region $R$ is the volume under the graph $z=f(x, y)$ above the region $R$ (the region $R$ is a subset of the $xy$-plane).\n",
    "## $$ \\iint_{R} f(x, y) dA $$\n",
    "\n",
    "### More rigorously, $\\displaystyle \\iint_{R} f(x, y) dA$ is defined as\n",
    "## $$ \\text{(Rigorous Definition)} \\quad \\iint_{R} f(x, y) dA = \\lim_{n\\to \\infty} \\sum_{i=1}^{n} f(x_i, y_i) \\operatorname{Area}(A_i) $$\n",
    "\n",
    "### where $A_1, \\ldots,A_n$ are obtained by cutting $R$ into $n$ non-overlapping pieces whose areas go to zero as $n \\to \\infty$, and each $(x_1, y_1)$ is a point in $A_i$.\n",
    "\n",
    "### Geometrically, the right-hand-side represents an approximation of the volume under $z=f(x, y)$ using the pieces $A_i$. Each term $f(x_i, y_i)\\operatorname{Area}(A_i)$ can be visualized as the volume of a block of height $f(x_i, y_i)$ with base $A_i$. The visualization below shows one such block for a rectangular $A_i$.\n",
    "\n",
    "### ***Block Under Surface***"
   ]
  },
  {
   "cell_type": "code",
   "execution_count": 4,
   "id": "c9687483-e08d-4382-a018-c23ea47f5e81",
   "metadata": {
    "jupyter": {
     "source_hidden": true
    },
    "tags": []
   },
   "outputs": [
    {
     "data": {
      "text/html": [
       "<iframe width=\"900\" height=\"650\" src=\"https://courses.edx.org/asset-v1:MITx+18.02.2x+2T2022+type@asset+block/threejs_u6_ParallelepipedUnderSurface.html\" frameborder=\"0\" allow=\"accelerometer; autoplay; clipboard-write; encrypted-media; gyroscope; picture-in-picture\" allowfullscreen></iframe>\n"
      ],
      "text/plain": [
       "<IPython.core.display.HTML object>"
      ]
     },
     "metadata": {},
     "output_type": "display_data"
    }
   ],
   "source": [
    "%%html\n",
    "<iframe width=\"900\" height=\"650\" src=\"https://courses.edx.org/asset-v1:MITx+18.02.2x+2T2022+type@asset+block/threejs_u6_ParallelepipedUnderSurface.html\" frameborder=\"0\" allow=\"accelerometer; autoplay; clipboard-write; encrypted-media; gyroscope; picture-in-picture\" allowfullscreen></iframe>"
   ]
  },
  {
   "cell_type": "markdown",
   "id": "de9ba148-aadf-4ff6-b4a6-a64d571e1e96",
   "metadata": {},
   "source": [
    "### Although this is the definition, there are more practical methods to actually compute these volumes."
   ]
  },
  {
   "cell_type": "markdown",
   "id": "86bff851-397b-47b4-911c-fcbf8b2a1419",
   "metadata": {},
   "source": [
    "## Iterated integral theory\n",
    "\n",
    "### ***Volume By Slicing***"
   ]
  },
  {
   "cell_type": "code",
   "execution_count": 5,
   "id": "a3b352c0-3c61-42de-ae28-3f5b08a73c78",
   "metadata": {
    "jupyter": {
     "source_hidden": true
    },
    "tags": []
   },
   "outputs": [
    {
     "data": {
      "text/html": [
       "<iframe width=\"900\" height=\"650\" src=\"https://courses.edx.org/asset-v1:MITx+18.02.2x+2T2022+type@asset+block/threejs_u6_VolumeSliceSlider.html\" frameborder=\"0\" allow=\"accelerometer; autoplay; clipboard-write; encrypted-media; gyroscope; picture-in-picture\" allowfullscreen></iframe>\n"
      ],
      "text/plain": [
       "<IPython.core.display.HTML object>"
      ]
     },
     "metadata": {},
     "output_type": "display_data"
    }
   ],
   "source": [
    "%%html\n",
    "<iframe width=\"900\" height=\"650\" src=\"https://courses.edx.org/asset-v1:MITx+18.02.2x+2T2022+type@asset+block/threejs_u6_VolumeSliceSlider.html\" frameborder=\"0\" allow=\"accelerometer; autoplay; clipboard-write; encrypted-media; gyroscope; picture-in-picture\" allowfullscreen></iframe>"
   ]
  },
  {
   "cell_type": "markdown",
   "id": "b9878167-949f-402d-815b-e7a5bbac1456",
   "metadata": {},
   "source": [
    "### ***Computing double integrals with slices***\n",
    "### Instead of computing a double integral by adding up many small pieces, we can count the volume \"one slice at a time\". \n",
    "### For a given value of $x$, let $S(x)$ be the two-dimensional area of a cross-section of the surface $z=f(x, y)$ along a plane parallel to the $yz$-plane and going through $x$. Then we can say\n",
    "## $$ \\iint_{R} f(x, y) dA = \\int_{A}^{B} S(x) dx $$\n",
    "\n",
    "### The endpoints $A$ and $B$ will depend on the region $R$.\n",
    "\n",
    "### In particular, $A$ and $B$ must be chosen such that the interval $[A, B]$ contains exactly the $x$-coordinates of the points in $R$.\n",
    "## $$ \\begin{array} {rcl} A & = & x_{\\min} \\\\ B & = & x_{\\max} \\end{array} $$\n",
    "\n",
    "### Assuming we have found $A$ and $B$, the only remaining unknown is the function $S(x)$. This area can be computed by finding the area under the curve that describes the slice. In other words,\n",
    "## $$ S(x) = \\int_{C}^{D} f(x, y) dy $$\n",
    "\n",
    "### where the $C$ and $D$ must be chosen such that the interval $[C, D]$ contains exactly the $y$-coordinates of the points in $R$ for the given slice at $x$.\n",
    "## $$ \\begin{array} {rcl} C & = & y_{\\min}(x) \\\\ D & = & y_{\\max}(x) \\end{array} $$\n",
    "\n",
    "### Note that $C$ and $D$ will likely be functions of $x$, since at different $x$-values the region will contain wider or narrower $y$-intervals.\n",
    "\n",
    "### Figuring out the endpoints $A,B,C$ and $D$ can be challenging when the region $R$ is complicated. Finding these endpoints is often a large part of the solution to a double integral problem.\n",
    "\n",
    "### ***Takeaway***\n",
    "### We have shown that, rather than using the definition, we can compute a double integral as\n",
    "## $$ \\iint_{R} f(x, y) dA = \\int_{x_{\\min}}^{x_{\\max}} \\int_{y_{\\min}(x)}^{y_{\\max}(x)} f(x, y) dy dx $$\n",
    "\n",
    "### The right-hand-side is called an ***iterated integral***.\n",
    "\n",
    "### The figure below demonstrates the meaning of $x_{\\min}, x_{\\max}, y_{\\min}(x), y_{\\max}(x)$.\n",
    "![img](img/img-1-2.png)\n",
    "\n",
    "### When finding the endpoints for the region $R$, we can think of $x_{\\min}$ and $x_{\\max}$ as the leftmost and rightmost $x$-coordinates of $R$. Next, to figure out $y_{\\min}(x)$ and $y_{\\max}(x)$, we imagine a random value of $x$, and draw a corresponding vertical line through $R$. The values of $y_{\\min}(x)$ and $y_{\\max}(x)$ are defined by the points where this vertical line enters and exits the region $R$.\n",
    "\n",
    "### The type of picture shown above is often very useful when it comes to figuring out the endpoints of integration.\n",
    "\n",
    "### ***Remark 3.1***\n",
    "### In the description above, we referred to $A,B,C,D$ as “endpoints\". It is also common to refer to them as the “limits\" or “bounds\" of integration. These three terms are synonymous, in the context of integrals."
   ]
  },
  {
   "cell_type": "markdown",
   "id": "c07cef9a-5882-4360-9270-530308b7f224",
   "metadata": {},
   "source": [
    "### ***Example 1***\n",
    "\n",
    "### Integrate $1-x^2-y^2$ over the region:\n",
    "## $$ \\begin{array} {c} 0 \\leq x \\leq 1 \\\\ 0 \\leq y \\leq 1 \\end{array} $$\n",
    "\n",
    "### ***Solution***\n",
    "### The first step is to figure out the bounds for our iterated integral:\n",
    "## $$ \\int_{A}^{B} \\int_{C}^{D} f(x, y) dy dx $$\n",
    "\n",
    "### Since the region $R$ is a rectangle, the set of possible values for $x$ within $R$ is the interval $[0, 1]$. Therefore, $[A, B] = [0, 1]$.\n",
    "\n",
    "### Similarly, the slice of $R$ at any $x$-coordinate will have $y$-values that run through the interval $[0, 1]$. Therefore, $[C, D] = [0, 1]$.\n",
    "\n",
    "### Now we need to compute\n",
    "## $$ \\int_0^1 \\int_0^1 (1-x^2-y^2)dy dx $$\n",
    "### It is often helpful to think of this expression as an \"integral of an integral\" (although the parentheses are usually omitted). First we compute the inner integral, treating $x$ as constant:\n",
    "## $$ \\begin{array} {rcl} \\displaystyle \\text{(Inner integral)}\\quad \\int_0^1 (1-x^2-y^2)dy & = & \\displaystyle \\left.y-x^2 y - \\frac{y^3}{3}\\right|_0^1 \\\\ \\, & = & \\displaystyle 1-x^2-\\frac{1}{3} - (0-0-0) \\\\ \\, & = & \\displaystyle \\frac{2}{3} - x^2 \\end{array} $$\n",
    "\n",
    "### Now we do the outer integral:\n",
    "## $$ \\begin{array} {rcl} \\displaystyle \\text{(Outer integral)} \\quad \\int_0^1 \\underbrace{\\int_0^1 (1-x^2-y^2)dy}_{\\displaystyle \\frac{2}{3} - x^2}dx & = & \\displaystyle \\int_0^1 \\left( \\frac{2}{3} - x^2 \\right) dx \\\\ \\, & = & \\displaystyle \\left.\\frac{2}{3}x-\\frac{x^3}{3}\\right|_0^1 \\\\ \\, & = & \\boxed{\\frac{1}{3}} \\end{array} $$"
   ]
  },
  {
   "cell_type": "markdown",
   "id": "09766a81-d925-4701-918c-830aea2dba86",
   "metadata": {},
   "source": [
    "### The following visualization depicts the calculation we just did. \n",
    "### As $x$ slides from $0$ to $1$, we accumulate positive volume (orange) and negative volume (blue). In total, there is $\\displaystyle \\frac{1}{3}$ signed volume.\n",
    "\n",
    "### ***Paraboloid volume***"
   ]
  },
  {
   "cell_type": "code",
   "execution_count": 13,
   "id": "b2625d7f-b0ab-4032-8603-8ad8e72d2ab2",
   "metadata": {
    "jupyter": {
     "source_hidden": true
    },
    "tags": []
   },
   "outputs": [
    {
     "data": {
      "text/html": [
       "<iframe width=\"900\" height=\"650\" src=\"https://courses.edx.org/asset-v1:MITx+18.02.2x+2T2022+type@asset+block/threejs_u6_PositiveNegativeVolumeParaboloidSlider.html\" frameborder=\"0\" allow=\"accelerometer; autoplay; clipboard-write; encrypted-media; gyroscope; picture-in-picture\" allowfullscreen></iframe>\n"
      ],
      "text/plain": [
       "<IPython.core.display.HTML object>"
      ]
     },
     "metadata": {},
     "output_type": "display_data"
    }
   ],
   "source": [
    "%%html\n",
    "<iframe width=\"900\" height=\"650\" src=\"https://courses.edx.org/asset-v1:MITx+18.02.2x+2T2022+type@asset+block/threejs_u6_PositiveNegativeVolumeParaboloidSlider.html\" frameborder=\"0\" allow=\"accelerometer; autoplay; clipboard-write; encrypted-media; gyroscope; picture-in-picture\" allowfullscreen></iframe>"
   ]
  },
  {
   "cell_type": "markdown",
   "id": "7b0eea0a-c77b-4c3b-a87b-3744657df1b8",
   "metadata": {},
   "source": [
    "### ***The differential in the integral***\n",
    "\n",
    "### When we converted from $\\displaystyle \\iint_{R} f(x,y)dA$ to $\\displaystyle \\int \\int f(x, y) dy dx$, we replaced the $dA$ by $dy dx$. This is valid because the area of a small rectangle $\\Delta A$ is $\\Delta y \\Delta x$. It is also possible to replace $dA$ by $dx dy$. In theory, both ways are equally correct. In practice, one way may turn out to be much easier or harder than the other, as we will soon see."
   ]
  },
  {
   "cell_type": "markdown",
   "id": "78c6572b-7f82-4200-9e22-24fffbaa9396",
   "metadata": {},
   "source": [
    "## Double Integral - Mathlet\n",
    "\n",
    "### Use the mathlet below to visualize how a volume is computed by summing thin slices of the solid.\n",
    "- ### Use the $d$ slider to see how the volume integral is built out of simpler volumes. The slider $d$ is connected to the upper limit of $x$ values in the double integral.\n",
    "- ### Use the $n$ slider to change the number of slices used in the approximation."
   ]
  },
  {
   "cell_type": "code",
   "execution_count": 5,
   "id": "10c4d44a-12f1-4273-822d-49824c3c2d40",
   "metadata": {},
   "outputs": [
    {
     "data": {
      "text/html": [
       "<iframe width=\"1200\" height=\"950\" src=\"https://mitx-1802-next.netlify.app/mathlets/double-integrals\" frameborder=\"0\" allow=\"accelerometer; autoplay; clipboard-write; encrypted-media; gyroscope; picture-in-picture\" allowfullscreen></iframe>\n"
      ],
      "text/plain": [
       "<IPython.core.display.HTML object>"
      ]
     },
     "metadata": {},
     "output_type": "display_data"
    }
   ],
   "source": [
    "%%html\n",
    "<iframe width=\"1200\" height=\"950\" src=\"https://mitx-1802-next.netlify.app/mathlets/double-integrals\" frameborder=\"0\" allow=\"accelerometer; autoplay; clipboard-write; encrypted-media; gyroscope; picture-in-picture\" allowfullscreen></iframe>"
   ]
  },
  {
   "cell_type": "markdown",
   "id": "5d9a25ea-740f-45d7-af57-d477c9eb53da",
   "metadata": {},
   "source": [
    "### ***Example 2***\n",
    "\n",
    "### In the previous example, we took the unit square as our region $R$. But this will include some \"negative volume\" because the graph dips below the -plane. Now compute: how much is the “positive volume\" only?\n",
    "\n",
    "### ***Solution***\n",
    "### Since the graph intersects the $xy$-plane in the disk $x^2+y^2=1$, we will integrate the same function over the quarter-disk (the portion of $x^2+y^2=1$ with $x\\geq0$ and $y\\geq 0$). For the rest of this problem, $R$ represents this quarter-disk.\n",
    "\n",
    "### We need to find the endpoints. For a given $x$, the range of $y$ is from $0$ to the upper edge of the disk $R$ at that $x$-value. Solving for $y$, we see that this maximum value is $\\sqrt{1-x^2}$. Therefore, the set of possible values for $y$ is the interval $[0, \\sqrt{1-x^2}]$.\n",
    "\n",
    "### The set of possible $x$-values in the quarter-disk is the interval $[0,1]$, since those are the smallest and largest $x$-values that the region $R$ goes through. Thus we have\n",
    "## $$ \\iint_{R} (1-x^2-y^2) dA = \\int_0^1 \\int_0^{\\sqrt{1-x^2}} (1-x^2-y^2) dy dx $$\n",
    "\n",
    "### Now we can proceed to solve this iterated integral. First, the inner integral:\n",
    "## $$ \\begin{array} {rcl} \\displaystyle \\underbrace{\\int_0^{\\sqrt{1-x^2}} (1-x^2-y^2)dy}_{\\text{(Inner integral)}} & = & \\displaystyle \\left. \\left(y - x^2 y - \\frac{y^3}{3} \\right) \\right|_{y=0}^{y=\\sqrt{1-x^2}} \\\\ \\, & = & \\displaystyle \\sqrt{1-x^2} - x^2 \\sqrt{1-x^2} - \\frac{(1-x^2)^{\\frac{3}{2}}}{3} - (0-0-0) \\\\ \\, & = & \\displaystyle \\frac{2}{3} (1-x^2)^{\\frac{3}{2}} \\end{array} $$\n",
    "\n",
    "### The simplification in the final equals sign can be obtained by factoring out $\\sqrt{1-x^2}$ from the first two terms, and then collecting like terms. Next we do the outer integral:\n",
    "## $$ \\begin{array} {rcl} \\displaystyle \\underbrace{\\iint_{R} (1-x^2-y^2)dA}_{\\text{(Outer integral)}} & = & \\displaystyle \\int_0^1 \\frac{2}{3} (1-x^2)^{\\frac{3}{2}} dx \\\\ \\, & = & \\displaystyle \\frac{\\pi}{8} \\end{array} $$\n",
    "\n",
    "### To obtain  requires doing a trig-substitution (see below for details).\n",
    "\n",
    "### ***Continued trig-substitution details***\n",
    "### Setting $x=\\sin(\\theta)$ so that $\\sqrt{1-x^2} = \\cos(\\theta)$ and $dx = \\cos(\\theta) d\\theta$ we obtain\n",
    "## $$ \\int_0^1 \\frac{2}{3}(1-x^2)^{\\frac{3}{2}} dx = \\int_0^{\\frac{\\pi}{2}} \\frac{2}{3} \\cos^4(\\theta)d\\theta $$\n",
    "\n",
    "### We can replace the $\\cos^4(\\theta)$ using the double angle formula:\n",
    "## $$ \\cos^2(\\theta) = \\frac{1+\\cos(2\\theta)}{2} $$\n",
    "### So the integral becomes\n",
    "## $$ \\frac{2}{3} \\int_0^{\\frac{\\pi}{2}} \\left( \\frac{1}{4} + \\frac{1}{2}\\cos(2\\theta) + \\frac{1}{4}\\cos^2(2\\theta) \\right)d\\theta $$\n",
    "\n",
    "### Next we can replace $\\cos^2 (2\\theta)$ with $\\displaystyle \\frac{1+\\cos(4\\theta)}{2}$. This gives us\n",
    "## $$ \\frac{2}{3} \\int_0^{\\frac{\\pi}{2}} \\left( \\frac{1}{4} + \\frac{1}{2} \\cos(2\\theta) + \\frac{1+\\cos(4\\theta)}{8} \\right)d\\theta $$\n",
    "\n",
    "### Since the anti-derivative of $\\cos(2\\theta)$ is $\\displaystyle \\frac{\\sin(2\\theta)}{2}$, and the anti-derivative of $\\cos(4\\theta)$ is $\\displaystyle \\frac{\\sin(4\\theta)}{4}$, the integral is\n",
    "## $$ \\frac{2}{3} \\left( \\left.\\frac{\\theta}{4}\\right|_{0}^{\\frac{\\pi}{2}} + \\left. \\frac{1}{2} \\frac{\\sin(2\\theta)}{2}\\right|_0^{\\frac{\\pi}{2}} + \\left. \\frac{1}{8} \\left(\\theta + \\frac{\\sin(4\\theta)}{4} \\right)\\right|_0^{\\frac{\\pi}{2}} \\right) $$\n",
    "\n",
    "### Evaluating at each endpoint gives:\n",
    "## $$ \\frac{2}{3} \\left( \\left( \\frac{\\pi}{8} - 0 \\right) + \\frac{1}{2}(0-0) + \\frac{1}{8} \\left( \\frac{\\pi}{2} + 0 - 0 - 0 \\right) \\right) $$\n",
    "\n",
    "### which simplifies to:\n",
    "## $$ \\begin{array} {rcl} \\displaystyle \\frac{2}{3} \\left( \\frac{\\pi}{8} + \\frac{\\pi}{16} \\right) & = & \\displaystyle \\frac{2}{3}\\frac{3\\pi}{16} \\\\ \\, & = & \\displaystyle \\boxed{\\frac{\\pi}{8}} \\end{array} $$"
   ]
  },
  {
   "cell_type": "markdown",
   "id": "5753e5e2-fa40-44f9-a606-9ec21f0cd3d9",
   "metadata": {},
   "source": [
    "### ***Note about notation***\n",
    "\n",
    "### For clarity, we will sometimes include the variable names in the bounds of an integral. These aren't strictly necessary, because they can be inferred from the order of the differentials at the end of the integral. For example,\n",
    "## $$ \\iint_{R} (1-x^2-y^2) dA = \\int_0^1 \\int_0^{\\sqrt{1-x^2}} (1-x^2-y^2) dy dx $$\n",
    "\n",
    "### is equivalently expressed as\n",
    "## $$ \\iint_{R} (1-x^2-y^2) dA = \\int_{{\\color{red}{x}}=0}^1 \\int_{{\\color{orange}{y}}=0}^{\\sqrt{1-x^2}} (1-x^2-y^2) {\\color{orange}{dy}} {\\color{red}{dx}} $$\n",
    "\n",
    "### Writing endpoints as $x=\\ldots$ and $y=\\ldots$ can help make it more clear which bounds go with which variables. Feel free to use this notation (or not) in your own work when solving double integrals."
   ]
  },
  {
   "cell_type": "markdown",
   "id": "113c4700-a7e1-4571-84b4-1de50d3fc849",
   "metadata": {},
   "source": [
    "## Re-ordering integrals\n",
    "\n",
    "### Part of the process of solving a double integral $\\displaystyle \\iint_{R} dA$ is to decide whether to have the inner integral depend on $x$ or $y$. In other words, we need to choose to express $dA$ as $dA=dy dx$ or $dA = dx dy$. Both ways lead to the same numerical answer, but in some cases, one of the orderings will make the problem easier. To illustrate the difference, let's see how we can swap the order of integration in a few examples.\n",
    "\n",
    "### ***Example 8.1*** \n",
    "### (Exchanging order of integration rectangular region)\n",
    "\n",
    "### The integral $\\displaystyle \\int_0^2 \\int_0^1 dx dy$ can be interchanged as:\n",
    "## $$ \\int_0^2 \\int_0^2 dx dy = \\int_0^2 \\int_0^2 dy dx $$ \n",
    "\n",
    "### Usually it is not as simple as just swapping the two $\\displaystyle \\int$ signs, but it works in this case. The reason this simple swapping is valid for this example is that the region of integration is a rectangle. Therefore, whether we are slicing it horizontally or vertically, the min and max values of $x$ an $y$ are the same either way. We know the region is a rectangle because the possible values for $y$ do not depend on the value of $x$.\n",
    "\n",
    "### ***Example 8.2*** \n",
    "### (Exchanging order of integration non-rectangular region)\n",
    "\n",
    "### Suppose we are faced with\n",
    "## $$ \\int_0^1 \\int_x^{\\sqrt{x}} \\frac{e^x}{y} dy dx $$\n",
    "\n",
    "### Trying to proceed directly, we run into difficulties because there is no simple anti-derivative for the function $\\displaystyle \\frac{e^y}{y}$. This seemingly impossible double integral can, in fact, be solved by interchanging the order of integration.\n",
    "\n",
    "### To swap the order of integration, we cannot just replace $\\displaystyle \\int_0^1 \\int_x^{\\sqrt{x}}$ by $\\displaystyle \\int_x^\\sqrt{x} \\int_0^1$. One way of seeing that this would be invalid is to recognize that the resulting outer integral would give an answer that depends on $x$. That doesn't make sense, because our final answer should be a number (the volume under a surface).\n",
    "\n",
    "### Instead, the right way to swap the order of integration is to figure out what the region of integration is, and slice it in a different way.\n",
    "\n",
    "### In this case, we are given that $x$ runs through $[0, 1]$ and for a given value of $x$, we have $y$ running through $[x, \\sqrt{x}]$. Therefore, the region is the area between the graphs of $y=x$ and $y=\\sqrt{x}$ on the interval $[0,1]$.\n",
    "![img](img/img-1-3.png)\n",
    "\n",
    "### Now we need to find $A,B,C$ and $D$ such that\n",
    "## $$ \\iint_{R} \\frac{e^y}{y} dA = \\int_A^B \\int_C^D \\frac{e^y}{y} dx dy $$\n",
    "\n",
    "### We start by finding $C$ and $D$. For each $y$, the possible values of $x$ start from the left side (graph of $y=\\sqrt{x}$) and end at the right side (graph of $y=x$). Solving for $x$, we have $x$ running through $[y^2, y]$. Therefore $C=y^2$ and $D=y$.\n",
    "\n",
    "### Finally, for $A$ and $B$, we need to find the minimum and maximum values of $y$ on the region $R$. These are $[A,B] = [0,1]$. Therefore, we can say\n",
    "## $$ \\iint_{R} \\frac{e^y}{y} dA = \\int_0^1 \\int_{y^2}^y \\frac{e^y}{y} dx dy $$\n",
    "\n",
    "### Continuing with this new iterated integral: \n",
    "## $$ \\begin{array} {rcl} \\displaystyle \\underbrace{\\int_{y^2}^y \\frac{e^y}{y} dx }_{\\text{(Inner integral)}} & = & \\displaystyle \\left.\\frac{e^y}{y} x\\right|_{x=y^2}^{y} \\\\ \\, & = & \\displaystyle e^y - ye^y \\end{array} $$\n",
    "\n",
    "### Now we can do the outer integral:\n",
    "## $$ \\underbrace{\\iint_{R} \\frac{e^y}{y} dA}_{\\text{(Outer integral)}} = \\int_{0}^1 (e^y - y e^y) dy $$\n",
    "\n",
    "### Using guess-and-check or integration by parts, the anti-derivative of $e^y - y e^y$ is $-y e^y + 2e^y$. Therefore,\n",
    "## $$ \\begin{array} {rcl} \\displaystyle \\int_0^1 (e^y - y e^y) dy & = & \\displaystyle \\left.-ye^y + 2e^y\\right|_{y=0}^1 \\\\ \\, & = & (-e + 2e) - (0+2) \\\\ \\, & = & \\boxed{e-2}  \\end{array} $$"
   ]
  },
  {
   "cell_type": "markdown",
   "id": "8f76eca3-8933-49af-802c-e3d112d482af",
   "metadata": {},
   "source": [
    "## Summary\n",
    "### ***Big Picture***\n",
    "\n",
    "1. ### When we need to find a volume under a graph $z=f(x, y)$, we need to compute a double integral.\n",
    "2. ### Double integrals can be computed by iteration (“an integral of an integral\").\n",
    "\n",
    "### ***Mechanics***\n",
    "1. ### To get from $\\displaystyle \\iint_{R} dA$ to $\\displaystyle \\int_{x=?}^{?} \\int_{y=?}^{?}$, we need to think about the values that $x$ and $y$ run through within the region $R$.\n",
    "2. ### If $R$ is a rectangle, then the bounds will be constants, so we will have something like $\\displaystyle \\int_{x=0}^3 \\int_{y=-1}^1$. But if the region is not a rectangle, the bounds will be functions of $x$ or $y$.\n",
    "\n",
    "### ***Ask Yourself***\n",
    "### ***Is there a new fundamental theorem of calculus for double integrals?***\n",
    "### No, we use the same fundamental theorem of calculus for single integrals twice. We treat the non-integrated variable as a constant.\n",
    "\n",
    "### ***How do we decide in what order to do an iterated integral?***\n",
    "### You should use whichever ordering makes the problem easier. Unfortunately, as with most integration methods, we often do not immediately know which approach will work the best. So we might start with one ordering, such as $dx dy$, see if it works, and if we run into difficulty then try the other one.\n",
    "\n",
    "### It is often helpful to sketch the region of integration, which will sometimes give a hint that the integral is more suited to the ordering $dx dy$ or vice versa. But remember: sometimes only one ordering is possible to antidifferentiate, so you might need to try both anyway."
   ]
  },
  {
   "cell_type": "markdown",
   "id": "606a2efe-e622-4468-904c-3c70773e1af6",
   "metadata": {},
   "source": []
  }
 ],
 "metadata": {
  "kernelspec": {
   "display_name": "Python 3",
   "language": "python",
   "name": "python3"
  },
  "language_info": {
   "codemirror_mode": {
    "name": "ipython",
    "version": 3
   },
   "file_extension": ".py",
   "mimetype": "text/x-python",
   "name": "python",
   "nbconvert_exporter": "python",
   "pygments_lexer": "ipython3",
   "version": "3.8.8"
  }
 },
 "nbformat": 4,
 "nbformat_minor": 5
}
