{
 "cells": [
  {
   "cell_type": "markdown",
   "id": "028eacb5-30f1-4470-96f1-2b5f019c5b58",
   "metadata": {},
   "source": [
    "# Unit1: Double Integrals - Introduction"
   ]
  },
  {
   "cell_type": "markdown",
   "id": "d7947f18-872e-40bc-ba05-e9b2bae9538e",
   "metadata": {},
   "source": []
  }
 ],
 "metadata": {
  "kernelspec": {
   "display_name": "Python 3",
   "language": "python",
   "name": "python3"
  },
  "language_info": {
   "codemirror_mode": {
    "name": "ipython",
    "version": 3
   },
   "file_extension": ".py",
   "mimetype": "text/x-python",
   "name": "python",
   "nbconvert_exporter": "python",
   "pygments_lexer": "ipython3",
   "version": "3.8.8"
  }
 },
 "nbformat": 4,
 "nbformat_minor": 5
}
