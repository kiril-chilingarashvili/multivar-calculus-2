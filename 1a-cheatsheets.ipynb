{
 "cells": [
  {
   "cell_type": "markdown",
   "id": "5c0e10b9-459a-4b63-98db-3608fce4a0b9",
   "metadata": {},
   "source": [
    "# Unit1: Double Integrals - Introduction"
   ]
  },
  {
   "cell_type": "markdown",
   "id": "a484bda3-f724-432e-90ca-dc1bfe3ec3a9",
   "metadata": {},
   "source": [
    "## Definition of double integrals\n",
    "\n",
    "### ***Area Below Graph***\n",
    "### Recall that $\\displaystyle \\int_{a}^{b} f(x) dx$ is used to find the area below the graph of $y=f(x)$ over $[a, b]$.\n",
    "![img](img/img-1-1.png)\n",
    "## $$ \\text{Area} = \\int_{a}^{b} f(x) dx $$\n",
    "\n",
    "### ***Volume Below Graph***\n",
    "### For a function $f(x, y)$, we can generalize \"area under curve\" to \"volume under surface\" using a double integral.\n",
    "\n",
    "### ***Volume Under Surface***"
   ]
  },
  {
   "cell_type": "code",
   "execution_count": 3,
   "id": "e93286b5-7197-42f1-9b5c-948788bf9656",
   "metadata": {
    "jupyter": {
     "source_hidden": true
    },
    "tags": []
   },
   "outputs": [
    {
     "data": {
      "text/html": [
       "<iframe width=\"900\" height=\"650\" src=\"https://courses.edx.org/asset-v1:MITx+18.02.2x+2T2022+type@asset+block/threejs_u6_VolumeUnderSurface.html\" frameborder=\"0\" allow=\"accelerometer; autoplay; clipboard-write; encrypted-media; gyroscope; picture-in-picture\" allowfullscreen></iframe>  \n"
      ],
      "text/plain": [
       "<IPython.core.display.HTML object>"
      ]
     },
     "metadata": {},
     "output_type": "display_data"
    }
   ],
   "source": [
    "%%html\n",
    "<iframe width=\"900\" height=\"650\" src=\"https://courses.edx.org/asset-v1:MITx+18.02.2x+2T2022+type@asset+block/threejs_u6_VolumeUnderSurface.html\" frameborder=\"0\" allow=\"accelerometer; autoplay; clipboard-write; encrypted-media; gyroscope; picture-in-picture\" allowfullscreen></iframe>  "
   ]
  },
  {
   "cell_type": "markdown",
   "id": "28a5dcb5-d10b-495d-90b5-fadc5514ffdd",
   "metadata": {},
   "source": [
    "Definition 2.1 The double integral of a function  over a region  is the volume under the graph  above the region  (the region  is a subset of the -plane).\n",
    "(2.44)\n",
    "More rigorously,  is defined as\n",
    "\n",
    "(2.45)\n",
    "where  are obtained by cutting  into  non-overlapping pieces whose areas go to zero as , and each  is a point in .\n",
    "\n",
    "Geometrically, the right-hand-side represents an approximation of the volume under  using the pieces . Each term  can be visualized as the volume of a block of height  with base . The visualization below shows one such block for a rectangular .\n",
    "\n",
    "Block Under Surface \n",
    "\n",
    "Although this is the definition, there are more practical methods to actually compute these volumes."
   ]
  }
 ],
 "metadata": {
  "kernelspec": {
   "display_name": "Python 3",
   "language": "python",
   "name": "python3"
  },
  "language_info": {
   "codemirror_mode": {
    "name": "ipython",
    "version": 3
   },
   "file_extension": ".py",
   "mimetype": "text/x-python",
   "name": "python",
   "nbconvert_exporter": "python",
   "pygments_lexer": "ipython3",
   "version": "3.8.8"
  }
 },
 "nbformat": 4,
 "nbformat_minor": 5
}
