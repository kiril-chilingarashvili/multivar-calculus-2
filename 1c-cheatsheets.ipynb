{
 "cells": [
  {
   "cell_type": "markdown",
   "id": "7611403e-8e6f-486e-8bfb-bcab50397399",
   "metadata": {},
   "source": [
    "# Unit 1: Double Integrals - Part c - Changing Variables and the Jacobian"
   ]
  },
  {
   "cell_type": "markdown",
   "id": "1ce7b572-a031-483f-9ae1-1026c518052f",
   "metadata": {},
   "source": [
    "## Introduction\n",
    "\n",
    "### In the previous lecture, you learned how to change a double integral in rectangular coordinates ($x$ and $y$) to a new double integral in polar coordinates ($r$ and $\\theta$). Switching from rectangular coordinates to polar coordinates is one example of “changing variables\" in a double integral. In this lecture, we generalize the idea to allow for switching from any coordinate system to any other coordinate system. This is useful for solving double integrals that happen to be more suited to an alternative coordinate system.\n",
    "\n",
    "### In addition, some of the ideas in this section will come up again later in calculus when we need to parametrize surfaces in higher dimensions.\n",
    "\n",
    "### **Note**: this is an advanced technique for solving multiple integrals, which is not always included in many Multivariable Calculus courses."
   ]
  },
  {
   "cell_type": "markdown",
   "id": "99795a63-caba-4b55-9cc1-c26c44aeab06",
   "metadata": {},
   "source": [
    "## Area of an ellipse\n",
    "\n",
    "### Our first example of “change of variables\" comes from the following question: how can we find the area of an ellipse using double integrals?\n",
    "\n",
    "### The equation for an ellipse is\n",
    "## $$ \\text{(Equation for ellipse)} \\quad \\left( \\frac{x}{a} \\right)^2 + \\left( \\frac{y}{b} \\right)^2 = 1  $$\n",
    "\n",
    "### If we wanted to find the area of this ellipse, we would need to integrate (with integrand $1$) over the interior region of the ellipse:\n",
    "## $$ \\text{(Area of ellipse)} \\quad \\iint_{\\displaystyle \\left( \\frac{x}{a} \\right)^2+\\left(\\frac{y}{b} \\right)^2 < 1} \\mathop{dx}\\mathop{dy} $$\n",
    "\n",
    "### This integral looks very close to one that we can solve with polar coordinates. But in order to use polar coordinates, we would like to get rid of the denominators in $\\displaystyle \\left(\\frac{x}{a} \\right)^2$ and $\\displaystyle \\left(\\frac{y}{b} \\right)^2$.\n",
    "\n",
    "### To that end, we can introduce new variables $u$ and $v$ where\n",
    "## $$ \\begin{array} {rcl} u & = & \\displaystyle \\frac{x}{a} \\\\ v & = & \\displaystyle \\frac{y}{b} \\end{array} $$\n",
    "\n",
    "### Then the region $\\displaystyle \\left(\\frac{x}{a} \\right)^2 + \\left(\\frac{y}{b} \\right)^2 < 1$ becomes just $u^2+v^2<1$. So far we have:\n",
    "## $$ \\iint_{\\displaystyle \\left( \\frac{x}{a} \\right)^2+\\left(\\frac{y}{b} \\right)^2 < 1} \\mathop{dx}\\mathop{dy} = \\iint_{\\displaystyle u^2+v^2<1} \\cdots $$\n",
    "\n",
    "### To fill in the $\\cdots$, we need to replace $\\mathop{dx}\\mathop{dy}$ with $\\mathop{du}\\mathop{dv}$, possibly with some scaling factors. In this example, we can say\n",
    "## $$ \\begin{array} {rcl} \\displaystyle u = \\frac{x}{a} & \\implies & \\displaystyle \\mathop{du} = \\frac{1}{a}\\mathop{dx} \\\\ \\displaystyle v = \\frac{y}{b} & \\implies & \\displaystyle \\mathop{dv} = \\frac{1}{b}\\mathop{dy} \\end{array} $$\n",
    "\n",
    "### Thus we have\n",
    "## $$ \\mathop{du} \\mathop{dv} = \\frac{1}{ab} \\mathop{dx}\\mathop{dy} $$\n",
    "\n",
    "### Multiplying both sides by $ab$ shows that we can replace $\\mathop{dx}\\mathop{dy}$ by $ab \\mathop{du}\\mathop{dv}$. This gives us the new integral:\n",
    "## $$ \\begin{array} {rcl} \\displaystyle \\iint_{\\displaystyle \\left( \\frac{x}{a} \\right)^2+\\left(\\frac{y}{b} \\right)^2 < 1} \\mathop{dx}\\mathop{dy} & = & \\displaystyle \\iint_{\\displaystyle u^2+v^2 < 1} ab \\mathop{du}\\mathop{dv} \\\\ \\, & = & \\displaystyle ab \\iint_{u^2+v^2<1} \\mathop{du}\\mathop{dv} \\\\ \\, & = & \\displaystyle ab \\cdot \\mathop{Area}(\\text{Unit disk}) \\\\ \\, & = & \\displaystyle ab\\pi \\end{array} $$\n",
    "\n",
    "### Thus the area of the ellipse is $ab\\pi$.\n",
    "\n",
    "## Reflection\n",
    "### Making the change from $x$ and $y$ to $u$ and $v$ is what we mean by a “change of variables.\" Although it is possible to solve this problem with just $x$ and $y$, the change of variables made the integral much simpler.\n",
    "\n",
    "### For the next few pages, the main focus will be on the $\\mathop{dx}\\mathop{dy} = ab \\mathop{du}\\mathop{dv}$ part of the argument. In particular, how do we replace $\\mathop{dx}\\mathop{dy}$ with $\\mathop{du}\\mathop{dv}$ if the change of variables is more complicated? You will see that, depending on the specific change of variables, this is usually more involved than it was in this first example."
   ]
  },
  {
   "cell_type": "markdown",
   "id": "23a5b3c7-67b8-4f69-92f2-5e6fc8ed4783",
   "metadata": {},
   "source": [
    "## Linear change of variables\n",
    "\n",
    "### Before getting to the general case for change of variables, let's look at another specific example, where the new variables are related to the old variables by linear formulas.\n",
    "\n",
    "### **Remark 3.1**\n",
    "### As usual in calculus, we approach the general case by first getting a solid understanding of the linear case. In the general case, we will use calculus (derivatives) to approximate nonlinear behavior by linear behavior.\n",
    "### Suppose that a certain integral becomes simpler via the substitution:\n",
    "## $$ \\begin{array} {rcl} u & = & 3x - 2y \\\\ v & = & x + y \\end{array} $$\n",
    "\n",
    "### We might have chosen this particular substitution because it simplified either the region of integration or the function we were integrating. This will also be a good example to start with because the equations for $u$ and $v$ are linear in $x$ and $y.\n",
    "\n",
    "### We saw in the previous example that we should not simply replace $\\mathop{dx}\\mathop{dy}$ by $\\mathop{du}\\mathop{dv}$ because there is an “area scaling factor\" (in the previous example we had $\\mathop{dx}\\mathop{dy} = ab \\mathop{du}\\mathop{dv} $).\n",
    "\n",
    "### We need to find the relation between:\n",
    "## $$ \\begin{array} {rcl} \\mathop{dx}\\mathop{dy} & = & \\mathop{dA} \\\\ \\mathop{du}\\mathop{dv} & = & \\mathop{dA'} \\end{array} $$\n",
    "\n",
    "### Here, $A'$ is the region traced out in the $uv$-plane as $x$ and $y$ run through a small rectangle $A$ in the $xy$-plane.\n",
    "\n",
    "### **Why is an area scaling factor needed?**\n",
    "### The reason we need this scaling factor is that a small region $A$ in the $xy$-plane contributes a term like $\\mathop{Area}(A)\\cdot f(x, y)$ to the integral, and when $A$ becomes $A'$, we replace $\\mathop{Area}(A)$ by a potentially different area $\\mathop{Area}(A')$. If we were to simply leave $f$ the same, then the resulting term could have a different value, which would impact the value of the integral. So to make sure we do not change the value of the integral, we need to include the scaling factor $\\displaystyle \\frac{\\mathop{Area}(A)}{\\mathop{Area}(A')}$ in the new integrand."
   ]
  },
  {
   "cell_type": "markdown",
   "id": "19042229-2119-4331-91e5-0bbb84b5a5f7",
   "metadata": {},
   "source": [
    "### **Change of Coordinates**"
   ]
  },
  {
   "cell_type": "code",
   "execution_count": 2,
   "id": "77b9aa8a-279f-42cd-ba4d-67a5bb971fbe",
   "metadata": {
    "jupyter": {
     "source_hidden": true
    },
    "tags": []
   },
   "outputs": [
    {
     "data": {
      "text/html": [
       "<iframe width=\"900\" height=\"650\" style=\"background: #FFFFFF;\" src=\"https://courses.edx.org/asset-v1:MITx+18.02.2x+2T2022+type@asset+block/xyuvMapping_iframe_index.html\" frameborder=\"0\" allow=\"accelerometer; autoplay; clipboard-write; encrypted-media; gyroscope; picture-in-picture\" allowfullscreen></iframe>\n"
      ],
      "text/plain": [
       "<IPython.core.display.HTML object>"
      ]
     },
     "metadata": {},
     "output_type": "display_data"
    }
   ],
   "source": [
    "%%html\n",
    "<iframe width=\"900\" height=\"650\" style=\"background: #FFFFFF;\" src=\"https://courses.edx.org/asset-v1:MITx+18.02.2x+2T2022+type@asset+block/xyuvMapping_iframe_index.html\" frameborder=\"0\" allow=\"accelerometer; autoplay; clipboard-write; encrypted-media; gyroscope; picture-in-picture\" allowfullscreen></iframe>"
   ]
  },
  {
   "cell_type": "markdown",
   "id": "42caa05f-32ef-49ff-9af3-eef066781719",
   "metadata": {},
   "source": [
    "## Finding the area scaling factor\n",
    "\n",
    "### Returning to our example, we need to compute the area of the region $A'$, which is the region traced out in the $uv$-plane as $x$ and $y$ run through a small rectangle $A$ in the $xy$-plane.\n",
    "\n",
    "### Our change of variables formulas are linear and can be written with a matrix:\n",
    "## $$ \\begin{array} {rcl} \\displaystyle \\begin{array} {rcl} u & = & 3x - 2y \\\\ v & = & x+y \\end{array} & \\quad \\text{equivalent to} \\quad & \\displaystyle \\begin{pmatrix} u \\\\ v \\end{pmatrix} = \\begin{pmatrix} 3 & -2 \\\\ 1 & 1 \\end{pmatrix} \\begin{pmatrix} x \\\\ y \\end{pmatrix} \\end{array} $$\n",
    "\n",
    "### It turns out that the area scaling factor that we seek is equal to the determinant of this matrix:\n",
    "## $$ \\text{(Area scaling factor)} \\quad \\mathop{Area}(A') = \\det \\begin{pmatrix} 3 & -2 \\\\ 1 & 1 \\end{pmatrix} \\cdot \\mathop{Area}(A) $$\n",
    "\n",
    "### Why is this true? First, it follows from general facts about matrices that the region $A'$ will be a parallelogram in the $uv$-plane, regardless of where the rectangle $A$ is placed (this is because matrices map parallel lines to parallel lines). Furthermore, the area scaling factor $\\displaystyle \\frac{\\mathop{Area}(A)}{\\mathop{Area}(A')}$ doesn't depend on the choice of rectangle $A$ (this is because scaling the input to a matrix will scale the output of the matrix by the same amount, and shifting the input will shift the output, but not stretch it).\n",
    "\n",
    "### Therefore, we can determine the area scaling factor $\\displaystyle \\frac{\\mathop{Area}(A)}{\\mathop{Area}(A')}$ by considering what the matrix does to our preferred choice of $A$, which for us is the unit square.\n",
    "![img](img/img-3-01.png)\n",
    "\n",
    "### As $x$ and $y$ run through the unit square, $u$ and $v$ will trace out a parallelogram with vertices $(0,0),(-2,1),(1,2)$ and $(3,1)$.\n",
    "\n",
    "### In part 1 of this course (see also this [Wikipedia section](https://en.wikipedia.org/wiki/Determinant#Geometric_meaning)), we showed that the area of such a parallelogram is the determinant of the matrix whose columns are $\\begin{pmatrix} 3 \\\\ 1 \\end{pmatrix}$ and $\\begin{pmatrix} -2 \\\\ 1 \\end{pmatrix}$, which is just our original $\\begin{pmatrix} 3 & -2 \\\\ 1 & 1 \\end{pmatrix}$.\n",
    "\n",
    "### Since $\\det \\begin{pmatrix} 3 & -2 \\\\ 1 & 1 \\end{pmatrix} = 5$, we have shown that, after applying the matrix $\\begin{pmatrix} 3 & -2 \\\\ 1 & 1 \\end{pmatrix}$, the unit square is scaled up by a factor of $5$. Furthermore, for any other rectangle the area is also multiplied by $5$. Thus,\n",
    "## $$ \\mathop{Area}(A') = \\det \\begin{pmatrix} 3 & -2 \\\\ 1 & 1 \\end{pmatrix} \\cdot \\mathop{Area}(A) = 5 \\cdot \\mathop{Area}(5) $$\n",
    "\n",
    "### In conclusion, this tells us that\n",
    "## $$ \\begin{array} {rcl} dA' & = & 5 dA \\\\ \\mathop{du}\\mathop{dv} & = 5 \\mathop{dx}\\mathop{dy} \\end{array} $$\n",
    "\n",
    "### So to correctly switch an integral over $x$ and $y$ to an integral over $u$ and $v$, we need to replace $\\mathop{dx}\\mathop{dy}$ by $ \\displaystyle \\frac{1}{5} \\mathop{du}\\mathop{dv}$:\n",
    "## $$ \\iint \\cdots \\mathop{dx}\\mathop{dy} = \\iint \\cdots \\frac{1}{5} \\mathop{du}\\mathop{dv} $$\n",
    "\n",
    "### Note that we would also need to rewrite the integrand function in terms of $u$ and $v$, and replace the region of integration by finding the region that $u$ and $v$ run through as $x$ and $y$ run through the original region."
   ]
  },
  {
   "cell_type": "markdown",
   "id": "fdd78d79-7e5b-420a-b8ed-99abf03cd2d4",
   "metadata": {},
   "source": [
    "## General linear change of variables\n",
    "\n",
    "### The reasoning in the previous example applies to any linear change of variables. In particular, if\n",
    "## $$ \\begin{pmatrix} u \\\\ v \\end{pmatrix} = \\bf{M} \\begin{pmatrix} x \\\\ y \\end{pmatrix} $$\n",
    "\n",
    "### then the area scaling factor is the absolute value of the determinant of $\\bf{M}$.\n",
    "## $$ \\text{if}\\quad \\begin{pmatrix} u \\\\ v \\end{pmatrix} = \\bf{M} \\begin{pmatrix} x \\\\ y \\end{pmatrix}, \\quad \\text{then}\\quad \\mathop{du}\\mathop{dv} =|\\det(\\bf{M})| \\mathop{dx}\\mathop{dy} $$\n",
    "\n",
    "### which can also be expressed as:\n",
    "## $$ \\mathop{dx}\\mathop{dy}  = \\frac{1}{|\\det(\\bf{M})|} \\mathop{du}\\mathop{dv} $$"
   ]
  },
  {
   "cell_type": "markdown",
   "id": "3471b081-485f-49b3-b31f-f8432c0279da",
   "metadata": {},
   "source": [
    "## General nonlinear change of variables\n",
    "\n",
    "### What about a nonlinear change of variables, that is, those that cannot be written with a matrix? In part 1 of this course, we showed that nonlinear transformations $x,y \\implies u, v$ can be approximated by a linear transformation, called its linearization.\n",
    "\n",
    "### Recall the following theorem:\n",
    "\n",
    "### **Theorem**\n",
    "\n",
    "### The linearization of $x, y \\implies u, v$ at $(x_0, y_0)$ is given by the matrix:\n",
    "## $$ \\left. \\begin{pmatrix} \\frac{\\partial u}{\\partial x} & \\frac{\\partial u}{\\partial y}  \\\\ \\frac{\\partial v}{\\partial x}  & \\frac{\\partial v}{\\partial y}  \\end{pmatrix} \\right|_{(x,y) = (x_0, y_0)} $$\n",
    "\n",
    "### The matrix appearing in the above Theorem is known as the “Jacobian matrix\".\n",
    "\n",
    "### **Main Result**: Since a nonlinear transformation can be approximated by its Jacobian, which is a linear transformation, **the area scaling factor for any transformation is the absolute value of the determinant of its Jacobian matrix**. Details below."
   ]
  },
  {
   "cell_type": "markdown",
   "id": "4640469e-b69a-4bde-a4a1-0feb26b5d994",
   "metadata": {},
   "source": [
    "### **Definition 5.2**\n",
    "### The **Jacobian** or **Jacobian determinant** of a change of variables from $x$ and $y$ to $u$ and $v$ is the following determinant:\n",
    "## $$ J = \\frac{\\partial(u, v)}{\\partial(x,y)} = \\det \\begin{pmatrix} u_x & u_y \\\\ v_x & v_y \\end{pmatrix} $$\n",
    "\n",
    "### This is the determinant of the Jacobian matrix.\n",
    "### Note that we replaced the partial notation $\\frac{\\partial u}{\\partial x}$ by the more compact notation $u_x$, etc.\n",
    "\n",
    "### **Theorem**\n",
    "### When changing variables in a double integral from $x$ and $y$ to $u$ and $v$, the area scaling factor between $\\mathop{du}\\mathop{dv}$ and $\\mathop{dx}\\mathop{dy}$ is the absolute value of the Jacobian determinant. That is,\n",
    "## $$ \\mathop{du}\\mathop{dv} = |J| \\mathop{dx}\\mathop{dy} = \\left| \\frac{\\partial(u, v)}{\\partial(x, y)} \\right| \\mathop{dx}\\mathop{dy}  $$\n",
    "\n",
    "### **Footnote**: \n",
    "### we assume that the transformation from $x$ and $y$ to $u$ and $v$ is differentiable, and also one-to-one, which means each point in the $uv$-region must correspond to a unique point in the $xy$-region. \n",
    "\n",
    "### We must remember the absolute value because a determinant might be negative, but the area scaling factor should always be positive.\n",
    "\n",
    "### The theorem is true because a transformation can be approximated by its linearization, which is the Jacobian matrix, and for a linear change of variables, the area scaling factor is given by the determinant.\n",
    "\n",
    "### More specifically, when each small square of the integration region is transformed into $u,v$ coordinates, each square will be warped: some squares might be stretched, some squares might be squished, and some squares might simply be moved around. In order not to change the value of the integral, we must keep track of all this warping. The Jacobian determinant (in absolute value) tells us exactly how much the area is being warped at any given point, and therefore including it in the new integral will account for the area scaling of each small square.\n",
    "\n",
    "### The notation $\\displaystyle \\frac{\\partial(u,v)}{\\partial(x, y)}$ might look a little strange at this point, but it will help you remember what the matrix is, and $\\displaystyle \\frac{\\partial(u,v)}{\\partial(x, y)}$ resembles an exchange rate between $x$ and $y$ and $u$ and $v$.\n",
    "\n",
    "### **Footnote in Theorem**\n",
    "### As stated above, the Theorem is only true if we assume the transformation from $x$ and $y$ to $u$ and $v$ is differentiable and one-to-one. For one, this ensures that we are not “double counting\" portions of the integral.\n",
    "\n",
    "### As a concrete example, consider the usual polar coordinates change of variables. If we do not restrict $\\theta$, then this mapping is not one-to-one, due to the periodicity of sine and cosine. For instance, if our region in the $xy$-plane is the unit disk, then the region could be “described\" in $r,\\theta$ coordinates by:\n",
    "## $$ \\begin{array} {rcl} & 0 < r < 1 & \\\\ & 0 < \\theta < {\\color{red}{4\\pi}} & \\end{array} $$\n",
    "\n",
    "### But using $4\\pi$ instead of $2\\pi$ would lead to double counting the area:\n",
    "## $$ \\begin{array} {rcl} \\mathop{Area}(\\mathop{Disk}) & = & \\displaystyle \\iint_{\\mathop{Disk}} \\mathop{dA} \\\\ \\, & = & \\displaystyle \\int_{r=0}^1 \\int_{\\theta=0}^{\\color{red}{4\\pi}} r \\mathop{dr}\\mathop{d\\theta} \\\\ \\, & = & 2\\pi \\quad {\\color{red}{\\text{wrong, the area must be}\\, \\pi}} \\end{array} $$\n",
    "\n",
    "### The only way to avoid making this error is to recognize that the mapping is not one-to-one.\n",
    "\n",
    "### For an even more blatant example, consider a transformation such as $u=x$ and $v=0$. The Jacobian determinant will be $0$, which, if valid, would prove absurdly that all integrals equal zero:\n",
    "## $$ \\iint_{R} \\mathop{dx}\\mathop{dy} = \\iint_{R'} 0 \\mathop{du}\\mathop{dv} = 0 \\quad {\\color{red}{\\text{(wrong)}}} $$\n",
    "\n",
    "### The problem here is again that different values of $x$ and $y$ are being mapped to the same values of $u$ and $v$.\n",
    "\n",
    "### In practice, we usually rule out these issues by sketching the regions of interest in the $xy$ and $uv$ planes."
   ]
  },
  {
   "cell_type": "markdown",
   "id": "55298652-a71a-4ae0-8b0c-f9eb7a5c0be1",
   "metadata": {},
   "source": []
  }
 ],
 "metadata": {
  "kernelspec": {
   "display_name": "Python 3",
   "language": "python",
   "name": "python3"
  },
  "language_info": {
   "codemirror_mode": {
    "name": "ipython",
    "version": 3
   },
   "file_extension": ".py",
   "mimetype": "text/x-python",
   "name": "python",
   "nbconvert_exporter": "python",
   "pygments_lexer": "ipython3",
   "version": "3.8.8"
  }
 },
 "nbformat": 4,
 "nbformat_minor": 5
}
