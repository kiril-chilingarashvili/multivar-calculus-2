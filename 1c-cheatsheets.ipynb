{
 "cells": [
  {
   "cell_type": "markdown",
   "id": "7611403e-8e6f-486e-8bfb-bcab50397399",
   "metadata": {},
   "source": [
    "# Unit 1: Double Integrals - Part c - Changing Variables and the Jacobian"
   ]
  },
  {
   "cell_type": "markdown",
   "id": "1ce7b572-a031-483f-9ae1-1026c518052f",
   "metadata": {},
   "source": [
    "## Introduction\n",
    "\n",
    "### In the previous lecture, you learned how to change a double integral in rectangular coordinates ($x$ and $y$) to a new double integral in polar coordinates ($r$ and $\\theta$). Switching from rectangular coordinates to polar coordinates is one example of “changing variables\" in a double integral. In this lecture, we generalize the idea to allow for switching from any coordinate system to any other coordinate system. This is useful for solving double integrals that happen to be more suited to an alternative coordinate system.\n",
    "\n",
    "### In addition, some of the ideas in this section will come up again later in calculus when we need to parametrize surfaces in higher dimensions.\n",
    "\n",
    "### **Note**: this is an advanced technique for solving multiple integrals, which is not always included in many Multivariable Calculus courses."
   ]
  },
  {
   "cell_type": "markdown",
   "id": "99795a63-caba-4b55-9cc1-c26c44aeab06",
   "metadata": {},
   "source": [
    "## Area of an ellipse\n",
    "\n",
    "### Our first example of “change of variables\" comes from the following question: how can we find the area of an ellipse using double integrals?\n",
    "\n",
    "### The equation for an ellipse is\n",
    "## $$ \\text{(Equation for ellipse)} \\quad \\left( \\frac{x}{a} \\right)^2 + \\left( \\frac{y}{b} \\right)^2 = 1  $$\n",
    "\n",
    "### If we wanted to find the area of this ellipse, we would need to integrate (with integrand $1$) over the interior region of the ellipse:\n",
    "## $$ \\text{(Area of ellipse)} \\quad \\iint_{\\displaystyle \\left( \\frac{x}{a} \\right)^2+\\left(\\frac{y}{b} \\right)^2 < 1} \\mathop{dx}\\mathop{dy} $$\n",
    "\n",
    "### This integral looks very close to one that we can solve with polar coordinates. But in order to use polar coordinates, we would like to get rid of the denominators in $\\displaystyle \\left(\\frac{x}{a} \\right)^2$ and $\\displaystyle \\left(\\frac{y}{b} \\right)^2$.\n",
    "\n",
    "### To that end, we can introduce new variables $u$ and $v$ where\n",
    "## $$ \\begin{array} {rcl} u & = & \\displaystyle \\frac{x}{a} \\\\ v & = & \\displaystyle \\frac{y}{b} \\end{array} $$\n",
    "\n",
    "### Then the region $\\displaystyle \\left(\\frac{x}{a} \\right)^2 + \\left(\\frac{y}{b} \\right)^2 < 1$ becomes just $u^2+v^2<1$. So far we have:\n",
    "## $$ \\iint_{\\displaystyle \\left( \\frac{x}{a} \\right)^2+\\left(\\frac{y}{b} \\right)^2 < 1} \\mathop{dx}\\mathop{dy} = \\iint_{\\displaystyle u^2+v^2<1} \\cdots $$\n",
    "\n",
    "### To fill in the $\\cdots$, we need to replace $\\mathop{dx}\\mathop{dy}$ with $\\mathop{du}\\mathop{dv}$, possibly with some scaling factors. In this example, we can say\n",
    "## $$ \\begin{array} {rcl} \\displaystyle u = \\frac{x}{a} & \\implies & \\displaystyle \\mathop{du} = \\frac{1}{a}\\mathop{dx} \\\\ \\displaystyle v = \\frac{y}{b} & \\implies & \\displaystyle \\mathop{dv} = \\frac{1}{b}\\mathop{dy} \\end{array} $$\n",
    "\n",
    "### Thus we have\n",
    "## $$ \\mathop{du} \\mathop{dv} = \\frac{1}{ab} \\mathop{dx}\\mathop{dy} $$\n",
    "\n",
    "### Multiplying both sides by $ab$ shows that we can replace $\\mathop{dx}\\mathop{dy}$ by $ab \\mathop{du}\\mathop{dv}$. This gives us the new integral:\n",
    "## $$ \\begin{array} {rcl} \\displaystyle \\iint_{\\displaystyle \\left( \\frac{x}{a} \\right)^2+\\left(\\frac{y}{b} \\right)^2 < 1} \\mathop{dx}\\mathop{dy} & = & \\displaystyle \\iint_{\\displaystyle u^2+v^2 < 1} ab \\mathop{du}\\mathop{dv} \\\\ \\, & = & \\displaystyle ab \\iint_{u^2+v^2<1} \\mathop{du}\\mathop{dv} \\\\ \\, & = & \\displaystyle ab \\cdot \\mathop{Area}(\\text{Unit disk}) \\\\ \\, & = & \\displaystyle ab\\pi \\end{array} $$\n",
    "\n",
    "### Thus the area of the ellipse is $ab\\pi$.\n",
    "\n",
    "## Reflection\n",
    "### Making the change from $x$ and $y$ to $u$ and $v$ is what we mean by a “change of variables.\" Although it is possible to solve this problem with just $x$ and $y$, the change of variables made the integral much simpler.\n",
    "\n",
    "### For the next few pages, the main focus will be on the $\\mathop{dx}\\mathop{dy} = ab \\mathop{du}\\mathop{dv}$ part of the argument. In particular, how do we replace $\\mathop{dx}\\mathop{dy}$ with $\\mathop{du}\\mathop{dv}$ if the change of variables is more complicated? You will see that, depending on the specific change of variables, this is usually more involved than it was in this first example."
   ]
  },
  {
   "cell_type": "markdown",
   "id": "23a5b3c7-67b8-4f69-92f2-5e6fc8ed4783",
   "metadata": {},
   "source": [
    "## Linear change of variables\n",
    "\n",
    "### Before getting to the general case for change of variables, let's look at another specific example, where the new variables are related to the old variables by linear formulas.\n",
    "\n",
    "### **Remark 3.1**\n",
    "### As usual in calculus, we approach the general case by first getting a solid understanding of the linear case. In the general case, we will use calculus (derivatives) to approximate nonlinear behavior by linear behavior.\n",
    "### Suppose that a certain integral becomes simpler via the substitution:\n",
    "## $$ \\begin{array} {rcl} u & = & 3x - 2y \\\\ v & = & x + y \\end{array} $$\n",
    "\n",
    "### We might have chosen this particular substitution because it simplified either the region of integration or the function we were integrating. This will also be a good example to start with because the equations for $u$ and $v$ are linear in $x$ and $y.\n",
    "\n",
    "### We saw in the previous example that we should not simply replace $\\mathop{dx}\\mathop{dy}$ by $\\mathop{du}\\mathop{dv}$ because there is an “area scaling factor\" (in the previous example we had $\\mathop{dx}\\mathop{dy} = ab \\mathop{du}\\mathop{dv} $).\n",
    "\n",
    "### We need to find the relation between:\n",
    "## $$ \\begin{array} {rcl} \\mathop{dx}\\mathop{dy} & = & \\mathop{dA} \\\\ \\mathop{du}\\mathop{dv} & = & \\mathop{dA'} \\end{array} $$\n",
    "\n",
    "### Here, $A'$ is the region traced out in the $uv$-plane as $x$ and $y$ run through a small rectangle $A$ in the $xy$-plane.\n",
    "\n",
    "### **Why is an area scaling factor needed?**\n",
    "### The reason we need this scaling factor is that a small region $A$ in the $xy$-plane contributes a term like $\\mathop{Area}(A)\\cdot f(x, y)$ to the integral, and when $A$ becomes $A'$, we replace $\\mathop{Area}(A)$ by a potentially different area $\\mathop{Area}(A')$. If we were to simply leave $f$ the same, then the resulting term could have a different value, which would impact the value of the integral. So to make sure we do not change the value of the integral, we need to include the scaling factor $\\displaystyle \\frac{\\mathop{Area}(A)}{\\mathop{Area}(A')}$ in the new integrand."
   ]
  },
  {
   "cell_type": "markdown",
   "id": "19042229-2119-4331-91e5-0bbb84b5a5f7",
   "metadata": {},
   "source": [
    "### **Change of Coordinates**"
   ]
  },
  {
   "cell_type": "code",
   "execution_count": 2,
   "id": "77b9aa8a-279f-42cd-ba4d-67a5bb971fbe",
   "metadata": {
    "tags": []
   },
   "outputs": [
    {
     "data": {
      "text/html": [
       "<iframe width=\"900\" height=\"650\" style=\"background: #FFFFFF;\" src=\"https://courses.edx.org/asset-v1:MITx+18.02.2x+2T2022+type@asset+block/xyuvMapping_iframe_index.html\" frameborder=\"0\" allow=\"accelerometer; autoplay; clipboard-write; encrypted-media; gyroscope; picture-in-picture\" allowfullscreen></iframe>\n"
      ],
      "text/plain": [
       "<IPython.core.display.HTML object>"
      ]
     },
     "metadata": {},
     "output_type": "display_data"
    }
   ],
   "source": [
    "%%html\n",
    "<iframe width=\"900\" height=\"650\" style=\"background: #FFFFFF;\" src=\"https://courses.edx.org/asset-v1:MITx+18.02.2x+2T2022+type@asset+block/xyuvMapping_iframe_index.html\" frameborder=\"0\" allow=\"accelerometer; autoplay; clipboard-write; encrypted-media; gyroscope; picture-in-picture\" allowfullscreen></iframe>"
   ]
  },
  {
   "cell_type": "markdown",
   "id": "42caa05f-32ef-49ff-9af3-eef066781719",
   "metadata": {},
   "source": [
    "## Finding the area scaling factor\n",
    "\n",
    "### Returning to our example, we need to compute the area of the region $A'$, which is the region traced out in the $uv$-plane as $x$ and $y$ run through a small rectangle $A$ in the $xy$-plane.\n",
    "\n",
    "### Our change of variables formulas are linear and can be written with a matrix:\n",
    "## $$ \\begin{array} {rcl} \\displaystyle \\begin{array} {rcl} u & = & 3x - 2y \\\\ v & = & x+y \\end{array} & \\quad \\text{equivalent to} \\quad & \\displaystyle \\begin{pmatrix} u \\\\ v \\end{pmatrix} = \\begin{pmatrix} 3 & -2 \\\\ 1 & 1 \\end{pmatrix} \\begin{pmatrix} x \\\\ y \\end{pmatrix} \\end{array} $$\n",
    "\n",
    "### It turns out that the area scaling factor that we seek is equal to the determinant of this matrix:\n",
    "## $$ \\text{(Area scaling factor)} \\quad \\mathop{Area}(A') = \\det \\begin{pmatrix} 3 & -2 \\\\ 1 & 1 \\end{pmatrix} \\cdot \\mathop{Area}(A) $$\n",
    "\n",
    "### Why is this true? First, it follows from general facts about matrices that the region $A'$ will be a parallelogram in the $uv$-plane, regardless of where the rectangle $A$ is placed (this is because matrices map parallel lines to parallel lines). Furthermore, the area scaling factor $\\displaystyle \\frac{\\mathop{Area}(A)}{\\mathop{Area}(A')}$ doesn't depend on the choice of rectangle $A$ (this is because scaling the input to a matrix will scale the output of the matrix by the same amount, and shifting the input will shift the output, but not stretch it).\n",
    "\n",
    "### Therefore, we can determine the area scaling factor $\\displaystyle \\frac{\\mathop{Area}(A)}{\\mathop{Area}(A')}$ by considering what the matrix does to our preferred choice of $A$, which for us is the unit square.\n",
    "![img](img/img-3-01.png)\n",
    "\n",
    "### As $x$ and $y$ run through the unit square, $u$ and $v$ will trace out a parallelogram with vertices $(0,0),(-2,1),(1,2)$ and $(3,1)$.\n",
    "\n",
    "### In part 1 of this course (see also this [Wikipedia section](https://en.wikipedia.org/wiki/Determinant#Geometric_meaning)), we showed that the area of such a parallelogram is the determinant of the matrix whose columns are $\\begin{pmatrix} 3 \\\\ 1 \\end{pmatrix}$ and $\\begin{pmatrix} -2 \\\\ 1 \\end{pmatrix}$, which is just our original $\\begin{pmatrix} 3 & -2 \\\\ 1 & 1 \\end{pmatrix}$.\n",
    "\n",
    "### Since $\\det \\begin{pmatrix} 3 & -2 \\\\ 1 & 1 \\end{pmatrix} = 5$, we have shown that, after applying the matrix $\\begin{pmatrix} 3 & -2 \\\\ 1 & 1 \\end{pmatrix}$, the unit square is scaled up by a factor of $5$. Furthermore, for any other rectangle the area is also multiplied by $5$. Thus,\n",
    "## $$ \\mathop{Area}(A') = \\det \\begin{pmatrix} 3 & -2 \\\\ 1 & 1 \\end{pmatrix} \\cdot \\mathop{Area}(A) = 5 \\cdot \\mathop{Area}(5) $$\n",
    "\n",
    "### In conclusion, this tells us that\n",
    "## $$ \\begin{array} {rcl} dA' & = & 5 dA \\\\ \\mathop{du}\\mathop{dv} & = 5 \\mathop{dx}\\mathop{dy} \\end{array} $$\n",
    "\n",
    "### So to correctly switch an integral over $x$ and $y$ to an integral over $u$ and $v$, we need to replace $\\mathop{dx}\\mathop{dy}$ by $ \\displaystyle \\frac{1}{5} \\mathop{du}\\mathop{dv}$:\n",
    "## $$ \\iint \\cdots \\mathop{dx}\\mathop{dy} = \\iint \\cdots \\frac{1}{5} \\mathop{du}\\mathop{dv} $$\n",
    "\n",
    "### Note that we would also need to rewrite the integrand function in terms of $u$ and $v$, and replace the region of integration by finding the region that $u$ and $v$ run through as $x$ and $y$ run through the original region."
   ]
  },
  {
   "cell_type": "markdown",
   "id": "fdd78d79-7e5b-420a-b8ed-99abf03cd2d4",
   "metadata": {},
   "source": [
    "## General linear change of variables\n",
    "\n",
    "### The reasoning in the previous example applies to any linear change of variables. In particular, if\n",
    "## $$ \\begin{pmatrix} u \\\\ v \\end{pmatrix} = \\bf{M} \\begin{pmatrix} x \\\\ y \\end{pmatrix} $$\n",
    "\n",
    "### then the area scaling factor is the absolute value of the determinant of $\\bf{M}$.\n",
    "## $$ \\text{if}\\quad \\begin{pmatrix} u \\\\ v \\end{pmatrix} = \\bf{M} \\begin{pmatrix} x \\\\ y \\end{pmatrix}, \\quad \\text{then}\\quad \\mathop{du}\\mathop{dv} =|\\det(\\bf{M})| \\mathop{dx}\\mathop{dy} $$\n",
    "\n",
    "### which can also be expressed as:\n",
    "## $$ \\mathop{dx}\\mathop{dy}  = \\frac{1}{|\\det(\\bf{M})|} \\mathop{du}\\mathop{dv} $$"
   ]
  },
  {
   "cell_type": "markdown",
   "id": "3471b081-485f-49b3-b31f-f8432c0279da",
   "metadata": {},
   "source": [
    "## General nonlinear change of variables\n",
    "\n",
    "### What about a nonlinear change of variables, that is, those that cannot be written with a matrix? In part 1 of this course, we showed that nonlinear transformations $x,y \\implies u, v$ can be approximated by a linear transformation, called its linearization.\n",
    "\n",
    "### Recall the following theorem:\n",
    "\n",
    "### **Theorem**\n",
    "\n",
    "### The linearization of $x, y \\implies u, v$ at $(x_0, y_0)$ is given by the matrix:\n",
    "## $$ \\left. \\begin{pmatrix} \\frac{\\partial u}{\\partial x} & \\frac{\\partial u}{\\partial y}  \\\\ \\frac{\\partial v}{\\partial x}  & \\frac{\\partial v}{\\partial y}  \\end{pmatrix} \\right|_{(x,y) = (x_0, y_0)} $$\n",
    "\n",
    "### The matrix appearing in the above Theorem is known as the “Jacobian matrix\".\n",
    "\n",
    "### **Main Result**: Since a nonlinear transformation can be approximated by its Jacobian, which is a linear transformation, **the area scaling factor for any transformation is the absolute value of the determinant of its Jacobian matrix**. Details below."
   ]
  },
  {
   "cell_type": "markdown",
   "id": "4640469e-b69a-4bde-a4a1-0feb26b5d994",
   "metadata": {},
   "source": [
    "### **Definition 5.2**\n",
    "### The **Jacobian** or **Jacobian determinant** of a change of variables from $x$ and $y$ to $u$ and $v$ is the following determinant:\n",
    "## $$ J = \\frac{\\partial(u, v)}{\\partial(x,y)} = \\det \\begin{pmatrix} u_x & u_y \\\\ v_x & v_y \\end{pmatrix} $$\n",
    "\n",
    "### This is the determinant of the Jacobian matrix.\n",
    "### Note that we replaced the partial notation $\\frac{\\partial u}{\\partial x}$ by the more compact notation $u_x$, etc.\n",
    "\n",
    "### **Theorem**\n",
    "### When changing variables in a double integral from $x$ and $y$ to $u$ and $v$, the area scaling factor between $\\mathop{du}\\mathop{dv}$ and $\\mathop{dx}\\mathop{dy}$ is the absolute value of the Jacobian determinant. That is,\n",
    "## $$ \\mathop{du}\\mathop{dv} = |J| \\mathop{dx}\\mathop{dy} = \\left| \\frac{\\partial(u, v)}{\\partial(x, y)} \\right| \\mathop{dx}\\mathop{dy}  $$\n",
    "\n",
    "### **Footnote**: \n",
    "### we assume that the transformation from $x$ and $y$ to $u$ and $v$ is differentiable, and also one-to-one, which means each point in the $uv$-region must correspond to a unique point in the $xy$-region. \n",
    "\n",
    "### We must remember the absolute value because a determinant might be negative, but the area scaling factor should always be positive.\n",
    "\n",
    "### The theorem is true because a transformation can be approximated by its linearization, which is the Jacobian matrix, and for a linear change of variables, the area scaling factor is given by the determinant.\n",
    "\n",
    "### More specifically, when each small square of the integration region is transformed into $u,v$ coordinates, each square will be warped: some squares might be stretched, some squares might be squished, and some squares might simply be moved around. In order not to change the value of the integral, we must keep track of all this warping. The Jacobian determinant (in absolute value) tells us exactly how much the area is being warped at any given point, and therefore including it in the new integral will account for the area scaling of each small square.\n",
    "\n",
    "### The notation $\\displaystyle \\frac{\\partial(u,v)}{\\partial(x, y)}$ might look a little strange at this point, but it will help you remember what the matrix is, and $\\displaystyle \\frac{\\partial(u,v)}{\\partial(x, y)}$ resembles an exchange rate between $x$ and $y$ and $u$ and $v$.\n",
    "\n",
    "### **Footnote in Theorem**\n",
    "### As stated above, the Theorem is only true if we assume the transformation from $x$ and $y$ to $u$ and $v$ is differentiable and one-to-one. For one, this ensures that we are not “double counting\" portions of the integral.\n",
    "\n",
    "### As a concrete example, consider the usual polar coordinates change of variables. If we do not restrict $\\theta$, then this mapping is not one-to-one, due to the periodicity of sine and cosine. For instance, if our region in the $xy$-plane is the unit disk, then the region could be “described\" in $r,\\theta$ coordinates by:\n",
    "## $$ \\begin{array} {rcl} & 0 < r < 1 & \\\\ & 0 < \\theta < {\\color{red}{4\\pi}} & \\end{array} $$\n",
    "\n",
    "### But using $4\\pi$ instead of $2\\pi$ would lead to double counting the area:\n",
    "## $$ \\begin{array} {rcl} \\mathop{Area}(\\mathop{Disk}) & = & \\displaystyle \\iint_{\\mathop{Disk}} \\mathop{dA} \\\\ \\, & = & \\displaystyle \\int_{r=0}^1 \\int_{\\theta=0}^{\\color{red}{4\\pi}} r \\mathop{dr}\\mathop{d\\theta} \\\\ \\, & = & 2\\pi \\quad {\\color{red}{\\text{wrong, the area must be}\\, \\pi}} \\end{array} $$\n",
    "\n",
    "### The only way to avoid making this error is to recognize that the mapping is not one-to-one.\n",
    "\n",
    "### For an even more blatant example, consider a transformation such as $u=x$ and $v=0$. The Jacobian determinant will be $0$, which, if valid, would prove absurdly that all integrals equal zero:\n",
    "## $$ \\iint_{R} \\mathop{dx}\\mathop{dy} = \\iint_{R'} 0 \\mathop{du}\\mathop{dv} = 0 \\quad {\\color{red}{\\text{(wrong)}}} $$\n",
    "\n",
    "### The problem here is again that different values of $x$ and $y$ are being mapped to the same values of $u$ and $v$.\n",
    "\n",
    "### In practice, we usually rule out these issues by sketching the regions of interest in the $xy$ and $uv$ planes."
   ]
  },
  {
   "cell_type": "markdown",
   "id": "55298652-a71a-4ae0-8b0c-f9eb7a5c0be1",
   "metadata": {},
   "source": [
    "## Polar Coordinates Revisited\n",
    "\n",
    "### We have already seen that when converting from $x$ and $y$ to $r$ and $\\theta$, we end up with\n",
    "## $$ \\mathop{dx}\\mathop{dy} = r \\mathop{dr}\\mathop{d\\theta} $$\n",
    "\n",
    "### In other words, the area scaling factor is $r$. Let's see if we get the same result using the Jacobian determinant.\n",
    "\n",
    "### We have\n",
    "## $$ \\begin{array} {rcl} x & = & r\\cos(\\theta) \\\\ y & = & r \\sin(\\theta) \\end{array} $$\n",
    "\n",
    "### So\n",
    "## $$ \\begin{array} {rcl} \\displaystyle \\frac{\\partial(x, y)}{\\partial(r, \\theta)} & = & \\displaystyle \\det \\begin{pmatrix} x_r & x_{\\theta} \\\\ y_r & y_{\\theta} \\end{pmatrix} \\\\ \\, & = & \\displaystyle \\det \\begin{pmatrix} \\cos(\\theta) & -r \\sin(\\theta) \\\\ \\sin(\\theta) & r \\cos(\\theta) \\end{pmatrix} \\\\ \\, & = & r\\cos^2 (\\theta) + r \\sin^2(\\theta) \\\\ \\, & = & r \\end{array}  $$\n",
    "\n",
    "### We have used $\\cos^2(\\theta) + \\sin^2(\\theta) = 1$.\n",
    "\n",
    "### Therefore, indeed we obtain\n",
    "## $$ \\begin{array} {rcl} \\mathop{dx}\\mathop{dy}  & = & \\displaystyle \\left| \\frac{\\partial(x,y)}{\\partial(r, \\theta)} \\right| \\mathop{dr}\\mathop{d\\theta} \\\\ \\, & = & |r| \\mathop{dr}\\mathop{d\\theta}  \\\\ \\, & = & r \\mathop{dr}\\mathop{d\\theta} \\end{array}  $$\n",
    "\n",
    "### We have replaced $|r|$ by $r$ because in polar coordinates $r$ satisfies $r \\geq 0$ by convention.\n",
    "\n",
    "### **Remark 6.1**\n",
    "### Note: in some circumstances, the $r\\geq 0$ convention may be violated because a negative $r$ is used. This happens, for example, when graphing “rose curves\" in polar coordinates, such as $r=\\cos(2\\theta)$. In that case, we might need to keep the absolute value $|r|$ when switching an integral to polar coordinates. But in this course, we will always follow the convention that $r\\geq 0$.\n",
    "\n",
    "### **Remark 6.2**\n",
    "### In this example, we used equations $x=\\cdots $ and $y=\\cdots$ to change variables. This is a little different from our previous examples, which used $u=\\cdots$ and $v=\\cdots$. Both approaches are valid. The difference will be clarified later."
   ]
  },
  {
   "cell_type": "markdown",
   "id": "bdf6f6f8-a179-4de7-8aab-238ef6ef36b8",
   "metadata": {},
   "source": [
    "## Reciprocal Jacobian\n",
    "\n",
    "### In the previous pages, we showed that\n",
    "## $$ \\mathop{du}\\mathop{dv} = \\left| \\frac{\\partial(u, v)}{\\partial(x, y)} \\right| \\mathop{dx}\\mathop{dy}  $$\n",
    "\n",
    "### Keep in mind that this equation can also be used to “go the other way,\" that is, to change an integral containing $\\mathop{du}$ and $\\mathop{dv}$ into one containing $\\mathop{dx}$ and $\\mathop{dy}$. We simply solve for $\\mathop{dx}\\mathop{dy}$ in the above equation:\n",
    "## $$ \\mathop{dx}\\mathop{dy} = \\frac{1}{\\left| \\frac{\\partial(u, v)}{\\partial(x, y)} \\right|}\\mathop{du}\\mathop{dv}  $$\n",
    "\n",
    "### On the other hand, by interchanging the roles of $x,y$ and $u,v$, we can also say that:\n",
    "## $$ \\mathop{dx}\\mathop{dy} = \\left| \\frac{\\partial(x, y)}{\\partial(u, v)} \\right| \\mathop{du}\\mathop{dv}  $$\n",
    "\n",
    "### Here, $\\displaystyle \\left| \\frac{\\partial(x, y)}{\\partial(u, v)} \\right|$ is the determinant of the matrix obtained by taking the partial derivatives of $x$ and $y$ with respect to $u$ and $v$. That is, it is the Jacobian determinant of a change of variables resembling:\n",
    "## $$ \\begin{array} {rcl} x & = & \\text{(expression involving}\\, u, v\\,\\text{)} \\\\ y & = & \\text{(expression involving}\\, u, v\\,\\text{)} \\end{array} $$\n",
    "\n",
    "### By equating the two expressions for $\\mathop{dx}\\mathop{dy}$ above, we obtain:\n",
    "## $$ \\frac{1}{\\left| \\frac{\\partial(u, v)}{\\partial(x, y)} \\right|} = \\left| \\frac{\\partial(x, y)}{\\partial(u, v)} \\right| $$\n",
    "### or, equivalently\n",
    "## $$ \\left| \\frac{\\partial(u, v)}{\\partial(x, y)} \\right| \\cdot \\left| \\frac{\\partial(x, y)}{\\partial(u, v)} \\right| = 1 $$\n",
    "\n",
    "### This result justifies the notation, and it means that either of $\\displaystyle \\frac{\\partial(u, v)}{\\partial(x, y)}$ and $\\displaystyle \\frac{\\partial(x, y)}{\\partial(u, v)}$ can be used to complete the change of variables.\n",
    "\n",
    "### In summary, we can complete a change of variables (and get the same answer) regardless of if we express $u$ and $v$ in terms of $x$ and $y$, or if we express $x$ and $y$ in terms of $u$ and $v$.\n",
    "\n",
    "### Let us demonstrate the distinction with some examples."
   ]
  },
  {
   "cell_type": "markdown",
   "id": "d2b81ee4-a09a-43b1-a9f1-6f2764e1d1f2",
   "metadata": {},
   "source": [
    "### **Example expressing $u$ and $v$ in terms of $x$ and $y$**\n",
    "### **Example 7.1**\n",
    "### In an earlier example we dealt with an integral\n",
    "## $$ I_0 = \\iint_{R} \\sqrt{3x - 2y} \\mathop{dx}\\mathop{dy}  $$\n",
    "\n",
    "### using the change of variables\n",
    "## $$ \\begin{array} {rcl} u & = & 3x - 2y \\\\ v & = & x + y \\end{array} $$\n",
    "\n",
    "### The Jacobian determinant $\\frac{\\partial(u,v)}{\\partial(x,y)} = 5$, which means\n",
    "## $$ \\begin{array} {rcl} \\displaystyle \\mathop{du}\\mathop{dv} & = & \\displaystyle \\left| \\frac{\\partial(u,v)}{\\partial(x,y)} \\right| \\mathop{dx}\\mathop{dy} \\\\ \\, & = & \\displaystyle 5 \\mathop{dx}\\mathop{dy} \\end{array} $$\n",
    "\n",
    "### Moving the $5$ to the other side, we have\n",
    "## $$ \\mathop{dx}\\mathop{dy} = \\frac{1}{5} \\mathop{du}\\mathop{dv} $$\n",
    "\n",
    "### Therefore, the new integrand is\n",
    "## $$ \\iint_{R} \\sqrt{3x-2y} \\mathop{dx}\\mathop{dy}  \\quad \\text{becomes} \\quad \\iint_{R'} \\sqrt{u} \\frac{1}{5} \\mathop{du}\\mathop{dv} $$\n",
    "\n",
    "### This process worked well because it was straightforward to express $\\sqrt{3x - 2y}$ in the new variables $u$ and $v$. Also, notice that we used the reciprocal of the Jacobian determinant when replacing $\\mathop{dx}\\mathop{dy}$ by $\\mathop{du}\\mathop{dv}$.\n",
    "\n",
    "### The region $R'$ is the region that $u$ and $v$ run through as $x$ and $y$ run through $R$. Since we are just focusing on the integrand, we will ignore the region for now.\n",
    "\n",
    "### Example expressing $x$ and $y$ in terms of $u$ and $v$\n",
    "### **Example 7.2**\n",
    "### Find the new integrand in\n",
    "## $$ I_1 = \\iint_{R} x(x^2-y)^{\\frac{1}{3}} \\mathop{dx}\\mathop{dy} $$\n",
    "\n",
    "### using the change of variables\n",
    "## $$ \\begin{array} {rcl} x & = & u^3 \\\\ y & = & u^6-v^3 \\end{array}  $$\n",
    "\n",
    "### (We are ignoring the region $R$ for now).\n",
    "\n",
    "### **Solution**:\n",
    "### To find the new integrand, we first substitute the values of $x$ and $y$:\n",
    "## $$ \\begin{array} {rcl} \\displaystyle x(x^2-y)^{\\frac{1}{3}} & = & \\displaystyle \\underbrace{u^3}_{x} ((\\underbrace{u^3}_{x})^2) - (\\underbrace{u^6-v^3}_{y})^{\\frac{1}{3}} \\\\ \\, & = & \\displaystyle u^3 (v^3)^{\\frac{1}{3}} \\\\ \\, & = & \\displaystyle u^3 v \\end{array} $$\n",
    "\n",
    "### Since we have $x=\\cdots$ and $y=\\cdots$, we are able to compute $x_u, x_v$ and $y_u, y_v$. This gives us the Jacobian determinant $\\displaystyle \\frac{\\partial(x,y)}{\\partial(u,v)}$.\n",
    "## $$ \\begin{array} {rcl} \\displaystyle \\frac{\\partial(x,y)}{\\partial(u,v)} & = & \\displaystyle \\det \\begin{pmatrix} x_u & x_v \\\\ y_u & y_v \\end{pmatrix} \\\\ \\, & = & \\displaystyle \\det \\begin{pmatrix} 3u^2 & 0 \\\\ 6u^5 & -3v^2 \\end{pmatrix} \\\\ \\, & = & -9 u^2 v^2 \\end{array} $$\n",
    "\n",
    "### This means that\n",
    "## $$ \\begin{array} {rcl} \\mathop{dx}\\mathop{dy} & = & \\displaystyle \\left| \\frac{\\partial(x,y)}{\\partial(u,v)} \\right| \\mathop{du}\\mathop{dv} \\\\ \\, & = & \\displaystyle |-9u^2 v^2| \\mathop{du}\\mathop{dv} \\\\ \\, & = & \\displaystyle 9u^2 v^2 \\mathop{du}\\mathop{dv}  \\end{array} $$\n",
    "\n",
    "### Therefore, the new integral is\n",
    "## $$ \\iint_{R} x(x^2-y)^{\\frac{1}{3}} \\mathop{dx}\\mathop{dy} \\quad \\text{becomes} \\quad \\iint_{R'} (u^3 v) 9 u^2 v^2 \\mathop{du}\\mathop{dv} = \\iint_{R'} 9u^5 v^3 \\mathop{du}\\mathop{dv} $$\n",
    "\n",
    "### This integrand $9 u^5 v^3$ does look easier to deal with than the original one $x(x^2-y)^{\\frac{1}{3}}$.\n",
    "\n",
    "### ***About the region***: \n",
    "### Although we are ignoring the regions for now, it is still true that the region $R'$ is the region that $u$ and $v$ run through as $x$ and $y$ run through $R$."
   ]
  },
  {
   "cell_type": "markdown",
   "id": "941a6c23-3c41-401d-a735-922b431d124c",
   "metadata": {},
   "source": [
    "## Nonlinear example\n",
    "\n",
    "### Next we will do a full example of a nonlinear change of variables.\n",
    "\n",
    "### In this case, the original integral is not too hard to do directly, but carrying out the change of variables is good practice.\n",
    "\n",
    "### ***Example 10.1***\n",
    "\n",
    "### Compute\n",
    "## $$ \\int_0^1 \\int_0^1 x^2 y \\mathop{dx}\\mathop{dy} $$\n",
    "\n",
    "### using the change of variables\n",
    "## $$ \\begin{array} {rcl} u & = x \\\\ v & = & xy \\end{array} $$\n",
    "\n",
    "### There are three separate parts to this computation:\n",
    "1. ### Replace $\\mathop{dx}\\mathop{dy} $ using the Jacobian.\n",
    "2. ### Find the new integrand by rewriting $x^2 y$ in terms of $u$ and $v$.\n",
    "3. ### Figure out the appropriate $u,v$-endpoints for the region $R$.\n",
    "\n",
    "### We will demonstrate two ways of doing the third step.\n",
    "\n",
    "### 1. **Replacing** $\\mathop{dx}\\mathop{dy}$:\n",
    "### We can compute $\\displaystyle \\left| \\frac{\\partial(u,v)}{\\partial(x,y)} \\right| $\n",
    "## $$ \\left| \\frac{\\partial(u,v)}{\\partial(x,y)} \\right| = \\det \\begin{pmatrix} 1 & 0 \\\\ y & x \\end{pmatrix} = x $$\n",
    "\n",
    "### Therefore, $\\mathop{du}\\mathop{dv} = |x| \\mathop{dx}\\mathop{dy} $. Since over our region of integration $x\\geq 0$, we can say\n",
    "## $$ \\mathop{du}\\mathop{dv} = x \\mathop{dx}\\mathop{dy} $$\n",
    "\n",
    "### or, equivalently,\n",
    "## $$ \\mathop{dx}\\mathop{dy} = \\frac{1}{x} \\mathop{du}\\mathop{dv} $$\n",
    "\n",
    "### 2. **New integrand**\n",
    "### First we replace $\\mathop{dx}\\mathop{dy}$:\n",
    "## $$ \\begin{array} {rcl} x^2 y \\mathop{dx}\\mathop{dy} & = & \\displaystyle x^2 y \\frac{1}{x} \\mathop{du}\\mathop{dv} \\\\ \\, & = & xy \\mathop{du}\\mathop{dv} \\end{array} $$\n",
    "\n",
    "### Looking at our change of variables, we can recognize the expression $xy$ as simply $v$. Thus:\n",
    "## $$ x^2 y \\mathop{dx}\\mathop{dy} \\quad \\text{becomes} \\quad v \\mathop{du}\\mathop{dv} $$\n",
    "\n",
    "### We still need to work out the region $R'$, but so far we have:\n",
    "## $$ \\int_0^1 \\int_0^1 x^2 y \\mathop{dx}\\mathop{dy} \\quad \\text{becomes} \\quad \\iint_{R'} v \\mathop{du}\\mathop{dv} $$\n",
    "\n",
    "### 3. **New endpoints**\n",
    "### The original integral is $\\displaystyle \\int_{x=0}^1 \\int_{y=0}^1 \\cdots $. Therefore, the original region is the unit square. We now need to answer the question: “what values do $u$ and $v$ run through as $x$ and $y$ run through the unit square?\"\n",
    "\n",
    "### The integral can be set up either in the order $\\mathop{du}\\mathop{dv} $ or $\\mathop{dv}\\mathop{du}$. We will choose to set it up in the order $\\mathop{du}\\mathop{dv}$.\n",
    "\n",
    "### Therefore, we need to find the values:\n",
    "## $$ v_{\\min}, v_{\\max} $$\n",
    "\n",
    "### and\n",
    "## $$ u_{\\min}(v), u_{\\max}(v) $$"
   ]
  },
  {
   "cell_type": "markdown",
   "id": "e1d85e5a-7e4e-4c72-85c1-5cff02661bfc",
   "metadata": {},
   "source": [
    "### **Approach 1: Analyzing The Unit Square**\n",
    "### Our first approach is similar to the method we used when changing regions of integration to polar coordinates. We will consider the shapes made when $v=\\text{constant}$, and analyze the first and last values of $u$ for which those shapes meet the unit square.\n",
    "\n",
    "### We will start with $u_{\\min}(v)$ and $u_{\\max}(v)$, that is, given a value of $v$, what interval does $u$ run through when $x$ and $y$ are in the unit square?\n",
    "\n",
    "### “Given a value of $v$\" means that $x$ and $y$ are constrained by $xy=v$ where $v$ is a constant. The shape $xy = \\text{constant}$ is a hyperbola (these are the level curves of the function $f(x, y) = xy$).\n",
    "![img](img/img-3-02.png)\n",
    "\n",
    "### Since $u=x$, our question becomes: what is the interval of $x$-values such that $(x,y)$ is in the unit square and $xy=v$?\n",
    "\n",
    "### The smallest such $x$-value will be the value of $x$ when the hyperbola $xy=v$ intersects the top edge of the unit square, which is described by $y=1$. When $y=1$, the hyperbola equation becomes $x=v$:\n",
    "## $$ \\text{When}\\quad y = 1, \\quad x \\underbrace{y}_{=1} = v\\quad \\text{means} \\quad x=v $$\n",
    "\n",
    "### Since $u=x$, we obtain\n",
    "## $$ u_{\\min}(v) = v $$\n",
    "\n",
    "### The largest $x$-value will be $1$, since each hyperbola will intersect the right edge of the unit square, whose $x$-coordinate is $1$.\n",
    "![img](img/img-3-03.png)\n",
    "\n",
    "### We have shown:\n",
    "## $$ \\begin{array} {rcl} u_{\\min}(v) & = & v \\\\ u_{\\max}(v) & = & 1 \\end{array} $$\n",
    "\n",
    "### Next we need to find $v_{\\min}$ and $v_{\\max}$, that is, find the minimum and maximum values of $v$ for which $(x, y)$ is in the unit square.\n",
    "\n",
    "### Since $v=xy$, we must find the minimum and maximum values of $xy$ across all values of $(x,y)$ in the unit square. Since the unit square includes the origin, the smallest value that $xy$ can take is $0$. In fact $xy=0$ describes the $x$ and $y$ axes. The largest value  can take is $1$, since the top right corner of the unit square is on the hyperbola $xy=1$. We have shown:\n",
    "## $$ \\begin{array} {rcl} v_{\\min} & = & 0 \\\\ v_{\\max} & = & 1 \\end{array} $$\n",
    "\n",
    "### In conclusion, we have:\n",
    "## $$ \\iint_{R'} v \\mathop{du}\\mathop{dv} = \\int_{v=0}^1 \\int_{u=v}^1 v \\mathop{du}\\mathop{dv} $$\n",
    "\n",
    "### This completes our change of variables."
   ]
  },
  {
   "cell_type": "markdown",
   "id": "4995b765-d12d-4cdd-8c6d-2011f32cf15a",
   "metadata": {},
   "source": [
    "### **Approach 2: Draw a picture in $uv$-coordinates**\n",
    "### Another way of finding the $uv$-endpoints is to try to draw the new region $R'$ that $u$ and  $v$run through as $x$ and $y$ run through the unit square.\n",
    "\n",
    "### Let us consider the values that $u$ and $v$ take along the edges of the unit square. When $x=1$, we have $u=1$ (since $u=x$). Thus, the new region $R'$ includes an edge where $u=1$. Next, it was shown above that when $y=1$ we have $u=v$. So the region $R'$ includes an edge where $u=v$.\n",
    "\n",
    "### Next, when $x=0$, we have both $u=0$ and $v=0$. This means that the left edge of the unit square becomes the origin in the $uv$-plane. Finally, when $y=0$, we have $v=0$, and so the region $R'$ includes an edge where $v=0$.\n",
    "\n",
    "### Sketching each of these edges, we see that the region $R'$ that $u$ and $v$ run through is the triangle with vertices $(0, 0), (1,0),(1,1)$ in $uv$-coordinates.\n",
    "![img](img/img-3-04.png)\n",
    "\n",
    "### Now that we can visualize the region in the $uv$-plane, it is easier to find the endpoints. By slicing the region horizontally, we find, again:\n",
    "## $$ \\begin{array} {rcl} v_{\\min} & = & 0 \\\\ v_{\\max} & = & 1 \\end{array} $$\n",
    "\n",
    "### and\n",
    "## $$ \\begin{array} {rcl} u_{\\min}(v) & = & v \\\\ u_{\\max}(v) & = & 1 \\end{array} $$"
   ]
  },
  {
   "cell_type": "markdown",
   "id": "48d847f2-3f25-4218-9b6c-dcec1fcb506b",
   "metadata": {},
   "source": [
    "### You can use the mathlet below to visualize the nonlinear change of coordinates\n",
    "## $$ \\begin{array} {rcl} u & = & x \\\\ v & = & ux \\end{array} $$\n",
    "\n",
    "### As you zoom in, observe what happens to an area element $\\Delta A$. The grid lines approach parallel lines, and the area element approaches a linear change of coordinates whose area element is a parallelogram."
   ]
  },
  {
   "cell_type": "code",
   "execution_count": 4,
   "id": "3797327e-c78a-4800-ab59-e1601ca5214c",
   "metadata": {
    "jupyter": {
     "source_hidden": true
    },
    "tags": []
   },
   "outputs": [
    {
     "data": {
      "text/html": [
       "<iframe width=\"900\" height=\"750\" src=\"https://mitx-1802-next.netlify.app/mathlets/change-coordinates-grid\" frameborder=\"0\" allow=\"accelerometer; autoplay; clipboard-write; encrypted-media; gyroscope; picture-in-picture\" allowfullscreen></iframe>\n"
      ],
      "text/plain": [
       "<IPython.core.display.HTML object>"
      ]
     },
     "metadata": {},
     "output_type": "display_data"
    }
   ],
   "source": [
    "%%html\n",
    "<iframe width=\"900\" height=\"750\" src=\"https://mitx-1802-next.netlify.app/mathlets/change-coordinates-grid\" frameborder=\"0\" allow=\"accelerometer; autoplay; clipboard-write; encrypted-media; gyroscope; picture-in-picture\" allowfullscreen></iframe>"
   ]
  },
  {
   "cell_type": "markdown",
   "id": "41609ec4-f98a-467c-b3b4-e885745a1960",
   "metadata": {},
   "source": [
    "## Summary\n",
    "\n",
    "### **Big Picture**\n",
    "### Just like with polar coordinates, it is possible to change the variables of integration to any coordinate system, provided that the area scaling factor is included in the transformed integrand.\n",
    "\n",
    "### The technique is known as “change of variables\" and can be used to replace some difficult integrals with simpler ones.\n",
    "\n",
    "### We also learned about the area scaling factor, given by the absolute value of Jacobian determinant $\\left| \\frac{\\partial(u,v)}{\\partial(x,y)} \\right|$.\n",
    "\n",
    "### **Mechanics**\n",
    "### There are four steps when doing a change of variables $x,y \\to u,v$:\n",
    "1. ### Decide on a change of variables, which can be expressed as $u=\\cdots$ and $v=\\cdots$, or as $x=\\cdots$ and $y=\\cdots$.\n",
    "2. ### Find the replacement for $\\mathop{dx}\\mathop{dy}$ by computing the Jacobian determinant $\\frac{\\partial(u,v)}{\\partial(x,y)}$, or its reciprocal.\n",
    "3. ### Rewrite the new integrand in terms of the new variables.\n",
    "4. ### Compute the new endpoints by analyzing the region of integration in terms of the new variables.\n",
    "\n",
    "### **Ask Yourself**\n",
    "\n",
    "### **When would you use change of variables?**\n",
    "### Change of variables is a technique of integration, so it can be used to simplify difficult integrals. We might use a change of variables because it simplifies the region of integration, or simplifies the integrand, or both. Usually we aim to make some kind of simplification in the integral, so if we see $\\sqrt{3x-2y}$ we would probably choose $u=3x-2y$.\n",
    "\n",
    "### **Are we free to choose any formula we want for a change of variables?**\n",
    "### Not completely, no. Generally we would like to choose formulas so that the change of variables will simplify the integrand or the region of integration. But we are constrained in that the change of variables transformation must be differentiable and one-to-one.\n",
    "\n",
    "### For example, if we see an expression like $\\displaystyle \\frac{\\sqrt{1+xy}}{1-xy}$ in the integrand, we might try to choose $u=1+xy$ and $v=1-xy$ to simplify that. But in fact this will lead to a Jacobian that equals $0$ everywhere, indicating something has gone wrong. The issue is that the transformation is not one-to-one. For instance, the point $(u,v) = (1,1)$ corresponds to the family of points $(x,y)=(t,0)$ for any value of $t$.\n",
    "\n",
    "### Instead, we would need to choose something else for $\\displaystyle \\frac{\\sqrt{1+xy}}{1-xy}$ that gives us a non-zero Jacobian. It is often difficult to choose the “right\" change of variables, so we might need to look for insight from the geometry of the problem, or from other problems that are similar."
   ]
  },
  {
   "cell_type": "markdown",
   "id": "ac2d9f7c-9cda-48e6-84d2-519375750fdd",
   "metadata": {},
   "source": [
    "### **Addendum**\n",
    "### For those who might be wondering if change of variables is really useful, we offer the following reference. In a 1993 paper, authors Beukers, Kolk, and Calabi used a clever change of variables to give a short proof of the famous equality\n",
    "## $$ \\sum_{n=1}^\\infty \\frac{1}{n^2} = \\frac{\\pi^6}{6} $$\n",
    "\n",
    "### The original paper by Beukers, Kolk, and Calabi is titled *Sums of generalized harmonic series and volumes*. The paper proceeds by first finding a connection from the infinite sum to the integral:\n",
    "## $$ \\iint_{S} \\frac{1}{1-x^2 y^2} \\mathop{dx}\\mathop{dy}  $$\n",
    "\n",
    "### The authors then apply the clever change of variables:\n",
    "## $$ \\begin{array} {rcl} u & = & \\displaystyle \\frac{\\sin(x)}{\\cos(y)} \\\\ v & = & \\displaystyle \\frac{\\sin(y)}{\\cos(x)} \\end{array} $$\n",
    "\n",
    "### This was chosen because the Jacobian equals $1-x^2 y^2$. Thus the integral becomes:\n",
    "## $$ \\iint_{S'} 1 \\mathop{du}\\mathop{dv} $$\n",
    "\n",
    "### reducing the computation to finding the area of $S'$.\n",
    "\n",
    "### For anyone interested in locating the original paper (perhaps online), here is the full reference:\n",
    "- #### F. Beukers, J.A.C. Kolk and E. Calabi, Sums of generalized harmonic series and volumes, Nieuw Archief voor Wiskunde, fourth series, 11, 217-223 (1993)."
   ]
  },
  {
   "cell_type": "markdown",
   "id": "19dd0938-302f-4c40-aae9-e5fa4572a56c",
   "metadata": {},
   "source": []
  }
 ],
 "metadata": {
  "kernelspec": {
   "display_name": "Python 3",
   "language": "python",
   "name": "python3"
  },
  "language_info": {
   "codemirror_mode": {
    "name": "ipython",
    "version": 3
   },
   "file_extension": ".py",
   "mimetype": "text/x-python",
   "name": "python",
   "nbconvert_exporter": "python",
   "pygments_lexer": "ipython3",
   "version": "3.8.8"
  }
 },
 "nbformat": 4,
 "nbformat_minor": 5
}
