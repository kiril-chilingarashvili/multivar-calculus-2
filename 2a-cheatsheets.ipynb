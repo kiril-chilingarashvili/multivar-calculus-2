{
 "cells": [
  {
   "cell_type": "markdown",
   "id": "f8cb684d-3326-4e3f-8dd4-8d7a53a61706",
   "metadata": {},
   "source": [
    "# Unit 2: Introduction to Line Integrals - Part a - Review Parametric Curves and Arc Length"
   ]
  },
  {
   "cell_type": "markdown",
   "id": "da9deb7c-1605-4b52-ab20-d7f1c7728b5d",
   "metadata": {},
   "source": [
    "## Introduction\n",
    "\n",
    "## In the previous unit we explored volumes and other integrals over 2-dimensional regions. In this unit we will change gears and look at integrals that add quantities along a curve. The interpretation of these integrals will change depending on the type of function being integrated along the curve:\n",
    "- ### Scalar functions integrated along a curve are used to compute center of mass of a thin wire (and other accumulated quantities along a curve).\n",
    "- ### Vector-valued functions integrated in the tangent direction along a curve are used to compute work done by a force field.\n",
    "- ### Vector-valued functions integrated in the normal direction along a curve are used to compute flux across the curve due to a velocity field.\n",
    "\n",
    "### This first lecture reviews how we use integrals to compute the arc length of parametric curves from single variable calculus, which is the essential tool used throughout the unit."
   ]
  },
  {
   "cell_type": "markdown",
   "id": "33a50b1a-2741-4308-b681-89c759087a82",
   "metadata": {},
   "source": [
    "## Parametrized curve\n",
    "\n",
    "### **Definition 2.1**\n",
    "### A **parametrized curve** is a pair of functions $(x(t), y(t))$ defined for times $a\\leq t \\leq b$ that trace out a curve in the plane.\n",
    "- ### The **velocity vector** of a parametric curve at time $t$ is the vector $\\langle x'(t), y'(t) \\rangle$, which is tangent to the curve.\n",
    "- ### The **speed** of a parametric curve at a time $t$ is the magnitude of the velocity vector, which is $\\sqrt{x'(t)^2 + y'(t)^2}$.\n",
    "\n",
    "### It is common to think of the pair of functions $(x(t), y(t))$ that defined the parametric equation as a two-dimensional vector that varies with the parameter $t$. It is standard to use the letter $\\vec{r}$ to represent this vector.\n",
    "## $$ \\vec{r}(t) = \\begin{pmatrix} x(t) \\\\ y(t) \\end{pmatrix} $$\n",
    "\n",
    "### or sometimes just $\\vec{r}$, if the parameter $t$ is clear from context. Technically, $\\vec{r}$ is known as a **vector-valued function**, which means it is a function whose output is a vector. The input to the vector-valued function $\\vec{r}$ is the parameter $t$.\n",
    "\n",
    "### **Example 2.2**\n",
    "### In the spaceship example, the parametric curve $(2t-1,t)$ traces out a line of slope $\\displaystyle \\frac{1}{2}$.\n",
    "### **Remark 2.3** Generally speaking, a parametric curve of the form $(at+b, ct+d)$ for constants $a,b,c$ and $d$ (with $a$ or $c$ nonzero) is a straight line with constant velocity. You can see this by writing\n",
    "## $$ \\vec{r}(t) = \\begin{pmatrix} a \\\\ c \\end{pmatrix} t + \\begin{pmatrix} b \\\\ d \\end{pmatrix} $$"
   ]
  },
  {
   "cell_type": "markdown",
   "id": "43989169-f610-41b8-88fd-3d80d0bd9e86",
   "metadata": {},
   "source": [
    "## Linear approximation\n",
    "\n",
    "### As with all calculus concepts, we will start by understanding linear parametric curves, that is lines. Then we will use linear approximation to reduce our understanding of more complicated, \"curvy\", parametric curves to our understanding of linear parametric curves.\n",
    "\n",
    "### **Example 3.1**\n",
    "### Let's consider the parametrized curve $(x(t), y(t)) = (t^3, t^2)$. When $t=1$, the parametric curve is defined at the point $(x(1), y(1)) = (1,1)$.\n",
    "\n",
    "### Approximate $(x(1.1), y(1.1))$.\n",
    "\n",
    "### **Solution**\n",
    "### We approximate each coordinate independently.\n",
    "## $$ \\begin{array} {rcl} x(1+\\Delta t) & \\approx & x(1) + x'(1) \\Delta t \\\\ \\, & = & 1 + 3 \\Delta t \\\\ x(1.1) & \\approx & 1.3 \\end{array} $$\n",
    "\n",
    "### Similarly, we find\n",
    "## $$ \\begin{array} {rcl} y(1+\\Delta t) & \\approx & y(1) + y'(t) \\Delta t \\\\ \\, & = & 1 + 2 \\Delta t \\\\ y(1.1) & = & 1.2 \\end{array} $$"
   ]
  },
  {
   "cell_type": "markdown",
   "id": "46d2c821-175c-4cef-9b09-18746b26a0d2",
   "metadata": {},
   "source": [
    "### **Summary**\n",
    "- ### The vector $\\langle x'(t), y'(t) \\rangle$ is the **velocity vector** of the spaceship. This means that\n",
    "## $$ \\langle \\Delta x, \\Delta y \\rangle = \\underbrace{\\langle x'(t), y'(t) \\rangle}_{\\text{velocity}} \\Delta t $$\n",
    "###   This is equivalent to what the linear approximation tells us, which is the following point.\n",
    "- ### The linear approximation says\n",
    "## $$ \\begin{array} {rcl} \\Delta x & \\approx & x'(t) \\Delta t \\\\ \\Delta y & \\approx & y'(t) \\Delta t \\end{array} $$\n",
    "- ### The vector $\\langle x'(t), y'(t) \\rangle$ is tangent to the curve at the point $(x(t), y(t))$.\n",
    "\n",
    "### **Definition 3.2**\n",
    "### Given a parametric curve $C$ defined by $\\vec{r}(t)$, the **velocity vector** $\\vec{r}'(t)$ is everywhere tangent to $C$. And the change in position along the curve is given by\n",
    "## $$ \\Delta \\vec{r} \\approx \\vec{r}'(t) \\Delta t $$"
   ]
  },
  {
   "cell_type": "markdown",
   "id": "0140c98e-f3ed-4f1a-b9c4-ed8390350a36",
   "metadata": {},
   "source": [
    "## Finding the length of a parametrized curve\n",
    "\n",
    "### Suppose $C$ is a curve parametrized by $(x(t), y(t))$ for $t$ between $a$ and $b$.\n",
    "![img](img/img-4-01.png)\n",
    "\n",
    "### Determine the length of $C$.\n",
    "\n",
    "### ***Strategy***: Cut $C$ into small pieces. Then\n",
    "### 1. Approximate the length of each piece.\n",
    "### 2. Add them up (with an integral).\n",
    "![img](img/img-4-02.png)\n",
    "\n",
    "### **Step 1**\n",
    "### Approximate the length of a small arc of the curve $C$ from $(x(t_0), y(t_0))$ to $(x(t_0+\\Delta t), y(t_0+\\Delta t))$\n",
    "![img](img/img-4-03.png)\n",
    "\n",
    "### **Solution**\n",
    "### The best approximation is\n",
    "## $$ \\sqrt{(x'(t_0))^2+(y'(t_0))^2} \\Delta t $$"
   ]
  },
  {
   "cell_type": "markdown",
   "id": "6043940f-234b-491e-a384-2b486cb43c58",
   "metadata": {},
   "source": [
    "### The key here is to think of the piece of the arc in orange as begin well approximated by the vector\n",
    "## $$ \\langle \\Delta x, \\Delta y \\rangle \\approx \\langle x'(t), y'(t) \\rangle \\Delta t $$\n",
    "\n",
    "### Therefore the arc length is well approximated by the length of this vector, which is\n",
    "## $$ \\begin{array} {rcl} \\displaystyle \\left| \\langle \\Delta x, \\Delta y \\rangle \\right| & \\approx & \\displaystyle \\left| \\langle x'(t_0), y'(t_0) \\rangle \\right| \\Delta t \\\\ \\, & = & \\sqrt{x'(t_0)^2 + y'(t_0)^2} \\Delta t \\end{array} $$\n",
    "\n",
    "### **Step 2**: Add up the arcs\n",
    "\n",
    "### The length of the parametric curve is given by adding up the small arcs, which gives us the integral\n",
    "## $$ \\int_a^b \\sqrt{x'(t)^2 + y'(t)^2} dt $$"
   ]
  },
  {
   "cell_type": "code",
   "execution_count": 3,
   "id": "363d01ec-6dc7-459a-9566-39adf000700c",
   "metadata": {
    "tags": []
   },
   "outputs": [
    {
     "data": {
      "text/html": [
       "<iframe width=\"900\" height=\"850\" src=\"https://mitx-1802-next.netlify.app/mathlets/arc-length-2d/\" frameborder=\"0\" allow=\"accelerometer; autoplay; clipboard-write; encrypted-media; gyroscope; picture-in-picture\" allowfullscreen></iframe>\n"
      ],
      "text/plain": [
       "<IPython.core.display.HTML object>"
      ]
     },
     "metadata": {},
     "output_type": "display_data"
    }
   ],
   "source": [
    "%%html\n",
    "<iframe width=\"900\" height=\"850\" src=\"https://mitx-1802-next.netlify.app/mathlets/arc-length-2d/\" frameborder=\"0\" allow=\"accelerometer; autoplay; clipboard-write; encrypted-media; gyroscope; picture-in-picture\" allowfullscreen></iframe>"
   ]
  },
  {
   "cell_type": "markdown",
   "id": "c0f8b72e-f122-4287-b4a6-c47c7b9178c9",
   "metadata": {},
   "source": [
    "### **Spoiler: arc length in 3D**\n",
    "\n",
    "### In the previous course, we saw that we could parameterize curves in 2 and 3 dimensions! Given a 3D parametric curve of the form\n",
    "## $$ \\vec{r}(t) = \\langle x(t), y(t), z(t) \\rangle, \\quad a\\leq t \\leq b $$\n",
    " \n",
    "### the arc length of $\\vec{r}(t)$ is given by the integral\n",
    "## $$ \\int_a^b \\sqrt{x'(t)^2 + y'(t)^2+z'(t)^2} dt $$"
   ]
  },
  {
   "cell_type": "markdown",
   "id": "734a5681-6101-4614-8cc9-d0e4c6b4c363",
   "metadata": {},
   "source": [
    "## Arc length, integrals, and dimension\n",
    "\n",
    "### There is a large conceptual leap here, taking us from finding the length of a small (straight) segment, to finding the length of the whole (non-straight) curve. We are claiming that, since a small segment of the curve has length\n",
    "## $$ \\sqrt{x'(t_0)^2+y'(t_0)^2} \\Delta t $$\n",
    " \n",
    "### the whole curve has length given by the corresponding integral\n",
    "## $$ \\int_a^b \\sqrt{x'(t)^2+y'(t)^2} \\mathop{dt} $$\n",
    " \n",
    "### Why is that?\n",
    "\n",
    "### One approach to understanding this is to interpret the integral as the area under a curve. The graph below shows $t$ along the horizontal axis, and shows the function $\\displaystyle \\sqrt{x'(t)^2+y'(t)^2}$.\n",
    "![img](img/img-4-04.png)\n",
    " \n",
    "### The area under this curve from $t=a$ to $t=b$ represents the integral\n",
    "## $$ \\int_a^b \\sqrt{x'(t)^2+y'(t)^2} \\mathop{dt} $$\n",
    " \n",
    "### Our goal is to try to see how this is the same as the arc length of the parametric curve from $(x(a), y(a))$ to $(x(b), y(b))$.\n",
    "![img](img/img-4-05.png)\n",
    "\n",
    "### To understand this area picture, we use a similar approach and break the picture up into small pieces and look at a small piece of area between $t_0$ and $t_0+\\Delta t$, shaded orange in the picture below.\n",
    "![img](img/img-4-06.png)\n",
    "\n",
    "### This area is approximately the area of a rectangle whose width is $\\Delta t$ and whose height is the value of the function at $t_0$, which is $\\displaystyle \\sqrt{x'(t_0)^2+y'(t_0)^2}$. Therefore this area in orange is approximately\n",
    "## $$ \\approx \\sqrt{x'(t_0)^2 + y'(t_0)^2} \\Delta t $$\n",
    " \n",
    "### which is exactly the arc length of the parametric curve $(x(t), y(t))$ from $(x(t_0), y(t_0))$ to $(x(t_0+\\Delta t), y(t_0+\\Delta t))$.\n",
    "![img](img/img-4-07.png)\n",
    "\n",
    "### To help see how the \"area under a curve\" interpretation connects to the arc length interpretation, we think about an integral as measuring the accumulation of a function and explore the units directly in the problems below."
   ]
  },
  {
   "cell_type": "markdown",
   "id": "11db7858-364f-47d3-8220-a8034f77e09f",
   "metadata": {},
   "source": [
    "## Parametrizing curves\n",
    "\n",
    "### We have found how to find the arc length of a curve that is defined parametrically. What if the curve you are given is defined geometrically or in terms of some other implicit or explicit function? How can we find a parametrization? The following three examples are a good place to start! Using these ideas you will be able to find a parametrization of almost any curve!\n",
    "\n",
    "### **Example 6.1**\n",
    "\n",
    "### Find a parametrization of the circle of radius 2 about the origin.\n",
    "![img](img/img-4-08.png)\n",
    " \n",
    "### **Solution**:\n",
    "### $C$ is parametrized by $(2\\cos(\\theta), 2\\sin(\\theta))$ for $0 \\leq \\theta \\leq 2\\pi$.\n",
    "\n",
    "### **Example 6.2**\n",
    "\n",
    "### Let $C$ be the arc of the parabola $y=x^2$ that starts at the point $(0,0)$ and ends at the point $(2,4)$.\n",
    "![img](img/img-4-09.png)\n",
    "\n",
    "### **Solution**:\n",
    "### One common strategy to parametrize $C$ is to let $x(t)=t$. Then $y=x(t)^2 = t^2$. Thus $C$ can be parametrized by $(t, t^2)$ for the range $0 \\leq t \\leq 2$.\n",
    "\n",
    "### **Question**\n",
    "### Let $C$ be the curve $x=y^2$ for $-1 \\leq y \\leq 1$.\n",
    "![img](img/img-4-10.png)\n",
    " \n",
    "### Can this curve be parametrized as $(t, y(t))$?"
   ]
  },
  {
   "cell_type": "markdown",
   "id": "ebc6e733-3534-429f-b627-e792824e158e",
   "metadata": {},
   "source": [
    "### **Solution**\n",
    "### The curve $x=y^2$ for $-1\\leq t \\leq 1$ cannot be defined by setting $x=t$ because it is not a function. (For example, it doesn't pass the vertical line test, or in other words, there are two $y$ values for most $x$ values.)\n",
    "\n",
    "### Instead, we let $y(t) = t$, and $x=y(t)^2 = t^2$. Thus $C$ is parametrized by $(t^2, t)$ for $-1\\leq t \\leq 1$."
   ]
  },
  {
   "cell_type": "markdown",
   "id": "c9503592-55b7-4fec-87de-a9dbd1488a40",
   "metadata": {},
   "source": [
    "## Summary\n",
    "\n",
    "### **Big Picture**\n",
    "### To find the arc length of a curve, we use the strategy of cutting it up into pieces, approximating the length of each piece, and summing them up with an integral. This same procedure will be generalized and expanded upon throughout this entire section as we compute different types of line integrals.\n",
    "\n",
    "### **Mechanics**\n",
    "### Motion in the plane along a curve given by functions $x(t), y(t)$ can be packaged into a vector:\n",
    "## $$ \\vec{r} = \\begin{pmatrix} x(t) \\\\ y(t) \\end{pmatrix} $$\n",
    "\n",
    "- ### The **velocity vector** at a given time $t$ is given by:\n",
    "## $$ \\vec{v} = \\frac{d\\vec{r}}{dt} = \\begin{pmatrix} x'(t) \\\\ y'(t) \\end{pmatrix} $$\n",
    "\n",
    "- ### The **speed** at a given time $t$ is the magnitude of the velocity vector:\n",
    "## $$ |\\vec{v}| = \\sqrt{x'(t)^2 + y'(t)^2} $$\n",
    "\n",
    "- ### The **arc length** of a curve $C$ defined by $(x(t), y(t))$ for $a \\leq t \\leq b$ is computed by the integral\n",
    "## $$ \\int_a^b \\sqrt{x'(t)^2 + y'(t)^2} \\mathop{dt} $$\n",
    " \n",
    "### Parametrizing curves can often use one of the three canonical examples as a starting point:\n",
    "- ### The circle parametrized by $(\\cos(t), \\sin(t))$.\n",
    "- ### The curve $y=f(x)$ parametrized by $(t, f(t))$.\n",
    "- ### The curve $x=g(y)$ parametrized by $(g(t), t)$.\n",
    "\n",
    "### **Ask Yourself**\n",
    "### **What's the difference between the area under a curve and the arc length of a curve?**\n",
    "### Note that while we can always think about the single variable integral of a function $y=f(x)$ as an area under the curve defined by the function being integrated, it is important to realize that the dimensions of the quantities involved matter. And $\\displaystyle \\int_{x_1}^{x_2} f(x) \\mathop{dx}$ has dimension that is the product of the dimension of $y$ times the dimension of $x$.\n",
    "\n",
    "### The arc length of the same curve $y=f(x)$ is an integral quantity whose dimension is length of a curve. If we parametrize our curve as $(t, f(t))$ for $a\\leq t \\leq b$, then this integral takes the form\n",
    "## $$ \\int_a^b \\sqrt{1+f'(t)^2}\\mathop{dt} $$\n",
    " \n",
    "### That is, the arc length is computed as the area under a different function: the function $\\displaystyle \\sqrt{1+f'(t)^2}$, which is the speed of a parametrization of the curve. The speed has dimension of L/T. When you integrate with respect to time, the resulting integral will have a dimension of length L. Thus the area under a speed curve gives a quantity whose dimension is length.\n",
    "\n",
    "### **Can you always parametrize a curve by setting x=t?**\n",
    "### No! The unit circle parametrized by $(\\cos(t), \\sin(t))$ and the function $x=y^2$ for $-1\\leq x\\leq 1$ are two examples of curves that cannot be parametrized by setting $x=t$ effectively."
   ]
  },
  {
   "cell_type": "markdown",
   "id": "813ba8c0-72af-4a38-bf4b-c218fee2da51",
   "metadata": {},
   "source": []
  }
 ],
 "metadata": {
  "kernelspec": {
   "display_name": "Python 3 (ipykernel)",
   "language": "python",
   "name": "python3"
  },
  "language_info": {
   "codemirror_mode": {
    "name": "ipython",
    "version": 3
   },
   "file_extension": ".py",
   "mimetype": "text/x-python",
   "name": "python",
   "nbconvert_exporter": "python",
   "pygments_lexer": "ipython3",
   "version": "3.10.6"
  }
 },
 "nbformat": 4,
 "nbformat_minor": 5
}
