{
 "cells": [
  {
   "cell_type": "markdown",
   "id": "b8a1077d-9d69-43e9-8cc7-c156dc7f0a8d",
   "metadata": {},
   "source": [
    "# Unit 2: Introduction to Line Integrals - Part b - Line Integrals"
   ]
  },
  {
   "cell_type": "markdown",
   "id": "1a7b22dd-391b-4e72-9ad7-17008fa5f99f",
   "metadata": {},
   "source": []
  }
 ],
 "metadata": {
  "kernelspec": {
   "display_name": "Python 3",
   "language": "python",
   "name": "python3"
  },
  "language_info": {
   "codemirror_mode": {
    "name": "ipython",
    "version": 3
   },
   "file_extension": ".py",
   "mimetype": "text/x-python",
   "name": "python",
   "nbconvert_exporter": "python",
   "pygments_lexer": "ipython3",
   "version": "3.8.8"
  }
 },
 "nbformat": 4,
 "nbformat_minor": 5
}
