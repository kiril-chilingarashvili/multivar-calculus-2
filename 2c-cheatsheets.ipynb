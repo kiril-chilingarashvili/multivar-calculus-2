{
 "cells": [
  {
   "cell_type": "markdown",
   "id": "692e9348-3537-4477-a39d-029e1cf58504",
   "metadata": {},
   "source": [
    "# Unit 2: Introduction to Line Integrals - Part c - Force Fields and Work"
   ]
  },
  {
   "cell_type": "markdown",
   "id": "29ea9946-dd4f-4738-b550-ff9cf44989a7",
   "metadata": {},
   "source": []
  }
 ],
 "metadata": {
  "kernelspec": {
   "display_name": "Python 3",
   "language": "python",
   "name": "python3"
  },
  "language_info": {
   "codemirror_mode": {
    "name": "ipython",
    "version": 3
   },
   "file_extension": ".py",
   "mimetype": "text/x-python",
   "name": "python",
   "nbconvert_exporter": "python",
   "pygments_lexer": "ipython3",
   "version": "3.8.8"
  }
 },
 "nbformat": 4,
 "nbformat_minor": 5
}
