{
 "cells": [
  {
   "cell_type": "markdown",
   "id": "10b88ba8-40aa-4888-9b68-dc5f446cfd64",
   "metadata": {},
   "source": [
    "# Unit 2: Introduction to Line Integrals - Part d - Fundamental Theorem for Line Integrals"
   ]
  },
  {
   "cell_type": "markdown",
   "id": "a26a1299-b3bd-4148-8028-7a15d78b6553",
   "metadata": {},
   "source": [
    "## The Fundamental Theorem for Line Integrals\n",
    "\n",
    "### In this lecture, we discover the fundamental theorem for line integrals. This theorem tells us that if we have a special type of vector field which is the gradient of a scalar valued function, then the integral along a curve is determined by the value of the scalar function at the end points of the curve.\n",
    "\n",
    "### This result leads to some interesting properties of vector fields, gradient fields, and line integrals, which will be explored in more detail in the next unit."
   ]
  },
  {
   "cell_type": "markdown",
   "id": "d669064a-be87-4153-920c-dd44096eb462",
   "metadata": {},
   "source": [
    "## Line integrals for work done by force field along a curve\n",
    "\n",
    "### Last time we introduced another type of line integral, which can be used to find the work done by a force field along a curve $C$.\n",
    "![img](img/img-7-01.png)\n",
    "\n",
    "### Given a force field $\\vec{F}$ defined at every point along a curve $C$, the work done by the force field along the curve is the line integral\n",
    "## $$ \\int_C \\vec{F} \\cdot d\\vec{r} $$\n",
    " \n",
    "### We saw that we could interpret this in two other ways:\n",
    "\n",
    "- ### Geometrically, we could write this integral as\n",
    "## $$ \\int_C \\vec{F} \\cdot d\\vec{r} = \\int_C \\vec{F} \\cdot \\hat{T} \\mathop{ds} $$\n",
    " \n",
    "###    where $\\hat{T}$ is the unit tangent vector along $C$ and $ds$ is the arc length element.\n",
    "\n",
    "- ### In terms of the components of work in the $\\hat{i}$ and $\\hat{j}$ directions, we could write this integral as\n",
    "## $$ \\int_C \\vec{F} \\cdot d\\vec{r} = \\int_C M\\mathop{dx} + N\\mathop{dy} $$\n",
    "\n",
    "###    where $\\vec{F} = \\langle M, N \\rangle$ is written in terms of components.\n",
    "\n",
    "### We will do an example to help us review these different perspectives, which will also lead us towards the Fundamental Theorem for Line Integrals.\n",
    "\n",
    "### **Example 2.1**\n",
    "### We are given the field $\\vec{F} = y\\hat{i} + x\\hat{j} = \\langle x,y \\rangle$. We want to compute the work done along a contour $C$, which is a a closed curve that bounds a sector of the unit disk for $\\displaystyle 0 \\leq \\theta \\leq \\frac{\\pi}{4}$. In the image below, you see the vector field $F$ and the curve $C$ broken into components $C = C_1 + C_2 + C_3$ such that\n",
    "\n",
    "- ### $C_1$ goes along the $x$-axis from the origin $(0,0)$ to $(1,0)$,\n",
    "- ### $C_2$ moves along the unit circle counterclockwise $\\displaystyle \\frac{\\pi}{4}$ radians, and\n",
    "- ### $C_3$ moves back down to the origin in a straight line.\n",
    "\n",
    "### Here we have used the '+' sign between curves to denote their concatenation, that is, the curve obtained by tracing each component one after the other.\n",
    "![img](img/img-7-02.png)\n",
    "\n",
    "### Our goal is to compute $\\displaystyle \\int_C \\vec{F} \\cdot d\\vec{r}$. Because line integrals involve breaking up a curve into small pieces, evaluating some function on that curve, and then summing, we can first break the curve into pieces $C_1, C_2$ and $C_3$, compute the line integrals along each piece, and add up at the end. That is, what we will really compute is\n",
    "## $$ \\int_C \\vec{F} \\cdot d\\vec{r} = \\int_{C_1} \\vec{F} \\cdot d\\vec{r} + \\int_{C_2} \\vec{F} \\cdot d\\vec{r} + \\int_{C_3} \\vec{F} \\cdot d\\vec{r}  $$\n",
    "\n",
    "### To do this we must set up 3 line integrals\n",
    "## $$ \\int_{C_n} \\vec{F} \\cdot d\\vec{r} = \\int_{C_n} y\\mathop{dx} + x\\mathop{dy}, \\quad \\text{for}\\, n=1,2,3 $$\n",
    "\n",
    "### and compute them.\n",
    "\n",
    "### **Work along**\n",
    "### First we compute the line integral along $C_1$. \n",
    "![img](img/img-7-03.png)\n",
    "\n",
    "### Along $C_1$ the trajectory is defined by\n",
    "## $$ y=0, \\quad 0\\leq x \\leq 1 $$\n",
    "\n",
    "### We will use the $x$-variable as our parameter. Then since $y=0$, we get $dy=0$. Thus\n",
    "## $$ \\int_{C_1} y\\mathop{dx} + x\\mathop{dy} = \\int_{C_1} 0\\mathop{dx} + 0 = 0 $$"
   ]
  },
  {
   "cell_type": "markdown",
   "id": "9e59b2f0-72d9-4e11-b3ba-83bd03ce6527",
   "metadata": {},
   "source": [
    "### Geometrically along $C_1$, the vector field $\\vec{F}$ points in the $\\hat{j}$-direction and the unit vector along $C_1$, $\\hat{T}$, points in the $\\hat{i}$-direction, so $\\vec{F}\\cdot \\hat{T} = 0$, which implies that\n",
    "## $$ \\int_{C_1} \\vec{F} \\cdot \\hat{T} \\mathop{ds} $$\n",
    " \n",
    "### **Work along $C_2$**\n",
    "### Next we compute the line integral along $C_2$.\n",
    "![img](img/img-7-04.png)\n",
    "\n",
    "### The curve $C_2$ is a portion of the unit circle, which we parametrize by the angle $\\theta$ as\n",
    "## $$ \\begin{array} {rcl} x = \\cos(\\theta & & dx = -\\sin(\\theta)\\mathop{d\\theta} \\\\ y = \\sin(\\theta & & dy = \\cos(\\theta)\\mathop{d\\theta} \\end{array} $$\n",
    "\n",
    "### The range of $\\theta$ is $\\displaystyle 0 \\leq \\theta \\leq \\frac{\\pi}{4}$. Therefore\n",
    "## $$ \\begin{array} {rcl} \\displaystyle \\int_{C_2} y\\mathop{dx} + x \\mathop{dy} & = & \\displaystyle \\int_0^{\\frac{\\pi}{4}} \\sin(\\theta) \\cdot (-\\sin(\\theta)\\mathop{d\\theta}) + \\cos(\\theta)\\cdot(\\cos(\\theta)\\mathop{d\\theta}) \\\\ \\, & = & \\displaystyle \\int_0^{\\frac{\\pi}{4}} \\underbrace{\\cos^2(\\theta) - \\sin^2(\\theta)}_{\\cos(2\\theta)}\\mathop{d\\theta} \\\\ \\, & = & \\displaystyle \\left. \\frac{1}{2} \\sin(2\\theta) \\right|_{0}^{\\frac{\\pi}{4}} = \\frac{1}{2} \\end{array} $$\n",
    "\n",
    "### **Work along $C_3$**\n",
    "### Finally we compute the line integral along $C_3$.\n",
    "![img](img/img-7-05.png)\n",
    "\n",
    "### Since $C_3$ is the portion of the line that goes from $\\displaystyle \\left( \\frac{1}{\\sqrt{2}},\\frac{1}{\\sqrt{2}} \\right)$ to $(0,0)$, one thing we could do is to take the parametrization\n",
    "## $$ \\begin{array} {rcl} x & = & \\displaystyle \\frac{1}{\\sqrt{2}} - \\frac{1}{\\sqrt{2}} t \\\\ y & = & \\displaystyle \\frac{1}{\\sqrt{2}} - \\frac{1}{\\sqrt{2}} t \\end{array} $$\n",
    "\n",
    "### for $0\\leq t \\leq 1$. However, the algebra becomes unnecessarily complicated.\n",
    "\n",
    "### It is easier to consider the curve $-C_3$, which is what we write for the curve $C_3$ traversed backwards (from $(0,0)$ to $\\displaystyle \\left( \\frac{1}{\\sqrt{2}},\\frac{1}{\\sqrt{2}} \\right)$). We can parametrize $C_3$ as\n",
    "## $$ \\begin{array} {rcl} x & = & t \\\\ y & = & t \\end{array} $$\n",
    "\n",
    "### for $\\displaystyle 0 \\leq t \\leq \\frac{1}{\\sqrt{2}}$.\n",
    "\n",
    "### Then $\\displaystyle \\int_{-C_3} \\vec{F} \\cdot d\\vec{r} = -\\int_{C_3} \\vec{F} \\cdot d\\vec{r}$. Let's work out the integral for $-C_3$.\n",
    "## $$ \\begin{array} {rcl} \\displaystyle \\int_{-C_3} y\\mathop{dx} + x\\mathop{dy} & = & \\displaystyle \\int_{0}^{\\frac{1}{\\sqrt{2}}} t\\mathop{dt} + t\\mathop{dt} \\\\ \\, & = & \\displaystyle \\int_{0}^{\\frac{1}{\\sqrt{2}}} 2t\\mathop{dt} \\\\ \\, & = & \\displaystyle \\left. t^2 \\right|_{0}^{\\frac{1}{\\sqrt{2}}} \\\\ \\, & = & \\displaystyle \\frac{1}{2} \\end{array} $$\n",
    "\n",
    "### Therefore $\\displaystyle \\int_{C_3} y\\mathop{dx} + x\\mathop{dy} = -\\frac{1}{2}$.\n",
    "\n",
    "### So the total work is\n",
    "## $$ \\begin{array} {rcl} \\displaystyle \\int_{C} y\\mathop{dx} + x\\mathop{dy} & = & \\displaystyle \\int_{C_1} y\\mathop{dx} + x\\mathop{dy} + \\int_{C_2} y\\mathop{dx} + x\\mathop{dy} + \\int_{C_3} y\\mathop{dx} + x\\mathop{dy} \\\\ \\, & = & \\displaystyle 0 + \\frac{1}{2} - \\frac{1}{2} = 0 \\end{array} $$\n",
    "\n",
    "### **Remark 2.2**\n",
    "\n",
    "### Another way to get the integral over $C_3$ using the parametrization of $-C_3$ is to simply reverse the limits of the integral. Recall that $-C_3$ is parametrized by $(t,t)$ for $\\displaystyle 0\\leq t \\leq \\frac{1}{\\sqrt{2}}$. Thus by reversing the limits of integration we find\n",
    "## $$ \\int_{C_3} y\\mathop{dx} + x\\mathop{dy} = \\int_{\\frac{1}{\\sqrt{2}}}^0 t\\mathop{dt} + t\\mathop{dt} = -\\frac{1}{2} $$"
   ]
  },
  {
   "cell_type": "markdown",
   "id": "27524f35-f339-447f-8ffa-d6535bf05ce3",
   "metadata": {},
   "source": []
  }
 ],
 "metadata": {
  "kernelspec": {
   "display_name": "Python 3 (ipykernel)",
   "language": "python",
   "name": "python3"
  },
  "language_info": {
   "codemirror_mode": {
    "name": "ipython",
    "version": 3
   },
   "file_extension": ".py",
   "mimetype": "text/x-python",
   "name": "python",
   "nbconvert_exporter": "python",
   "pygments_lexer": "ipython3",
   "version": "3.10.6"
  }
 },
 "nbformat": 4,
 "nbformat_minor": 5
}
