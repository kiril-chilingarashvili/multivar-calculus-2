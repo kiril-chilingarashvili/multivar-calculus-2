{
 "cells": [
  {
   "cell_type": "markdown",
   "id": "eb4845ec-7b03-4e96-9e19-56a2efddd727",
   "metadata": {},
   "source": [
    "# Unit 3: Line Integrals and Green’s Theorem - Part c - Flux and Divergence"
   ]
  },
  {
   "cell_type": "markdown",
   "id": "cef42f3a-8c1b-483c-a918-f3a7a66f58b8",
   "metadata": {},
   "source": []
  }
 ],
 "metadata": {
  "kernelspec": {
   "display_name": "Python 3 (ipykernel)",
   "language": "python",
   "name": "python3"
  },
  "language_info": {
   "codemirror_mode": {
    "name": "ipython",
    "version": 3
   },
   "file_extension": ".py",
   "mimetype": "text/x-python",
   "name": "python",
   "nbconvert_exporter": "python",
   "pygments_lexer": "ipython3",
   "version": "3.8.13"
  }
 },
 "nbformat": 4,
 "nbformat_minor": 5
}
