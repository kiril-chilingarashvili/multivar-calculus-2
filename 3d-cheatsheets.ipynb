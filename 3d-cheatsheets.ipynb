{
 "cells": [
  {
   "cell_type": "markdown",
   "id": "c211ef08-555a-4447-8fef-e3540753235d",
   "metadata": {},
   "source": [
    "# Unit 3: Line Integrals and Green’s Theorem - Part d - Extended Green's Theorem"
   ]
  },
  {
   "cell_type": "markdown",
   "id": "178025d9-76e0-477f-99f6-a4d3b0bd100d",
   "metadata": {},
   "source": []
  }
 ],
 "metadata": {
  "kernelspec": {
   "display_name": "Python 3 (ipykernel)",
   "language": "python",
   "name": "python3"
  },
  "language_info": {
   "codemirror_mode": {
    "name": "ipython",
    "version": 3
   },
   "file_extension": ".py",
   "mimetype": "text/x-python",
   "name": "python",
   "nbconvert_exporter": "python",
   "pygments_lexer": "ipython3",
   "version": "3.8.13"
  }
 },
 "nbformat": 4,
 "nbformat_minor": 5
}
