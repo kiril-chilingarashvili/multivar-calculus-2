{
 "cells": [
  {
   "cell_type": "markdown",
   "id": "c211ef08-555a-4447-8fef-e3540753235d",
   "metadata": {},
   "source": [
    "# Unit 3: Line Integrals and Green’s Theorem - Part d - Extended Green's Theorem"
   ]
  },
  {
   "cell_type": "markdown",
   "id": "178025d9-76e0-477f-99f6-a4d3b0bd100d",
   "metadata": {},
   "source": [
    "## Extended Green's Theorem\n",
    "\n",
    "### **Objectives**\n",
    "- ### **Extend Green's theorem** to regions between curves.\n",
    "- ### Distinguish between **connected** and **disconnected** regions in the plane.\n",
    "- ### Determine if a connected region in the plane is **simply connected**.\n",
    "- ### Identify when the **domain of definition and differentiability of a vector field** is simply connected.\n",
    "- ### Determine when a vector field is a gradient in terms of the **domain being simply connected**."
   ]
  },
  {
   "cell_type": "markdown",
   "id": "b51e95e4-4cec-4c00-a6b2-2ac163b5e592",
   "metadata": {},
   "source": [
    "## Review of Green's Theorem\n",
    "\n",
    "### Our goal in this section is to dive deeper into understanding the hypotheses needed for a vector field with $0$ curl to be a gradient field. Recall that we used the condition that said if a vector field was defined and differentiable everywhere and had zero curl, then it was a gradient field. We would like to understand the minimum requirements for a curl free vector field to be a gradient field.\n",
    "\n",
    "### Recall the two forms of Green's theorem we have seen. In both we let $C$ be a closed curve oriented counterclockwise, and $R$ is the region enclosed by $C$.\n",
    "- ### The first says that the work along a curve done by a vector field is equal to the curl of that vector field integrated over the whole region:\n",
    "## $$ \\oint_C \\vec{F}\\cdot \\hat{T} \\mathop{ds} = \\iint_R \\mathrm{curl}(\\vec{F}) \\mathop{dA} $$\n",
    " \n",
    "- ### The second version says that the net flux of a vector field out of a curve is equal to the divergence fo that vector field  integrated over the entire region:\n",
    "## $$ \\oint_C \\vec{F}\\cdot \\hat{n} \\mathop{ds} = \\iint_R \\mathrm{Div}(\\vec{F})\\mathop{dA} $$\n",
    "\n",
    "### Note that for the left hand sides to make sense, the only requirement is that the vector field is defined on the curve. However, for the right hands sides to be true, we need that the vector field is defined not only along $C$, but that it and its partial derivatives are defined on the entire region $R$ enclosed by $C$.\n",
    "\n",
    "### **Example 2.1**\n",
    "\n",
    "### Recall the vector field $\\displaystyle \\vec{F} = \\frac{-y\\hat{i}+x\\hat{j}}{x^2+y^2}$ is defined everywhere except the origin $(0,0)$. The $\\mathrm{curl}(\\vec{F}) = 0$ everywhere except the origin.\n",
    "![img](img/img-10-14.png)\n",
    "\n",
    "- ### Then we can apply Green's theorem on any curve that does not enclose the origin.\n",
    "## $$ \\oint_{{\\color{blue}{C}}} \\vec{F}\\cdot \\hat{T} \\mathop{ds} {\\color{blue}{=}} \\iint_{{\\color{blue}{R}}} \\mathrm{curl}(\\vec{F}) \\mathop{dA} $$\n",
    " \n",
    "- ### But we cannot apply Green's theorem on a curve that does enclose the origin.\n",
    "## $$ \\oint_{{\\color{orange}{C'}}} \\vec{F}\\cdot \\hat{T} \\mathop{ds} {\\color{orange}{\\neq}} \\iint_{{\\color{orange}{R'}}} \\mathrm{curl}(\\vec{F}) \\mathop{dA} $$\n"
   ]
  },
  {
   "cell_type": "markdown",
   "id": "14817097-8e6c-48e2-b627-a404a37bc2c5",
   "metadata": {},
   "source": [
    "## Extended version of Green's theorem\n",
    "\n",
    "### As on the previous page, we consider the vector field $\\displaystyle \\vec{F} = \\frac{-y\\hat{i}+x\\hat{j}}{x^2+y^2}$, which is defined everywhere except the origin $(0,0)$. The $\\mathrm{curl}(\\vec{F}) = 0$ everywhere except the origin.\n",
    "\n",
    "### Consider a curve $C'$ and $C''$ both enclosing the origin and oriented counterclockwise.\n",
    "![img](img/img-10-15.png)\n",
    "\n",
    "### Then we cannot apply Green's theorem directly to either curve, because the vector field (and hence the curl of the vector field) is not defined at the origin.\n",
    "\n",
    "### However, we can apply Green's theorem in a slightly tricky way. Let $R$ be the region between $C'$ and $C''$. Then the vector field is defined everywhere on $R$, and thus we can apply the Extended version of Green's theorem to get the following relationship:\n",
    "## $$ \\int_{C'}\\vec{F}\\cdot\\hat{T}\\mathop{ds} - \\int_{C''}\\vec{F} \\cdot \\hat{T} \\mathop{ds} = \\iint_R \\mathrm{curl} (\\vec{F}) \\mathop{dA} $$\n",
    "\n",
    "### In our case, since the curl is zero on this region, the right hand side is $0$. So in particular, this tells us that for any closed curve oriented counterclockwise around the origin, the line integral of the tangent component of that field along the curve will be $2\\pi$.\n",
    "\n",
    "### Why is this true?\n",
    "![img](img/img-10-16.png)\n",
    "\n",
    "### Add a curve $C_3$ connecting the curve $C'$ to the curve $C''$ along the positive $x$ axis.\n",
    "\n",
    "### Then we get a single curve that bounds the region $R$ via counterclockwise via the curve $C = C'+C_3-C''-C_3$. Thus the line integral around this closed region is\n",
    "## $$ \\begin{array} {rcl} \\displaystyle \\oint_C \\vec{F} \\cdot \\hat{T} \\mathop{ds} & = & \\displaystyle \\int_{C'} \\vec{F} \\cdot \\hat{T} \\mathop{ds} + \\int_{C_3} \\vec{F} \\cdot \\hat{T} \\mathop{ds} - \\int_{C''} \\vec{F} \\cdot \\hat{T} \\mathop{ds} - \\int_{C_3} \\vec{F} \\cdot \\hat{T} \\mathop{ds} \\\\ \\, & = & \\displaystyle \\int_{C'} \\vec{F} \\cdot \\hat{T} \\mathop{ds} - \\int_{C''} \\vec{F} \\cdot \\hat{T} \\mathop{ds} \\end{array} $$\n",
    "\n",
    "### Since the segment $C_3$ is traversed twice in opposite directions, it cancels.\n",
    "\n",
    "### So in particular, since the vector field  and its curl are well defined on the region $R$,\n",
    "## $$ \\oint_C \\vec{F} \\cdot \\hat{T} \\mathop{ds} = \\int_R \\mathrm{curl} (\\vec{F})\\mathop{dA} = 0 $$\n",
    " \n",
    "### and so\n",
    "## $$ \\int_{C'} \\vec{F} \\cdot \\hat{T} \\mathop{ds} = \\int_{C''} \\vec{F} \\cdot \\hat{T} \\mathop{ds} $$"
   ]
  },
  {
   "cell_type": "markdown",
   "id": "aaeb5dcf-d1f9-4963-b0fb-dbaced63c969",
   "metadata": {},
   "source": [
    "## Simply connected regions\n",
    "\n",
    "### A region is connected when it is one piece. Regions that are separated by disjoint boundaries are considered to be disconnected.\n",
    "![img](img/img-10-16.png)\n",
    "\n",
    "### **Definition 4.1**\n",
    "### A region $R$ is **connected** if for every pair of points $P_1$ and $P_2$ in $R$, there is a path $C$ that connects $P_1$ to $P_2$ that lies entirely within $R$.\n",
    "\n",
    "### We are interested in a special type of connected region called **simply connected**. Roughly speaking, a simply connected region has no holes in it.\n",
    "![img](img/img-10-17.png)\n",
    "\n",
    "### **Definition 4.2**\n",
    "### A connected region $R$ is **simply connected** if the interior of any closed curve $C$ in $R$ is also in $R$. In other words, the region does not have any holes."
   ]
  },
  {
   "cell_type": "markdown",
   "id": "8fa92bbe-f62c-4da1-a1e1-0a754021350e",
   "metadata": {},
   "source": [
    "## When is a vector field a gradient field?\n",
    "\n",
    "### If the curl of a vector field $\\vec{F}$ is $0$, and its domain of definition is simply connected, then $\\vec{F}$ is conservative, and $\\vec{F}$  is a gradient field.\n",
    "\n",
    "### **Remark 5.1**\n",
    "\n",
    "### Note that $\\vec{F}$ is conservative if and only if $\\vec{F}$ is a gradient field. However, please note that if the curl of a vector field is $0$ and the domain of definition is simply connected is not equivalent to being conservative. This is called a sufficient, but not a necessary condition!"
   ]
  },
  {
   "cell_type": "markdown",
   "id": "f59937f8-40f7-427d-8207-9dfc90590ce4",
   "metadata": {},
   "source": [
    "## Summary\n",
    "\n",
    "### **Big Picture**\n",
    "### In order to apply Green's theorem, in tangential or normal form, what we need is for both the line integral and the double integral to be well defined. In particular,\n",
    "- ### We can apply Green's theorem in tangential form on any curve such that the vector field and its curl are defined everywhere on the region bounded by the curve.\n",
    "- ### We can apply Green's theorem in normal form on any curve such that the vector field and its divergence are defined everywhere on the region bounded by the curve.\n",
    "\n",
    "### We've seen previously that the following are equivalent for a vector field $\\vec{F} = \\langle M, N \\rangle$.\n",
    "- ### $\\vec{F}$ is conservative.\n",
    "- ### $\\displaystyle \\int_C \\vec{F}\\cdot d\\vec{r}$ is path-independent.\n",
    "- ### $\\vec{F}$ is a gradient field $\\vec{F} = \\nabla f$.\n",
    "- ### $M\\mathop{dx} + N\\mathop{dy}$ is an **exact differential** ($M_y = N_x$).\n",
    "\n",
    "### In this lecture, we learned that it is sufficient (but not necessary) for a vector field $\\vec{F}$ to be a gradient field if $\\mathrm{curl}(\\vec{F}) = 0$ and the domain of definition is simply connected.\n",
    "\n",
    "### **Mechanics**\n",
    "### We can extend Green's theorem to regions between any two curves as long as the vector field and its partial derivatives are well defined on the region between curves.\n",
    "## $$ \\int_{C'} \\vec{F}\\cdot\\hat{T}\\mathop{ds}-\\int_{C''}\\vec{F}\\cdot\\hat{T}\\mathop{ds} = \\iint_R \\mathrm{curl}(\\vec{F})\\mathop{dA} $$\n",
    " ![img](img/img-10-19.png)\n",
    "\n",
    "### **Ask Yourself**\n",
    "### **Can a conservative vector field have a domain of definition that is not simply connected?**\n",
    "### Yes! It is sufficient to show that a vector field is conservative to know that it is defined on a simply connected region, have its curl defined and zero on a simply connected region. However, it is not necessary! We saw in the last problem that the vector field $\\displaystyle \\vec{F} = \\frac{\\langle x,y \\rangle }{\\sqrt{x^2+y^2}}$ is the gradient of the potential function $g(x,y) = \\sqrt{x^2+y^2}$, and hence is conservative. However, the vector field's domain of definition does not include the origin, and hence is not simply connected.\n",
    "\n",
    "### **Can Green's theorem be applied on any region where defined?**\n",
    "### Almost! Remember that one requirement of Green's theorem is that the region be bounded counterclockwise. We can run into trouble if our region is bounded by a curve like a on the picture below, such that the region is bounded counterclockwise on one half, but clockwise on the other half.\n",
    "![img](img/img-10-20.png)\n",
    "\n",
    "### You can still apply Green's theorem, but you have to do so carefully. In this case, the orientation issue can be resolved by splitting the region into two regions $R_1$ and $R_2$ bounded by $C_1$ which is counterclockwise and $C_2$ which is clockwise.\n",
    "\n",
    "### Then\n",
    "## $$ \\int_C \\vec{F} \\cdot d\\vec{r} = \\int_{C_1} \\vec{F} \\cdot d\\vec{r} + \\int_{C_2} \\vec{F} \\cdot d\\vec{r} $$\n",
    " \n",
    "### and we we can apply Green's theorem directly to $C_1$, and we can apply Green's theorem to $-C_2$ to get\n",
    "## $$ \\begin{array} {rcl} \\displaystyle \\int_{C_1} \\vec{F} \\cdot d\\vec{r} & = & \\displaystyle \\iint_{R_1} \\mathrm{curl} (\\vec{F}) \\mathop{dA} \\\\ \\displaystyle \\int_{C_2} \\vec{F} \\cdot d\\vec{r} & = & \\displaystyle -\\left( \\int_{-C_2} \\vec{F} \\cdot d\\vec{r} \\right) \\\\ \\, & = & \\displaystyle - \\left( \\iint_{R_2} \\mathrm{curl} (\\vec{F}) \\mathop{dA} \\right) \\\\ \\, & = & \\displaystyle -\\iint_{R_2} \\mathrm{curl} (\\vec{F}) \\mathop{dA}  \\end{array} $$\n",
    "\n",
    "### Therefore\n",
    "## $$ \\int_C \\vec{F} \\cdot d\\vec{r} = \\iint_{R_1} \\mathrm{curl} (\\vec{F}) \\mathop{dA} - \\iint_{R_2} \\mathrm{curl} (\\vec{F}) \\mathop{dA} $$"
   ]
  },
  {
   "cell_type": "markdown",
   "id": "b6b24a7a-2021-4ec1-b53f-5b8dd1cc131d",
   "metadata": {},
   "source": []
  }
 ],
 "metadata": {
  "kernelspec": {
   "display_name": "Python 3 (ipykernel)",
   "language": "python",
   "name": "python3"
  },
  "language_info": {
   "codemirror_mode": {
    "name": "ipython",
    "version": 3
   },
   "file_extension": ".py",
   "mimetype": "text/x-python",
   "name": "python",
   "nbconvert_exporter": "python",
   "pygments_lexer": "ipython3",
   "version": "3.8.13"
  }
 },
 "nbformat": 4,
 "nbformat_minor": 5
}
