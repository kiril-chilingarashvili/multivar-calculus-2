{
 "cells": [
  {
   "cell_type": "markdown",
   "id": "772a3eec-4d19-480f-9a1e-b6a69e77930e",
   "metadata": {},
   "source": [
    "# Unit 4: Triple Integrals - Part a - Triple Integrals and Cylindrical Coordinates"
   ]
  },
  {
   "cell_type": "markdown",
   "id": "d8402d2b-8fea-42a1-9501-415c0afea507",
   "metadata": {},
   "source": []
  }
 ],
 "metadata": {
  "kernelspec": {
   "display_name": "Python 3 (ipykernel)",
   "language": "python",
   "name": "python3"
  },
  "language_info": {
   "codemirror_mode": {
    "name": "ipython",
    "version": 3
   },
   "file_extension": ".py",
   "mimetype": "text/x-python",
   "name": "python",
   "nbconvert_exporter": "python",
   "pygments_lexer": "ipython3",
   "version": "3.8.13"
  }
 },
 "nbformat": 4,
 "nbformat_minor": 5
}
