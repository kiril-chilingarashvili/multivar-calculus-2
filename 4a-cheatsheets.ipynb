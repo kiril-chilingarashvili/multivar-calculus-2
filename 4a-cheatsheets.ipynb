{
 "cells": [
  {
   "cell_type": "markdown",
   "id": "772a3eec-4d19-480f-9a1e-b6a69e77930e",
   "metadata": {},
   "source": [
    "# Unit 4: Triple Integrals - Part a - Triple Integrals and Cylindrical Coordinates"
   ]
  },
  {
   "cell_type": "markdown",
   "id": "d8402d2b-8fea-42a1-9501-415c0afea507",
   "metadata": {},
   "source": [
    "## Introduction\n",
    "\n",
    "### So far, our integration has taken place mostly in the 2D plane. We started with double integrals, which allow us to measure an accumulated quantity within a two-dimensional region. We have also seen a few types of line integrals, which all involve accumulating certain quantities along curves in two and three-dimensional space.\n",
    "\n",
    "### In this unit, we introduce **triple integrals** which are the 3D version of double integrals. The main idea is very similar to double integrals, and you will also learn that there are some new coordinate systems available in 3D that are useful for triple integrals.\n",
    "\n",
    "### **Objectives**\n",
    "### By the end of this lecture and recitation, you will be able to:\n",
    "- ### Correctly interpret **triple integrals** over solids as the accumulation of a quantity over a solid in three dimensions.\n",
    "- ### Convert a triple integral to an iterated integral in rectangular or **cylindrical coordinates** (for basic shapes).\n",
    "- ### **Solve basic area, mass, and average value problems** in three dimensions using triple integrals."
   ]
  },
  {
   "cell_type": "markdown",
   "id": "e5388734-dd93-48d5-a7b5-46cedfa0bc00",
   "metadata": {},
   "source": [
    "## Vocabulary 2D to 3D\n",
    "\n",
    "### **Vocabulary**\n",
    "### It is easy to get confused during this transition from 2D to 3D, because there is some new vocabulary. Let's go over this vocabulary now.\n",
    "\n",
    "### **Definition 2.1** (Shapes in the 2D plane) \n",
    "### A filled-in shape in the 2D plane is usually called a **region**. For example, the unit disk is a region.\n",
    "\n",
    "### The boundary of a 2D region is usually called a **closed curve**. The unit circle is a closed curve.\n",
    "\n",
    "### **Definition 2.2** (Shapes in 3D space) \n",
    "\n",
    "### A filled-in shape in 3D space is either called a **solid** or a **volume**. For example, the unit ball is a solid.\n",
    "\n",
    "### The boundary of a solid is usually called a **surface**. The unit sphere is an example of a surface.\n",
    "![img](img/img-12-01.png)\n",
    "\n",
    "### To demonstrate the distinction, notice that the origin is a point on the region and solid shown above, but it is not a point on the curve nor the surface.\n",
    "\n",
    "### **Integration**\n",
    "### So far in this course, you have learned about:\n",
    "- ### Integrals over regions.\n",
    "- ### Integrals over curves (including closed curves).\n",
    "\n",
    "### In this lecture, you will learn how to integrate over 3D solids. The resulting integrals are called **triple integrals**.\n",
    "\n",
    "### In case you are wondering, it is also possible to integrate over surfaces. Those integrals are called “surface integrals\", but are not covered in this course."
   ]
  },
  {
   "cell_type": "markdown",
   "id": "b7cf12dc-ffb9-4ef2-8dfa-ad8ec0e2ce55",
   "metadata": {},
   "source": [
    "## Triple integrals\n",
    "\n",
    "### When we need to integrate a function of three variables $f(x,y,z)$ over a 3D solid, we use a triple integral $\\displaystyle \\iiint$. For example, $f(x,y,z)$ might be the mass density of a three-dimensional solid $R$, which would mean that $\\displaystyle \\iiint_R f(x,y,z) \\mathop{dV}$ represents the mass of this solid.\n",
    "\n",
    "### The original definition of $\\displaystyle \\iiint_R f(x,y,z) \\mathop{dV}$ is a generalization of the definition for double integrals. In other words, $\\displaystyle \\iiint_R f(x,y,z) \\mathop{dV}$ is the quantity that is approached when we divide $R$ into more and more smaller and smaller 3D pieces $A_1, \\ldots, A_n$ centered at $(x_i, y_i, z_i)$, and form the sum:\n",
    "## $$ \\text{(Formal Definition)}\\quad \\iiint_R f(x,y,z) \\mathop{dV} = \\lim_{n\\to\\infty} \\sum_{i=1}^{n} \\mathrm{Volume}(A_i) f(x_i, y_i, z_i) $$\n",
    "\n",
    "### As usual with integrals, we don't use this definition directly to evaluate triple integrals, and instead use the familiar method of converting to an iterated integral.\n",
    "\n",
    "### Let's see a quick example to demonstrate the method.\n",
    "\n",
    "### **Example 3.1**\n",
    "### Let $R$ be the 3D solid beneath the plane $z=3$ and above the unit square in the $xy$-plane. If the mass density of $R$ is $\\delta(x,y,z)=1+2x+4y+6z$, then what is the mass of $R$?\n",
    "\n",
    "### **Solution**:\n",
    "### To solve this problem, we will take the triple integral of $\\delta(x,y,z)$ over the solid $R$:\n",
    "## $$ \\iiint_R \\delta(x,y,z) \\mathop{dV} = \\iiint_R 1+2x+4y+6z\\mathop{dV} $$\n",
    "\n",
    "### Just as we did with double integrals, we need to set up the endpoints for each of the three integrals. Any ordering of $\\mathop{dx}\\mathop{dy}\\mathop{dz}$ is valid; in this problem we will choose $\\mathop{dx}\\mathop{dy}\\mathop{dz}$.\n",
    "## $$ \\iiint_R 1+2x+4y+6z\\mathop{dV} = \\int_{z=?}^{?}\\int_{y=?}^{?}\\int_{x=?}^{?}1+2x+4y+6z\\mathop{dx}\\mathop{dy}\\mathop{dz} $$\n",
    "\n",
    "### To fill in the missing ?'s, we need to figure out the minimum and maximum values of each variable. Since $x$ and $y$ run through the unit square, each of those intervals of possible $x$-values and $y$-values is $[0,1]$.\n",
    "\n",
    "### Since the solid stretches from $z=0$ to the plane $z=3$, the interval of possible $z$-values is $[0,3]$. We can now fill in the endpoints:\n",
    "## $$ \\iiint_R 1+2x+4y+6z\\mathop{dV} = \\int_{z=0}^{3}\\int_{y=0}^{1}\\int_{x=0}^{1}1+2x+4y+6z\\mathop{dx}\\mathop{dy}\\mathop{dz} $$\n",
    "\n",
    "### We now proceed in the usual way, treating each variable as a constant except when it is the variable of integration.\n",
    "## $$ \\begin{array} {rcl} \\displaystyle \\int_{z=0}^{3}\\int_{y=0}^{1}\\int_{x=0}^{1}1+2x+4y+6z\\mathop{dx}\\mathop{dy}\\mathop{dz} & = & \\displaystyle \\int_{z=0}^{3}\\int_{y=0}^{1}\\left. x+x^2+4xy+6xz\\right|_{x=0}^1\\mathop{dy}\\mathop{dz}  \\\\ \\, & = & \\displaystyle \\int_{z=0}^{3}\\int_{y=0}^{1}2+4y+6z\\mathop{dy}\\mathop{dz} \\\\ \\, & = & \\displaystyle \\int_{z=0}^{3} \\left. 2y+2y^2+6yz \\right|_{y=0}^{1} \\mathop{dz} \\\\ \\, & = & \\displaystyle \\int_{z=0}^{3} 4+6z \\mathop{dz} \\\\ \\, & = & \\displaystyle \\left. (4z+3z^2) \\right|_{z=0}^3 \\\\ \\, & = & \\displaystyle 39 \\end{array} $$\n",
    "\n",
    "### **Remark 3.2**\n",
    "### In the example above, we included the variable names in the bounds of the integrals.\n",
    "\n",
    "### These aren't strictly necessary, because they can be inferred from the order of the differentials at the end of the integral. For example,\n",
    "## $$ \\iiint_R 1+2x+4y+6z\\mathop{dV} = \\int_{z=0}^{3}\\int_{y=0}^{1}\\int_{x=0}^{1}1+2x+4y+6z\\mathop{dx}\\mathop{dy}\\mathop{dz} $$\n",
    "\n",
    "### is equivalently expressed as\n",
    "## $$ \\iiint_R 1+2x+4y+6z\\mathop{dV} = \\int_{0}^{3}\\int_{0}^{1}\\int_{0}^{1}1+2x+4y+6z\\mathop{dx}\\mathop{dy}\\mathop{dz} $$\n",
    "\n",
    "### Writing the bounds as $x=\\cdots$ and $y=\\cdots$ can help make it more clear which bounds go with which variables, but this notation is not always included.\n",
    "\n",
    "### On the next page, we will see an example where the solid $R$ is not as simple."
   ]
  },
  {
   "cell_type": "markdown",
   "id": "b842a656-85ed-40ba-ba70-a70c312e8df2",
   "metadata": {},
   "source": []
  },
  {
   "cell_type": "markdown",
   "id": "8c3220d9-e028-43da-abbf-6b9fbbd75ab2",
   "metadata": {},
   "source": []
  }
 ],
 "metadata": {
  "kernelspec": {
   "display_name": "Python 3 (ipykernel)",
   "language": "python",
   "name": "python3"
  },
  "language_info": {
   "codemirror_mode": {
    "name": "ipython",
    "version": 3
   },
   "file_extension": ".py",
   "mimetype": "text/x-python",
   "name": "python",
   "nbconvert_exporter": "python",
   "pygments_lexer": "ipython3",
   "version": "3.8.13"
  }
 },
 "nbformat": 4,
 "nbformat_minor": 5
}
