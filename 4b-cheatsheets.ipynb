{
 "cells": [
  {
   "cell_type": "markdown",
   "id": "d1b5ac87-1882-4ae1-a980-c84ea606a824",
   "metadata": {},
   "source": [
    "# Unit 4: Triple Integrals - Part b - Spherical Coordinates"
   ]
  },
  {
   "cell_type": "markdown",
   "id": "e6a49e4b-3b53-4c24-8f52-26359b4aff21",
   "metadata": {},
   "source": [
    "## Introduction\n",
    "\n",
    "### In the previous lecture, we started computing triple integrals over 3D solids in rectangular and cylindrical coordinates. In this lecture, you will learn about a third coordinate system that is frequently useful for triple integrals: **spherical coordinates**, written as $\\rho,\\phi$, and $\\theta$.\n",
    "\n",
    "### The outline of this lecture is as follows. First we will go over what $\\rho,\\phi$, and $\\theta$ represent, and how to convert between them and rectangular $x,y,z$ coordinates. Next we will give a derivation of the volume form $\\mathop{dV} = \\rho^2 \\sin(\\phi) \\mathop{d\\phi}\\mathop{d\\rho}\\mathop{d\\theta}$. Finally we will practice setting up the endpoints of a triple integral using spherical coordinates.\n",
    "\n",
    "### **Objectives**\n",
    "### By the end of this lecture and recitation, you will be able to:\n",
    "### 1. Find the rectangular, cylindrical, and **spherical coordinates** of a given point in 3D space.\n",
    "### 2. Set up and solve integrals using spherical coordinates, including finding the **limits of integration** for appropriate 3D solids (e.g. portions of spheres).\n",
    "### 3. **Solve gravitational attraction problems** in three dimensions using spherical coordinates."
   ]
  },
  {
   "cell_type": "markdown",
   "id": "7eabb691-2a58-4b99-bbfe-93c3205d96bd",
   "metadata": {},
   "source": [
    "## Spherical coordinates\n",
    "\n",
    "### **Spherical coordinates** are another coordinate system available in 3D that comes in useful in a variety of settings, most of all when integrating over portions of spheres.\n",
    "\n",
    "### The idea is to represent a point in space by the coordinates $\\rho, \\theta$, and $\\phi$.\n",
    "\n",
    "### **How to pronounce the Greek letters**\n",
    "### The symbols used here are $\\rho$ (Greek lowercase rho), $\\theta$ (Greek lowercase theta), and $\\phi$ (Greek lowercase phi). These are the standard symbols used in mathematics for spherical coordinates, although other conventions are sometimes used.\n",
    "\n",
    "### The meaning of $\\rho, \\theta, \\phi$ are as follows:\n",
    "## $$ \\begin{array} {rcl} \\rho & = & \\text{distance from the origin} \\\\ \\theta & = & \\text{angle counterclockwise from the positive}\\, x \\, \\text{axis} \\\\ \\phi & = & \\text{angle downwards from the positive}\\, z \\, \\text{axis} \\end{array} $$\n",
    "![img](img/img-13-01.png)\n",
    "\n",
    "### To see why these are called spherical coordinates, notice that the points satisfying $\\rho = \\text{constant}$ form a sphere of radius $\\rho$. Keeping $\\rho$ fixed and moving $\\theta$ causes this point to move around that sphere horizontally, and moving $\\phi$ causes this point to move around that sphere vertically.\n",
    "\n",
    "### **Spherical Coordinates Interactive**"
   ]
  },
  {
   "cell_type": "code",
   "execution_count": 1,
   "id": "f3485995-d526-4260-90c9-8f24a519ce23",
   "metadata": {
    "jupyter": {
     "source_hidden": true
    },
    "tags": []
   },
   "outputs": [
    {
     "data": {
      "text/html": [
       "<iframe width=\"900\" height=\"650\" src=\"https://courses.edx.org/asset-v1:MITx+18.02.2x+2T2022+type@asset+block/threejs_u9_SphericalCoordinatesInteractive.html\" frameborder=\"0\" allow=\"accelerometer; autoplay; clipboard-write; encrypted-media; gyroscope; picture-in-picture\" allowfullscreen></iframe>\n"
      ],
      "text/plain": [
       "<IPython.core.display.HTML object>"
      ]
     },
     "metadata": {},
     "output_type": "display_data"
    }
   ],
   "source": [
    "%%html\n",
    "<iframe width=\"900\" height=\"650\" src=\"https://courses.edx.org/asset-v1:MITx+18.02.2x+2T2022+type@asset+block/threejs_u9_SphericalCoordinatesInteractive.html\" frameborder=\"0\" allow=\"accelerometer; autoplay; clipboard-write; encrypted-media; gyroscope; picture-in-picture\" allowfullscreen></iframe>"
   ]
  },
  {
   "cell_type": "markdown",
   "id": "f88f24d2-c89e-4b9a-b5a0-b5460bbf5b88",
   "metadata": {},
   "source": [
    "### **Latitude and Longitude**\n",
    "\n",
    "### We can think of $\\theta$ as a measurement of how far east/west the point is, measured from the positive $z$-axis, and $\\phi$ as a measurement of how far north/south the point is, measured from the positive -axis. When talking about Earth's geography, the corresponding measurements are “latitude\" ($\\phi$) and “longitude\" ($\\theta$), although latitude and longitude are measured using a slightly different convention. To complete the analogy, $\\rho$ corresponds to “altitude\" measured from the center of the Earth.\n",
    "\n",
    "### **Other related words**\n",
    "### The angle $\\phi$ is sometimes called the “polar angle\". It is likely that $\\phi$ got this “polar\" name because it is the angle for “polar coordinates in the $rz$-plane\" (see next page).\n",
    "\n",
    "### The angle $\\theta$ is sometimes called the “azimuthal angle\" because of its relation to “azimuth,\" a navigational term in use since the 1400s.\n",
    "\n",
    "### **Remark 2.1**\n",
    "### Throughout this course, we will use the conventions described above. Be aware however that other authors sometimes swap the roles of $\\theta$ and $\\phi$. For instance, in some physics textbooks, $\\theta$ may be used for the angle made with the positive $z$-axis, and $\\phi$ may be used for the angle made with the positive $x$-axis. We mention this for those who may be accustomed to the opposite convention.\n",
    "### In the mathlet below, you can change the coordinate system a point in 3D space is displayed in using the radio buttons."
   ]
  },
  {
   "cell_type": "markdown",
   "id": "e8b68f41-8a6d-43b4-9de6-5c245a91ab4f",
   "metadata": {},
   "source": [
    "## **Coordinate Systems 3d**"
   ]
  },
  {
   "cell_type": "code",
   "execution_count": 3,
   "id": "69976ba6-e999-450d-84e0-a562b0198dd4",
   "metadata": {
    "jupyter": {
     "source_hidden": true
    },
    "tags": []
   },
   "outputs": [
    {
     "data": {
      "text/html": [
       "<iframe width=\"900\" height=\"950\" src=\"https://mitx-1802-next.netlify.app/mathlets/coordinate-systems-3d/\" frameborder=\"0\" allow=\"accelerometer; autoplay; clipboard-write; encrypted-media; gyroscope; picture-in-picture\" allowfullscreen></iframe>\n"
      ],
      "text/plain": [
       "<IPython.core.display.HTML object>"
      ]
     },
     "metadata": {},
     "output_type": "display_data"
    }
   ],
   "source": [
    "%%html\n",
    "<iframe width=\"900\" height=\"950\" src=\"https://mitx-1802-next.netlify.app/mathlets/coordinate-systems-3d/\" frameborder=\"0\" allow=\"accelerometer; autoplay; clipboard-write; encrypted-media; gyroscope; picture-in-picture\" allowfullscreen></iframe>"
   ]
  },
  {
   "cell_type": "markdown",
   "id": "76749920-8bbf-430b-8e4a-21353fac7e00",
   "metadata": {},
   "source": [
    "## Converting coordinates\n",
    "\n",
    "### We need to find a way of converting between spherical coordinates and rectangular coordinates. The resulting formulas are somewhat complicated, so it is better to remember the following derivation and then deduce the formulas when needed.\n",
    "\n",
    "### Here again is a depiction of spherical coordinates $\\rho, \\phi, \\theta$:\n",
    "![img](img/img-13-02.png)\n",
    "\n",
    "### It is sometimes helpful to think of $\\theta$ as the angle of a door swung open from the $x$-axis. The point in question is sitting at the corner of this door furthest from the origin. The door has a vertical side length of $z$ (the point's $z$-coordinate) and a horizontal side length of $r$ (the point's $r$-coordinate, which is the distance from the origin to the $z$-axis).\n",
    "\n",
    "### In other words, the “door\" represents the “$rz$-plane\", shown below:\n",
    "![img](img/img-13-03.png)\n",
    "\n",
    "### As shown above, we can use trigonometry to write the two side lengths of the door in terms of $\\rho$ and $\\phi$:\n",
    "## $$ \\begin{array} {rcl} z & = & \\rho \\cos(\\phi) \\\\ r & = & \\rho \\sin(\\phi) \\end{array} $$\n",
    "\n",
    "### This has given us a way to find $z$ and $r$ from the spherical coordinates. It remains to find $x$ and $y$. Since $\\theta$ is the same as in polar coordinates, we can find $x$ and $y$ using the usual polar coordinate formulas:\n",
    "## $$ \\begin{array} {rcl} x& = & \\underbrace{\\rho \\sin(\\phi)}_{r} \\cos(\\theta) \\\\ y & = & \\underbrace{\\rho \\sin(\\phi)}_{r} \\sin(\\theta) \\end{array} $$\n",
    "\n",
    "### In summary, we have the following:\n",
    "\n",
    "### **Theorem** \n",
    "### The spherical coordinates $\\rho, \\phi$, and $\\theta$ of a point are related to its rectangular coordinates $x,y$ and $z$ by:\n",
    "## $$ \\begin{array} {rcl} x & = & \\rho \\sin(\\phi) \\cos(\\theta) \\\\ y & = & \\rho \\sin(\\phi) \\sin(\\theta) \\\\ z & = & \\rho \\cos(\\phi) \\end{array} $$\n",
    "\n",
    "### **Remark 3.2**\n",
    "### One way to think about the above derivation is that we first found the formulas for cylindrical coordinates $z,r$, and $\\theta$ in terms of $\\rho, \\phi$, and $\\theta$:\n",
    "## $$ \\begin{array} {rcl} z & = & \\rho \\cos(\\phi) \\\\ r & = & \\rho \\sin(\\phi) \\\\ \\theta & = & \\theta \\end{array} $$\n",
    "\n",
    "### Then we applied our standard method to convert cylindrical coordinates to rectangular coordinates. It is occasionally helpful to convert from spherical to cylindrical coordinates, so it is good to remember the formula for $r$, in addition to those for $x,y$, and $z$.\n",
    "\n",
    "### For those who prefer not to memorize formulas, it will probably be easier to remember the full derivation as a two-step process: first convert to cylindrical, then convert to rectangular.\n",
    "\n",
    "### **Equations in spherical coordinates**\n",
    "### We have already seen that $\\rho = \\text{constant}$ is the equation for a sphere. What shape is described by the equation $\\displaystyle \\phi = \\frac{\\pi}{4}$?"
   ]
  },
  {
   "cell_type": "markdown",
   "id": "fbe938d4-7a2f-4f82-bb0a-eb2d402fab73",
   "metadata": {},
   "source": [
    "### The equation  describes a cone. \n",
    "\n",
    "### Why? \n",
    "\n",
    "### First of all, the shape is rotationally symmetric about the $z$-axis, since there is no dependence on $\\theta$. Next, if we look at only the part in the $yz$-plane, we would see the graph of the absolute value function, since the lines must make an angle of $\\displaystyle \\frac{\\pi}{4}$ with the positive $z$-axis on both sides. Revolving these lines around the $z$-axis gives a cone.\n",
    "\n",
    "### As another example, note that $\\displaystyle \\phi = \\frac{\\pi}{4}$ is the $xy$-plane, the “flattest of all cones\"."
   ]
  },
  {
   "cell_type": "markdown",
   "id": "2d256b2e-78a2-437c-ae53-c270dfd5a1f1",
   "metadata": {},
   "source": [
    "## Volume scaling factor\n",
    "\n",
    "### We would like to start doing triple integrals in spherical coordinates. But, as usual, when we replace $\\mathop{dV}$ with spherical coordinates $\\mathop{d\\rho}\\mathop{d\\phi}\\mathop{d\\theta} $, we need to include the volume scaling factor. The resulting formula is a bit complicated, so it is helpful to remember the following derivation. In other words, we need to fill in the $???$ in the equation below:\n",
    "## $$ \\mathop{dx}\\mathop{dy}\\mathop{dz} = ???\\,\\mathop{d\\rho}\\mathop{d\\phi}\\mathop{d\\theta} $$\n",
    "\n",
    "### To fill in the $???$, we need to answer the following question: “if each of the spherical coordinates is increased by a small amount, what is the resulting volume, in terms of $\\rho, \\phi, \\Delta \\rho, \\Delta \\phi$, and $\\Delta \\theta$?\" In other words, we need to find the volume of a small chunk of a solid ball's “crust\".\n",
    "\n",
    "### Piece of Sphere Volume "
   ]
  },
  {
   "cell_type": "code",
   "execution_count": 4,
   "id": "b30eabfb-022d-485b-92d8-ecac60499aa0",
   "metadata": {
    "jupyter": {
     "source_hidden": true
    },
    "tags": []
   },
   "outputs": [
    {
     "data": {
      "text/html": [
       "<iframe width=\"900\" height=\"650\" src=\"https://courses.edx.org/asset-v1:MITx+18.02.2x+2T2022+type@asset+block/threejs_u9_AnglesOnlyPatchOfSphere.html\" frameborder=\"0\" allow=\"accelerometer; autoplay; clipboard-write; encrypted-media; gyroscope; picture-in-picture\" allowfullscreen></iframe>\n"
      ],
      "text/plain": [
       "<IPython.core.display.HTML object>"
      ]
     },
     "metadata": {},
     "output_type": "display_data"
    }
   ],
   "source": [
    "%%html\n",
    "<iframe width=\"900\" height=\"650\" src=\"https://courses.edx.org/asset-v1:MITx+18.02.2x+2T2022+type@asset+block/threejs_u9_AnglesOnlyPatchOfSphere.html\" frameborder=\"0\" allow=\"accelerometer; autoplay; clipboard-write; encrypted-media; gyroscope; picture-in-picture\" allowfullscreen></iframe>"
   ]
  },
  {
   "cell_type": "markdown",
   "id": "b59e48fd-563b-4f46-aad9-db82ce35ecd9",
   "metadata": {},
   "source": [
    "### **Small piece of surface area**\n",
    "\n",
    "### We can solve this problem by breaking it down. First we only focus on the change in $\\phi$ and $\\theta$, while $\\rho$ is held fixed. We ask the question “on a sphere of fixed radius $a$, what is the area of the piece created by increasing $\\theta$ and $\\phi$ by small amounts?\"\n",
    "\n",
    "### Since the shape is approximately rectangular, we can compute its area by computing the lengths of both sides.\n",
    "\n",
    "### We start with the border running from east to west. This border is a portion of a circle around the sphere with fixed $z$-coordinate (along a “line of latitude\" also called a “parallel\"). The radius of this circle is the distance from our starting point to the $z$-axis (also called $r$). We have shown previously that $r=a\\sin(\\phi)$. Therefore, this side length is $a\\sin(\\phi) \\Delta \\theta$.\n",
    "\n",
    "### Next we deal with the border running from north to south. This border is a portion of a circle around the sphere along a “line of longitude\" (also called a “meridian\"). The radius of the circle is always $a$. Therefore the length of this side is just $a\\Delta \\phi$.\n",
    "\n",
    "### We have shown that, if the sphere has radius $a$, then a small piece of its surface area has area:\n",
    "![img](img/img-13-04.png)\n",
    "\n",
    "### **Small piece of volume**\n",
    "### If we now think about $\\rho$ being moved from $\\rho$ by $\\Delta \\rho$, the resulting shape is a thickened version of the surface area shape described above (with thickness $\\approx \\Delta \\rho$). Therefore, its volume is:\n",
    "## $$ \\text{(Small piece of crust volume)} \\quad \\rho^2 \\sin(\\phi) \\mathop{\\Delta \\theta} \\mathop{\\Delta \\phi} \\mathop{d\\rho} $$\n",
    "\n",
    "### **Volume of Piece of Sphere**"
   ]
  },
  {
   "cell_type": "code",
   "execution_count": 5,
   "id": "9a734419-6454-4514-8166-0f944ef1da17",
   "metadata": {
    "jupyter": {
     "source_hidden": true
    },
    "tags": []
   },
   "outputs": [
    {
     "data": {
      "text/html": [
       "<iframe width=\"900\" height=\"650\" src=\"https://courses.edx.org/asset-v1:MITx+18.02.2x+2T2022+type@asset+block/threejs_u9_PatchOfSphere.html\" frameborder=\"0\" allow=\"accelerometer; autoplay; clipboard-write; encrypted-media; gyroscope; picture-in-picture\" allowfullscreen></iframe>\n"
      ],
      "text/plain": [
       "<IPython.core.display.HTML object>"
      ]
     },
     "metadata": {},
     "output_type": "display_data"
    }
   ],
   "source": [
    "%%html\n",
    "<iframe width=\"900\" height=\"650\" src=\"https://courses.edx.org/asset-v1:MITx+18.02.2x+2T2022+type@asset+block/threejs_u9_PatchOfSphere.html\" frameborder=\"0\" allow=\"accelerometer; autoplay; clipboard-write; encrypted-media; gyroscope; picture-in-picture\" allowfullscreen></iframe>"
   ]
  },
  {
   "cell_type": "markdown",
   "id": "e6f042c3-a647-4f5b-ad4b-b59da80e0aa3",
   "metadata": {},
   "source": [
    "### In summary, we have shown:\n",
    "## $$ \\mathop{dx}\\mathop{dy}\\mathop{dz} = \\rho^2 \\sin(\\phi) \\mathop{d\\theta}\\mathop{d\\phi}\\mathop{d\\rho} $$"
   ]
  },
  {
   "cell_type": "markdown",
   "id": "024ba5b3-2eab-4180-87dd-d4f5fc477757",
   "metadata": {},
   "source": [
    "## Example: integrating in spherical coordinates\n",
    "\n",
    "### Let's see how integrating in spherical coordinates works in practice with an example.\n",
    "\n",
    "### **Example 6.1**\n",
    "### Use spherical coordinates to find the volume of the portion of the unit sphere above $\\displaystyle z=\\frac{1}{\\sqrt{2}}$. (This shape is known as a “half-lens\".)\n",
    "\n",
    "### **Half Lens**"
   ]
  },
  {
   "cell_type": "code",
   "execution_count": 6,
   "id": "d820be97-3bc9-46ed-a5f8-401bc1e446a0",
   "metadata": {
    "jupyter": {
     "source_hidden": true
    },
    "tags": []
   },
   "outputs": [
    {
     "data": {
      "text/html": [
       "<iframe width=\"900\" height=\"650\" src=\"https://courses.edx.org/asset-v1:MITx+18.02.2x+2T2022+type@asset+block/threejs_u9_CutSpherePlane.html\" frameborder=\"0\" allow=\"accelerometer; autoplay; clipboard-write; encrypted-media; gyroscope; picture-in-picture\" allowfullscreen></iframe>\n"
      ],
      "text/plain": [
       "<IPython.core.display.HTML object>"
      ]
     },
     "metadata": {},
     "output_type": "display_data"
    }
   ],
   "source": [
    "%%html\n",
    "<iframe width=\"900\" height=\"650\" src=\"https://courses.edx.org/asset-v1:MITx+18.02.2x+2T2022+type@asset+block/threejs_u9_CutSpherePlane.html\" frameborder=\"0\" allow=\"accelerometer; autoplay; clipboard-write; encrypted-media; gyroscope; picture-in-picture\" allowfullscreen></iframe>"
   ]
  },
  {
   "cell_type": "markdown",
   "id": "9595ca42-22fd-4820-9fc7-9d59dacfd907",
   "metadata": {},
   "source": [
    "### **Solution**:\n",
    "### The integrand will be $1\\mathop{dV}$, which we have seen becomes\n",
    "## $$ \\rho^2 \\sin(\\phi) \\mathop{d\\rho}\\mathop{d\\phi}\\mathop{d\\theta}  $$\n",
    "\n",
    "### We still need to find the integration endpoints, that is, fill in $A,B,C,D,E$, and $F$ in:\n",
    "## $$ \\int_{\\theta = A}^{B} \\int_{\\phi = C}^{D} \\int_{\\rho = E}^{F} \\rho^2 \\sin(\\phi) \\mathop{d\\rho}\\mathop{d\\phi}\\mathop{d\\theta} $$\n",
    "\n",
    "### We begin with $E$ and $F$. We need to answer the question: given values of $\\theta$ and $\\phi$, what are the first and last values of $\\rho$ within the solid of integration?\n",
    "\n",
    "### We can visualize this question by imagining a ray from the origin with a direction described by $\\theta$ and $\\phi$. Then $E$ is the value of $\\rho$ when the ray first strikes the half-lens, and $F$ is the value of $\\rho$ when the ray exits the half-lens.\n",
    "\n",
    "### **Half Lens With Ray**"
   ]
  },
  {
   "cell_type": "code",
   "execution_count": 7,
   "id": "1a411850-57df-44a2-ac8d-c6f31ee9a6d9",
   "metadata": {
    "jupyter": {
     "source_hidden": true
    },
    "tags": []
   },
   "outputs": [
    {
     "data": {
      "text/html": [
       "<iframe width=\"900\" height=\"650\" src=\"https://courses.edx.org/asset-v1:MITx+18.02.2x+2T2022+type@asset+block/threejs_u9_LensRay.html\" frameborder=\"0\" allow=\"accelerometer; autoplay; clipboard-write; encrypted-media; gyroscope; picture-in-picture\" allowfullscreen></iframe>\n"
      ],
      "text/plain": [
       "<IPython.core.display.HTML object>"
      ]
     },
     "metadata": {},
     "output_type": "display_data"
    }
   ],
   "source": [
    "%%html\n",
    "<iframe width=\"900\" height=\"650\" src=\"https://courses.edx.org/asset-v1:MITx+18.02.2x+2T2022+type@asset+block/threejs_u9_LensRay.html\" frameborder=\"0\" allow=\"accelerometer; autoplay; clipboard-write; encrypted-media; gyroscope; picture-in-picture\" allowfullscreen></iframe>"
   ]
  },
  {
   "cell_type": "markdown",
   "id": "f90aa186-7668-4f74-9374-e6cfab3be0af",
   "metadata": {},
   "source": [
    "### Since the sphere has radius $1$, we find that $F=1$.\n",
    "\n",
    "### For $E$, we know that the $z$-coordinate is $1$ when the ray enters the sphere. Using $z=\\rho \\cos(\\phi)$, this means\n",
    "## $$ \\text{(When ray enters half-lens)} \\frac{1}{\\sqrt{2}} = \\rho \\cos(\\phi) $$\n",
    "\n",
    "### Solving for $\\rho$ gives us $\\displaystyle \\rho = \\frac{1}{\\sqrt{2}}\\sec(\\phi)$. We have found that $\\displaystyle E = \\frac{1}{\\sqrt{2}} \\sec(\\phi)$.\n",
    "\n",
    "### Next we find $C$ and $D$. These represent the minimum and maximum values of $\\phi$ within the half-lens, in other words, how far north/south the solid extends. Since the solid goes through the $z$-axis, the smallest value of $\\phi$ is $0$, so $C=0$.\n",
    "\n",
    "### To find $D$, we need to know the value of $\\phi$ at the edges of the half-lens. If we draw a picture of the slice in the $yz$-plane, we can find that $\\displaystyle \\phi=\\frac{\\pi}{4}$ (since the shape is rotationally symmetric, the slice in the $yz$-plane is also the slice in the $xz$-plane).\n",
    "![img](img/img-13-05.png)\n",
    "\n",
    "### If the picture is not convincing, then we can instead notice that the points on this rim of the half-lens are on the intersection of the sphere $\\rho = 1$ and the plane $\\displaystyle z=\\frac{1}{\\sqrt{2}}$. Therefore, we must have:\n",
    "## $$ \\begin{array} {rcl} \\rho=1 & \\text{and} & \\displaystyle z=\\frac{1}{\\sqrt{2}} \\\\ \\, & \\text{equivalently} & \\, \\\\ \\rho=1 & \\text{and} & \\displaystyle \\rho \\cos(\\phi) = \\frac{1}{\\sqrt{2}} \\end{array}  $$\n",
    "\n",
    "### Substituting the first equation into the second, we see that $\\displaystyle \\phi = \\frac{\\pi}{4}$ (using the fact that $\\phi$ must lie in the interval $\\displaystyle \\left[0,\\frac{\\pi}{4}\\right]$). Thus, $\\displaystyle D = \\frac{\\pi}{4}$.\n",
    "\n",
    "### Finally we have the $\\theta$ endpoints $A$ and $B$. Since the half-lens goes all the way around the $z$-axis, we have $A=0$ and $B=2\\pi$.\n",
    "\n",
    "### Therefore, the area is given by:\n",
    "## $$ \\int_{\\theta = 0}^{2\\pi} \\int_{\\phi = 0}^{\\frac{\\pi}{4}} \\int_{\\rho = \\frac{1}{\\sqrt{2}}\\sec(\\phi)}^{1} \\rho^2 \\sin(\\phi) \\mathop{d\\rho}\\mathop{d\\phi}\\mathop{d\\theta} $$\n",
    "\n",
    "### **Remark 6.2**\n",
    "### Probably the most surprising part of the above example is the appearance of $\\displaystyle \\frac{1}{\\cos(\\phi)}$ or $\\sec(\\phi)$. But recall that in polar coordinates the equation $r = \\sec(\\theta)$ describes a vertical line going through $(1,0)$. So it is not so surprising that $\\rho = \\sec(\\phi)$ describes a higher-dimensional analogue, that is, a horizontal plane.\n"
   ]
  },
  {
   "cell_type": "markdown",
   "id": "4d9191a1-ad0c-4b1d-8b6b-0acfdae52be6",
   "metadata": {},
   "source": [
    "### **Evaluating the integral**\n",
    "\n",
    "### To finish the above example, we need to evaluate the integral:\n",
    "## $$ \\int_{\\theta = 0}^{2\\pi} \\int_{\\phi = 0}^{\\frac{\\pi}{4}} \\int_{\\rho = \\frac{1}{\\sqrt{2}}\\sec(\\phi)}^{1} \\rho^2 \\sin(\\phi) \\mathop{d\\rho}\\mathop{d\\phi}\\mathop{d\\theta} $$\n",
    "\n",
    "## $$ \\begin{array} {rcl} \\displaystyle \\int_{\\theta = 0}^{2\\pi} \\int_{\\phi = 0}^{\\frac{\\pi}{4}} \\int_{\\rho = \\frac{1}{\\sqrt{2}}\\sec(\\phi)}^{1} \\rho^2 \\sin(\\phi) \\mathop{d\\rho}\\mathop{d\\phi}\\mathop{d\\theta} & = & \\displaystyle \\int_{\\theta = 0}^{2\\pi} \\int_{\\phi = 0}^{\\frac{\\pi}{4}} \\left. \\frac{\\rho^3}{3} \\sin(\\phi) \\right|_{\\rho = \\frac{1}{\\sqrt{2}}\\sec(\\phi)}^{1} \\mathop{d\\phi}\\mathop{d\\theta} \\\\ \\, & = & \\displaystyle \\int_{\\theta = 0}^{2\\pi} \\int_{\\phi = 0}^{\\frac{\\pi}{4}} \\left( \\frac{\\sin(\\phi)}{3} - \\frac{\\sin(\\phi)}{5\\sqrt{2}\\cos^3(\\phi)} \\right) \\mathop{d\\phi}\\mathop{d\\theta} \\end{array} $$\n",
    "\n",
    "### Doing a $u$-substitution, we find that \n",
    "## $$ \\int \\frac{\\sin(\\phi)}{5\\sqrt{2}\\cos^3(\\phi)} \\mathop{d\\phi} = \\frac{1}{12 \\sqrt{2} \\cos^2(\\phi)} + C $$\n",
    "\n",
    "### Therefore:\n",
    "## $$ \\begin{array} {rcl} \\displaystyle \\int_{\\theta = 0}^{2\\pi} \\int_{\\phi = 0}^{\\frac{\\pi}{4}} \\left( \\frac{\\sin(\\phi)}{3} - \\frac{\\sin(\\phi)}{5\\sqrt{2}\\cos^3(\\phi)} \\right) \\mathop{d\\phi}\\mathop{d\\theta} & = & \\displaystyle \\int_{\\theta=0}^{2\\pi} \\left.\\left(\\frac{-\\cos(\\phi)}{3} - \\frac{1}{12\\sqrt{2}\\cos^2(\\phi)} \\right)\\right|_{\\phi=0}^{\\phi=\\frac{\\pi}{4}} \\mathop{d\\theta} \\\\ \\, & = & \\displaystyle \\int_{\\theta=0}^{2\\pi} \\frac{-\\sqrt{2}}{6} - \\frac{1}{6\\sqrt{2}}+\\frac{1}{3}+\\frac{1}{12\\sqrt{2}} \\mathop{d\\theta} \\end{array} $$\n",
    "\n",
    "### Using\n",
    "\n",
    "## $$ \\frac{\\sqrt{2}}{6} = \\frac{1}{3\\sqrt{2}} $$\n",
    "\n",
    "### we can combine all the terms with $\\sqrt{2}$ in the denominator to get \n",
    "## $$ \\frac{1}{\\sqrt{2}}\\left(\\frac{-1}{3} - \\frac{1}{6} + \\frac{1}{12} \\right) = \\frac{-5}{12\\sqrt{2}} $$\n",
    "\n",
    "### Thus,\n",
    "## $$ \\begin{array} {rcl} \\displaystyle \\int_{\\theta=0}^{2\\pi} \\frac{-\\sqrt{2}}{6} - \\frac{1}{6\\sqrt{2}}+\\frac{1}{3}+\\frac{1}{12\\sqrt{2}} \\mathop{d\\theta} & = & \\displaystyle \\int_{\\theta=0}^{2\\pi} \\frac{1}{3} - \\frac{5}{12\\sqrt{2}} \\mathop{d\\theta} \\\\ \\, & = & \\displaystyle \\left. \\left( \\frac{\\theta}{3}-\\frac{5\\theta}{12\\sqrt{2}} \\right) \\right|_{\\theta=0}^{2\\pi} \\\\ \\, & = & \\displaystyle \\boxed{\\frac{2\\pi}{3}-\\frac{5\\pi}{6\\sqrt{2}}} \\end{array} $$"
   ]
  },
  {
   "cell_type": "markdown",
   "id": "e8a2fc7f-d4e4-49b4-950f-e60047b6983a",
   "metadata": {},
   "source": [
    "## Applications\n",
    "\n",
    "### **Suitable Applications**\n",
    "### We can use spherical coordinates to solve any of the integration problems we have seen before, including volume problems, mass problems, average value problems, and moment of inertia.\n",
    "\n",
    "### We usually choose to use spherical coordinates because it happens to be easier to set up the endpoints of integration in spherical coordinates. This would happen if the shape is a portion of a sphere, for example. Sometimes using spherical coordinates can also simplify the integrand.\n",
    "\n",
    "### One integral problem that is particularly well-suited to spherical coordinates is computing the **gravitational attraction** between a solid and a point mass.\n",
    "\n",
    "### **Gravitational Attraction Between a Solid and a Point Mass**\n",
    "\n",
    "### Newton's Law of Gravitational Attraction tells us that between a point mass $m_1$ and a point mass $m_2$ there is a gravitational force with magnitude proportional to $\\displaystyle \\frac{m_1 m_2}{d^2}$ where $d$ is the distance between the masses.\n",
    "\n",
    "### But how do you extend this to planets with non-uniform density and asteroids with odd shapes?\n",
    "\n",
    "### This problem can be solved using integrals. We will add up (integrate) the gravitational force exerted by each point of the solid, and in total, this gives us the gravitational force exerted by the solid.\n",
    "## $$ \\text{Gravitational attraction exerted by}\\, R = \\int_R \\text{Gravitational force exerted by each point} $$\n",
    "\n",
    "### You will see that using spherical coordinates will often simplify these gravitational attraction integrals."
   ]
  },
  {
   "cell_type": "markdown",
   "id": "cf2e2eee-5f9a-4148-9570-6397d2c282fe",
   "metadata": {},
   "source": [
    "### Let's fill in more details\n",
    "\n",
    "### First, we use a coordinate system that places a point mass $m$ at the origin. Then we assume a solid $R$ exerts a force on this point mass in some direction towards $R$.\n",
    "\n",
    "### We may imagine chopping $R$ into many small pieces of mass $\\Delta M$. Letting $(x,y,z)$ represent the position of one of these pieces, the gravitational force exerted by that piece will have intensity:\n",
    "## $$ \\text{(intensity of force)} \\quad \\frac{G\\mathop{\\Delta M} m}{|\\langle x,y,z \\rangle|^2} = \\frac{G\\mathop{\\Delta M} m}{\\rho^2} $$\n",
    "\n",
    "### where we have used the spherical coordinate $\\rho$ which is the distance to $(x,y,z)$ from the origin.\n",
    "\n",
    "### The direction of the gravitational force exerted by that piece will be a unit vector pointing at $(x,y,z)$:\n",
    "## $$ \\text{(direction of force)} \\quad \\frac{\\langle x,y,z \\rangle}{|\\langle x,y,z \\rangle|} = \\frac{\\langle x,y,z \\rangle}\\rho{} $$\n",
    "\n",
    "### Thus, we can represent the force by a vector:\n",
    "## $$ \\text{(Vector of force exerted by piece}\\, \\Delta M\\text{)}\\quad \\vec{F} = \\frac{G\\mathop{\\Delta M}m}{\\rho^2} \\frac{\\langle x,y,z \\rangle}{\\rho} = \\frac{G\\mathop{\\Delta M}m}{\\rho^3}\\langle x,y,z \\rangle $$\n",
    "\n",
    "### We can integrate this (vector) quantity across the entire solid $R$ to get the vector representing the net force exerted by $R$ on the point mass. We use the fact that the mass of a small piece of $R$ is the density $\\delta$ times its volume. This leads to the following theorem:\n",
    "\n",
    "### **Theorem**\n",
    "### Suppose $R$ is a solid with density $\\delta$ and a point mass $m$ is placed at the origin. Then the vector representing the gravitational attraction between $m$ and $R$ is given by:\n",
    "## $$ \\text{(Vector of force exerted by}\\,R\\text{)}\\quad \\vec{F} = \\iiint_R \\frac{G m \\langle x,y,z \\rangle}{\\rho^3}\\delta \\mathop{dV} $$\n",
    "\n",
    "### **Remark 8.2**\n",
    "### In the above theorem, we are integrating a vector quantity $\\langle x,y,z \\rangle$. This means that we get each component of $\\vec{F}$ by integrating with that component of the vector $\\langle x,y,z \\rangle$. Equivalently:\n",
    "## $$ \\text{(}x\\text{-component of force)}\\quad \\vec{F}\\cdot \\hat{i} = \\iiint_R \\frac{G m x}{\\rho^3}\\delta \\mathop{dV} $$\n",
    "## $$ \\text{(}y\\text{-component of force)}\\quad \\vec{F}\\cdot \\hat{j} = \\iiint_R \\frac{G m y}{\\rho^3}\\delta \\mathop{dV} $$\n",
    "## $$ \\text{(}z\\text{-component of force)}\\quad \\vec{F}\\cdot \\hat{k} = \\iiint_R \\frac{G m z}{\\rho^3}\\delta \\mathop{dV} $$\n",
    "\n",
    "### In a moment we will see how using spherical coordinates can further simplify this integral."
   ]
  },
  {
   "cell_type": "markdown",
   "id": "ddc88826-4be6-4f08-8cfd-be098523c6ee",
   "metadata": {},
   "source": [
    "## Gravitational attraction in spherical coordinates\n",
    "\n",
    "### Here again is the main result of the previous page:\n",
    "\n",
    "(5.133)\n",
    "There are two ways we can simplify the computation of this integral.\n",
    "\n",
    "Simplification 1: center  along the -axis\n",
    "If at all possible, we will try to set up our coordinate system so that gravitational force will point only along the -axis (one way of accomplishing this is to choose the -axis to be a line of symmetry for ). This simplifies the integral because it means we know the  and  components will be zero, so there is only one integral to compute instead of three:\n",
    "\n",
    "(5.134)\n",
    "Of course it might not be that simple to zero out the  and  components, so this simplification is only a guideline.\n",
    "\n",
    "Simplification 2: convert to spherical coordinates\n",
    "We already see  within the integral (in the denominator). If we had to use rectangular coordinates, we would replace  by , so the denominator would become . This nasty fractional exponent is a strong indication that we should try to use spherical coordinates instead.\n",
    "\n",
    "To do so, we need to convert  and  to spherical coordinates. In fact, this has the bonus effect of canceling out the  in the denominator. If we re-write the above integral using:\n",
    "\n",
    " \t\t\t\t \t(5.135)\n",
    " \t\t\t\t \t(5.136)\n",
    "then the new integral is:\n",
    "\n",
    "(5.137)\n",
    "This new integral (in spherical coordinates) looks much more manageable. The constants  and  can come outside the integral, which leaves only  and the density .\n",
    "\n",
    "Example of Newton's Theorem\n",
    "The following example can be generalized to give Newton's Theorem (see bottom of page).\n",
    "Example 9.1 A point mass on the surface of the Earth has mass . Assuming the Earth has mass , radius , and constant density, what is the strength of the gravitational force exerted by the Earth on ?\n",
    "\n",
    "Solution: Our first approximation would be to model the Earth as just a point mass  at a distance of  from . Then Newton's law of gravitation gives us a force with intensity:\n",
    "\n",
    "(5.138)\n",
    "Let's see how this approximation compares to the exact answer by doing out the integral.\n",
    "\n",
    "We arrange a coordinate system so that the point mass  is at the origin, and the Earth sits on top of the -plane, with center at . The resulting force will point only in the  direction, and is therefore given by:\n",
    "\n",
    "(5.139)\n",
    "We need to know the value of , the mass density of the Earth. Assuming  is a constant, it is equal to the mass  divided by Earth's volume, which is . This, along with  and , can come outside the integral:\n",
    "\n",
    "(5.140)\n",
    "Now we need to figure the bounds for the triple integral. Since the Earth sits above the -plane, the bounds for  go from  to . Since the Earth goes all the way around the -axis, the bounds for  go from  to .\n",
    "\n",
    "Finally the bounds for  go from  to  (they are not simply  to  since the Earth is not centered at the origin). We obtain  by expressing the sphere in spherical coordinates:\n",
    "\n",
    "(5.141)\n",
    "and\n",
    "\n",
    "(5.142)\n",
    "One may recall that in polar coordinates,  is the equation for a circle centered at , which makes the appearance of  less surprising.\n",
    "\n",
    "Thus we have the integral:\n",
    "\n",
    " \t\t\t\t \t(5.143)\n",
    " \t \t\t\t \t(5.144)\n",
    " \t \t\t\t \t(5.145)\n",
    " \t \t\t\t \t(5.146)\n",
    " \t \t\t\t \t(5.147)\n",
    " \t \t\t\t \t(5.148)\n",
    "In the end, our final answer is exactly the same as our first approximation!\n",
    "\n",
    "Newton's Theorem\n",
    "In the above special case, we saw that the answer is the same if we simply model our planet with constant density as a point mass. This result is known as Newton's Theorem:\n",
    "\n",
    "Theorem (Newton's Theorem) If a planet has constant density, then one may compute the gravitational attraction between the planet and a point mass on its surface by modeling the planet as a point mass placed at its center.\n",
    "This is a big shortcut (skipping a triple integral) in this common case. But of course in other cases there is no such shortcut."
   ]
  }
 ],
 "metadata": {
  "kernelspec": {
   "display_name": "Python 3 (ipykernel)",
   "language": "python",
   "name": "python3"
  },
  "language_info": {
   "codemirror_mode": {
    "name": "ipython",
    "version": 3
   },
   "file_extension": ".py",
   "mimetype": "text/x-python",
   "name": "python",
   "nbconvert_exporter": "python",
   "pygments_lexer": "ipython3",
   "version": "3.8.13"
  }
 },
 "nbformat": 4,
 "nbformat_minor": 5
}
