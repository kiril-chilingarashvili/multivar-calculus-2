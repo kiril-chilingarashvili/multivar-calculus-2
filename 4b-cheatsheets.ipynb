{
 "cells": [
  {
   "cell_type": "markdown",
   "id": "d1b5ac87-1882-4ae1-a980-c84ea606a824",
   "metadata": {},
   "source": [
    "# Unit 4: Triple Integrals - Part b - Spherical Coordinates"
   ]
  },
  {
   "cell_type": "markdown",
   "id": "e6a49e4b-3b53-4c24-8f52-26359b4aff21",
   "metadata": {},
   "source": []
  }
 ],
 "metadata": {
  "kernelspec": {
   "display_name": "Python 3 (ipykernel)",
   "language": "python",
   "name": "python3"
  },
  "language_info": {
   "codemirror_mode": {
    "name": "ipython",
    "version": 3
   },
   "file_extension": ".py",
   "mimetype": "text/x-python",
   "name": "python",
   "nbconvert_exporter": "python",
   "pygments_lexer": "ipython3",
   "version": "3.8.13"
  }
 },
 "nbformat": 4,
 "nbformat_minor": 5
}
