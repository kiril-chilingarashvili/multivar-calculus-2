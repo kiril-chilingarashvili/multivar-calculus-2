{
 "cells": [
  {
   "cell_type": "markdown",
   "id": "d1b5ac87-1882-4ae1-a980-c84ea606a824",
   "metadata": {},
   "source": [
    "# Unit 4: Triple Integrals - Part b - Spherical Coordinates"
   ]
  },
  {
   "cell_type": "markdown",
   "id": "e6a49e4b-3b53-4c24-8f52-26359b4aff21",
   "metadata": {},
   "source": [
    "## Introduction\n",
    "\n",
    "### In the previous lecture, we started computing triple integrals over 3D solids in rectangular and cylindrical coordinates. In this lecture, you will learn about a third coordinate system that is frequently useful for triple integrals: **spherical coordinates**, written as $\\rho,\\phi$, and $\\theta$.\n",
    "\n",
    "### The outline of this lecture is as follows. First we will go over what $\\rho,\\phi$, and $\\theta$ represent, and how to convert between them and rectangular $x,y,z$ coordinates. Next we will give a derivation of the volume form $\\mathop{dV} = \\rho^2 \\sin(\\phi) \\mathop{d\\phi}\\mathop{d\\rho}\\mathop{d\\theta}$. Finally we will practice setting up the endpoints of a triple integral using spherical coordinates.\n",
    "\n",
    "### **Objectives**\n",
    "### By the end of this lecture and recitation, you will be able to:\n",
    "### 1. Find the rectangular, cylindrical, and **spherical coordinates** of a given point in 3D space.\n",
    "### 2. Set up and solve integrals using spherical coordinates, including finding the **limits of integration** for appropriate 3D solids (e.g. portions of spheres).\n",
    "### 3. **Solve gravitational attraction problems** in three dimensions using spherical coordinates."
   ]
  },
  {
   "cell_type": "markdown",
   "id": "7eabb691-2a58-4b99-bbfe-93c3205d96bd",
   "metadata": {},
   "source": []
  }
 ],
 "metadata": {
  "kernelspec": {
   "display_name": "Python 3 (ipykernel)",
   "language": "python",
   "name": "python3"
  },
  "language_info": {
   "codemirror_mode": {
    "name": "ipython",
    "version": 3
   },
   "file_extension": ".py",
   "mimetype": "text/x-python",
   "name": "python",
   "nbconvert_exporter": "python",
   "pygments_lexer": "ipython3",
   "version": "3.8.13"
  }
 },
 "nbformat": 4,
 "nbformat_minor": 5
}
