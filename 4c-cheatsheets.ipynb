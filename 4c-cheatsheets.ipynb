{
 "cells": [
  {
   "cell_type": "markdown",
   "id": "3b7edfbb-5c0e-4e1b-ac6b-b526df64ef44",
   "metadata": {},
   "source": [
    "# Unit 4: Triple Integrals - Part c - Review"
   ]
  },
  {
   "cell_type": "markdown",
   "id": "a7ff13ad-553a-49e8-bc85-27a6269b4d2b",
   "metadata": {},
   "source": []
  }
 ],
 "metadata": {
  "kernelspec": {
   "display_name": "Python 3 (ipykernel)",
   "language": "python",
   "name": "python3"
  },
  "language_info": {
   "codemirror_mode": {
    "name": "ipython",
    "version": 3
   },
   "file_extension": ".py",
   "mimetype": "text/x-python",
   "name": "python",
   "nbconvert_exporter": "python",
   "pygments_lexer": "ipython3",
   "version": "3.8.13"
  }
 },
 "nbformat": 4,
 "nbformat_minor": 5
}
